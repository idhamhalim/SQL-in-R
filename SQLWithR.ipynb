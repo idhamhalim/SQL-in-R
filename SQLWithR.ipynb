{
 "cells": [
  {
   "cell_type": "markdown",
   "metadata": {},
   "source": [
    "# 5. SQL Fundamentals with R\n",
    "\n",
    "## 5.1. What is SQL?\n",
    "\n",
    "- Is a domain-specific programming language to store, manipulate and retrieve data in/from relational database systems.\n",
    "- It includes two main types of statements:\n",
    "    - Data Definition Language (DDL): To create, alter, or drop data structures in an SQL system\n",
    "    - Data Manipulating Language (DML): To store, retrieve, modify, delete, insert and update data in database\n",
    "- Different versions of SQL are being used in different relational database systems (e.g. Oracle, Sql Server, DB2, SQLite)\n",
    "<br><br>\n",
    "\n",
    "### 5.1.1. DDL Statements\n",
    "\n",
    "#### 5.1.1.1. <font color=red>CREATE TABLE</font> : To create a new table in database\n",
    "- <b>Format:</b>\n",
    "    - CREATE TABLE table_name (list of columns);\n",
    "- <b>Example:</b>\n",
    "    - CREATE TABLE book(\n",
    "                        book_id PRIMARY KEY,\n",
    "                        book_title,\n",
    "                        book_author,\n",
    "                        book_publisher,\n",
    "                        book_publish_date\n",
    "                        );\n",
    "\n",
    "======================================================================================================================                        \n",
    "#### 5.1.1.2. <font color=red>ALTER TABLE</font> : To alter (change) structure of a table in database\n",
    "- <b>Format:</b>\n",
    "    - ALTER TABLE table_name <b>RENAME TO new_table_name</b>;\n",
    "    - ALTER TABLE table_name <b>ADD COLUMN (list of columns)</b>;\n",
    "- <b>Example:</b>\n",
    "    - ALTER TABLE book RENAME TO books;\n",
    "    - ALTER TABLE book ADD COLUMN (book_page_number);\n",
    "\n",
    "======================================================================================================================    \n",
    "#### 5.1.1.3. <font color=red>DROP TABLE</font> : To drop (delete) a table in database\n",
    "- <b>Format:</b>\n",
    "    - DROP TABLE IF EXISTS table_name;\n",
    "- <b>Example:</b>\n",
    "    - DROP TABLE IF EXISTS books;\n",
    "\n",
    "======================================================================================================================                        \n",
    "### 5.1.2. DML Statements\n",
    "\n",
    "#### 5.1.2.1. <font color=red>INSERT INTO</font> : To insert a new row into a table in database\n",
    "- <b>Format:</b>\n",
    "    - INSERT INTO table_name (list of columns) VALUES (list of values);\n",
    "- <b>Example:</b>\n",
    "    - INSERT INTO books (book_id, book_title, book_author, book_publisher, book_publish_date)<br> \n",
    "    VALUES (45987, 'War and Peace', 'Leo Tolstoy', 'The Russian Messenger', 1868);\n",
    "\n",
    "====================================================================================================================== \n",
    "\n",
    "#### 5.1.2.2. <font color=red>UPDATE</font> : To update data of an existing row of a table in database\n",
    "- <b>Format:</b>\n",
    "    - UPDATE table_name SET col1=val1, col2=val2, ..., coln=valn [WHERE criteria];\n",
    "- <b>Example:</b>\n",
    "    - UPDATE books SET book_publish_date=1869 WHERE book_id=45987;\n",
    "\n",
    "====================================================================================================================== \n",
    "\n",
    "#### 5.1.2.3. <font color=red>DELETE</font> : To delete one or more rows of a table in database\n",
    "- <b>Format:</b>\n",
    "    - DELETE table_name WHERE criteria;\n",
    "- <b>Example:</b>\n",
    "    - DELETE books WHERE book_id=45987;\n",
    "    - DELETE books WHERE book_author='Leo Tolstoy';\n",
    "\n",
    "====================================================================================================================== \n",
    "#### 5.1.2.4. <font color=red>SELECT</font> : To retrieve one or more rows of a table in database\n",
    "- <b>Format:</b>\n",
    "    - SELECT list of columns<br>\n",
    "    FROM table_name<br>\n",
    "    WHERE criteria;\n",
    "- <b>Example:</b>\n",
    "    - SELECT book_title, book_author FROM books WHERE book_id=45987;\n",
    "    - SELECT * FROM books WHERE book_author='Leo Tolstoy';\n",
    "\n",
    "====================================================================================================================== \n"
   ]
  },
  {
   "cell_type": "markdown",
   "metadata": {},
   "source": [
    "## 5.2. SQLite\n",
    "\n",
    "- Is a high-reliability, embedded, full-featured, public-domain, SQL database engine. \n",
    "- Does not have a separate server process. It reads and writes directly to ordinary disk files.\n",
    "- Is the most used database engine in the world\n",
    "    - Android devices\n",
    "    - iPhone and iOS devices\n",
    "    - MAC devices\n",
    "    - Windows10 machines\n",
    "    - Most television sets and set-top cable boxes\n",
    "    - Most automotive multimedia systems\n",
    "    - ...\n",
    "<br><br>\n",
    "- RSQLite is the easiest way to use a database from R because the package itself contains SQLite; no external software is needed. "
   ]
  },
  {
   "cell_type": "code",
   "execution_count": 1,
   "metadata": {},
   "outputs": [
    {
     "name": "stdout",
     "output_type": "stream",
     "text": [
      "package 'RSQLite' successfully unpacked and MD5 sums checked\n",
      "\n",
      "The downloaded binary packages are in\n",
      "\tC:\\Users\\iddy9\\AppData\\Local\\Temp\\RtmpOKy58N\\downloaded_packages\n"
     ]
    }
   ],
   "source": [
    "install.packages('RSQLite', repos = \"https://cloud.r-project.org\")"
   ]
  },
  {
   "cell_type": "markdown",
   "metadata": {},
   "source": [
    "<font color=blue><br>\n",
    "- RSQLite is a DBI-compatible interface which means you primarily use functions defined in the DBI package<br>\n",
    "- So you should always start by loading DBI, not RSQLite\n",
    "</font>"
   ]
  },
  {
   "cell_type": "code",
   "execution_count": 9,
   "metadata": {
    "collapsed": true
   },
   "outputs": [],
   "source": [
    "library(DBI)"
   ]
  },
  {
   "cell_type": "code",
   "execution_count": 10,
   "metadata": {
    "collapsed": true
   },
   "outputs": [],
   "source": [
    "RShowDoc(\"RSQLite\", package=\"RSQLite\")"
   ]
  },
  {
   "cell_type": "markdown",
   "metadata": {},
   "source": [
    "### 5.2.1. dbconnect()\n",
    "\n",
    "- To create a new SQLite database and assign a filename"
   ]
  },
  {
   "cell_type": "code",
   "execution_count": 11,
   "metadata": {
    "collapsed": true
   },
   "outputs": [],
   "source": [
    "db1 <- dbConnect(RSQLite::SQLite(), \"mySeconddb.sqlite\")"
   ]
  },
  {
   "cell_type": "code",
   "execution_count": 12,
   "metadata": {},
   "outputs": [
    {
     "data": {
      "text/plain": [
       "<SQLiteConnection>\n",
       "  Path: C:\\Users\\iddy9\\Downloads\\Datastar2\\sql in R\\mySeconddb.sqlite\n",
       "  Extensions: TRUE"
      ]
     },
     "metadata": {},
     "output_type": "display_data"
    }
   ],
   "source": [
    "db1"
   ]
  },
  {
   "cell_type": "markdown",
   "metadata": {},
   "source": [
    "### 5.2.2. dbWriteTable()\n",
    "\n",
    "- To copy an R data frame into a SQLite database"
   ]
  },
  {
   "cell_type": "code",
   "execution_count": 14,
   "metadata": {
    "collapsed": true
   },
   "outputs": [],
   "source": [
    "dbWriteTable(db1, \"mtcars\", mtcars, overwrite=T)\n",
    "dbWriteTable(db1, \"iris\", iris, overwrite=T)"
   ]
  },
  {
   "cell_type": "code",
   "execution_count": 15,
   "metadata": {},
   "outputs": [
    {
     "data": {
      "text/html": [
       "<ol class=list-inline>\n",
       "\t<li>'iris'</li>\n",
       "\t<li>'mtcars'</li>\n",
       "</ol>\n"
      ],
      "text/latex": [
       "\\begin{enumerate*}\n",
       "\\item 'iris'\n",
       "\\item 'mtcars'\n",
       "\\end{enumerate*}\n"
      ],
      "text/markdown": [
       "1. 'iris'\n",
       "2. 'mtcars'\n",
       "\n",
       "\n"
      ],
      "text/plain": [
       "[1] \"iris\"   \"mtcars\""
      ]
     },
     "metadata": {},
     "output_type": "display_data"
    }
   ],
   "source": [
    "# To have a list of tables\n",
    "dbListTables(db1)"
   ]
  },
  {
   "cell_type": "markdown",
   "metadata": {},
   "source": [
    "### 5.2.3. dbGetQuery()\n",
    "\n",
    "- To run a SQL statement (Quesry)"
   ]
  },
  {
   "cell_type": "code",
   "execution_count": 10,
   "metadata": {},
   "outputs": [
    {
     "data": {
      "text/html": [
       "<table>\n",
       "<thead><tr><th scope=col>mpg</th><th scope=col>cyl</th><th scope=col>disp</th><th scope=col>hp</th><th scope=col>drat</th><th scope=col>wt</th><th scope=col>qsec</th><th scope=col>vs</th><th scope=col>am</th><th scope=col>gear</th><th scope=col>carb</th></tr></thead>\n",
       "<tbody>\n",
       "\t<tr><td>21.0 </td><td>6    </td><td>160  </td><td>110  </td><td>3.90 </td><td>2.620</td><td>16.46</td><td>0    </td><td>1    </td><td>4    </td><td>4    </td></tr>\n",
       "\t<tr><td>21.0 </td><td>6    </td><td>160  </td><td>110  </td><td>3.90 </td><td>2.875</td><td>17.02</td><td>0    </td><td>1    </td><td>4    </td><td>4    </td></tr>\n",
       "\t<tr><td>22.8 </td><td>4    </td><td>108  </td><td> 93  </td><td>3.85 </td><td>2.320</td><td>18.61</td><td>1    </td><td>1    </td><td>4    </td><td>1    </td></tr>\n",
       "</tbody>\n",
       "</table>\n"
      ],
      "text/latex": [
       "\\begin{tabular}{r|lllllllllll}\n",
       " mpg & cyl & disp & hp & drat & wt & qsec & vs & am & gear & carb\\\\\n",
       "\\hline\n",
       "\t 21.0  & 6     & 160   & 110   & 3.90  & 2.620 & 16.46 & 0     & 1     & 4     & 4    \\\\\n",
       "\t 21.0  & 6     & 160   & 110   & 3.90  & 2.875 & 17.02 & 0     & 1     & 4     & 4    \\\\\n",
       "\t 22.8  & 4     & 108   &  93   & 3.85  & 2.320 & 18.61 & 1     & 1     & 4     & 1    \\\\\n",
       "\\end{tabular}\n"
      ],
      "text/markdown": [
       "\n",
       "mpg | cyl | disp | hp | drat | wt | qsec | vs | am | gear | carb | \n",
       "|---|---|---|\n",
       "| 21.0  | 6     | 160   | 110   | 3.90  | 2.620 | 16.46 | 0     | 1     | 4     | 4     | \n",
       "| 21.0  | 6     | 160   | 110   | 3.90  | 2.875 | 17.02 | 0     | 1     | 4     | 4     | \n",
       "| 22.8  | 4     | 108   |  93   | 3.85  | 2.320 | 18.61 | 1     | 1     | 4     | 1     | \n",
       "\n",
       "\n"
      ],
      "text/plain": [
       "  mpg  cyl disp hp  drat wt    qsec  vs am gear carb\n",
       "1 21.0 6   160  110 3.90 2.620 16.46 0  1  4    4   \n",
       "2 21.0 6   160  110 3.90 2.875 17.02 0  1  4    4   \n",
       "3 22.8 4   108   93 3.85 2.320 18.61 1  1  4    1   "
      ]
     },
     "metadata": {},
     "output_type": "display_data"
    },
    {
     "data": {
      "text/html": [
       "<table>\n",
       "<thead><tr><th scope=col>mpg</th><th scope=col>cyl</th><th scope=col>qsec</th><th scope=col>carb</th></tr></thead>\n",
       "<tbody>\n",
       "\t<tr><td>21.0 </td><td>6    </td><td>16.46</td><td>4    </td></tr>\n",
       "\t<tr><td>21.0 </td><td>6    </td><td>17.02</td><td>4    </td></tr>\n",
       "\t<tr><td>22.8 </td><td>4    </td><td>18.61</td><td>1    </td></tr>\n",
       "</tbody>\n",
       "</table>\n"
      ],
      "text/latex": [
       "\\begin{tabular}{r|llll}\n",
       " mpg & cyl & qsec & carb\\\\\n",
       "\\hline\n",
       "\t 21.0  & 6     & 16.46 & 4    \\\\\n",
       "\t 21.0  & 6     & 17.02 & 4    \\\\\n",
       "\t 22.8  & 4     & 18.61 & 1    \\\\\n",
       "\\end{tabular}\n"
      ],
      "text/markdown": [
       "\n",
       "mpg | cyl | qsec | carb | \n",
       "|---|---|---|\n",
       "| 21.0  | 6     | 16.46 | 4     | \n",
       "| 21.0  | 6     | 17.02 | 4     | \n",
       "| 22.8  | 4     | 18.61 | 1     | \n",
       "\n",
       "\n"
      ],
      "text/plain": [
       "  mpg  cyl qsec  carb\n",
       "1 21.0 6   16.46 4   \n",
       "2 21.0 6   17.02 4   \n",
       "3 22.8 4   18.61 1   "
      ]
     },
     "metadata": {},
     "output_type": "display_data"
    }
   ],
   "source": [
    "dbGetQuery(db1, 'SELECT * FROM mtcars LIMIT 3')\n",
    "dbGetQuery(db1, 'SELECT mpg, cyl, qsec, carb FROM mtcars LIMIT 3')"
   ]
  },
  {
   "cell_type": "code",
   "execution_count": 16,
   "metadata": {},
   "outputs": [
    {
     "data": {
      "text/html": [
       "<table>\n",
       "<thead><tr><th scope=col>mpg</th><th scope=col>cyl</th><th scope=col>disp</th><th scope=col>hp</th><th scope=col>drat</th><th scope=col>wt</th><th scope=col>qsec</th><th scope=col>vs</th><th scope=col>am</th><th scope=col>gear</th><th scope=col>carb</th></tr></thead>\n",
       "<tbody>\n",
       "\t<tr><td>14.3 </td><td>8    </td><td>360.0</td><td>245  </td><td>3.21 </td><td>3.570</td><td>15.84</td><td>0    </td><td>0    </td><td>3    </td><td>4    </td></tr>\n",
       "\t<tr><td>16.4 </td><td>8    </td><td>275.8</td><td>180  </td><td>3.07 </td><td>4.070</td><td>17.40</td><td>0    </td><td>0    </td><td>3    </td><td>3    </td></tr>\n",
       "\t<tr><td>17.3 </td><td>8    </td><td>275.8</td><td>180  </td><td>3.07 </td><td>3.730</td><td>17.60</td><td>0    </td><td>0    </td><td>3    </td><td>3    </td></tr>\n",
       "\t<tr><td>15.2 </td><td>8    </td><td>275.8</td><td>180  </td><td>3.07 </td><td>3.780</td><td>18.00</td><td>0    </td><td>0    </td><td>3    </td><td>3    </td></tr>\n",
       "\t<tr><td>10.4 </td><td>8    </td><td>472.0</td><td>205  </td><td>2.93 </td><td>5.250</td><td>17.98</td><td>0    </td><td>0    </td><td>3    </td><td>4    </td></tr>\n",
       "\t<tr><td>10.4 </td><td>8    </td><td>460.0</td><td>215  </td><td>3.00 </td><td>5.424</td><td>17.82</td><td>0    </td><td>0    </td><td>3    </td><td>4    </td></tr>\n",
       "\t<tr><td>14.7 </td><td>8    </td><td>440.0</td><td>230  </td><td>3.23 </td><td>5.345</td><td>17.42</td><td>0    </td><td>0    </td><td>3    </td><td>4    </td></tr>\n",
       "\t<tr><td>13.3 </td><td>8    </td><td>350.0</td><td>245  </td><td>3.73 </td><td>3.840</td><td>15.41</td><td>0    </td><td>0    </td><td>3    </td><td>4    </td></tr>\n",
       "\t<tr><td>15.8 </td><td>8    </td><td>351.0</td><td>264  </td><td>4.22 </td><td>3.170</td><td>14.50</td><td>0    </td><td>1    </td><td>5    </td><td>4    </td></tr>\n",
       "\t<tr><td>15.0 </td><td>8    </td><td>301.0</td><td>335  </td><td>3.54 </td><td>3.570</td><td>14.60</td><td>0    </td><td>1    </td><td>5    </td><td>8    </td></tr>\n",
       "</tbody>\n",
       "</table>\n"
      ],
      "text/latex": [
       "\\begin{tabular}{r|lllllllllll}\n",
       " mpg & cyl & disp & hp & drat & wt & qsec & vs & am & gear & carb\\\\\n",
       "\\hline\n",
       "\t 14.3  & 8     & 360.0 & 245   & 3.21  & 3.570 & 15.84 & 0     & 0     & 3     & 4    \\\\\n",
       "\t 16.4  & 8     & 275.8 & 180   & 3.07  & 4.070 & 17.40 & 0     & 0     & 3     & 3    \\\\\n",
       "\t 17.3  & 8     & 275.8 & 180   & 3.07  & 3.730 & 17.60 & 0     & 0     & 3     & 3    \\\\\n",
       "\t 15.2  & 8     & 275.8 & 180   & 3.07  & 3.780 & 18.00 & 0     & 0     & 3     & 3    \\\\\n",
       "\t 10.4  & 8     & 472.0 & 205   & 2.93  & 5.250 & 17.98 & 0     & 0     & 3     & 4    \\\\\n",
       "\t 10.4  & 8     & 460.0 & 215   & 3.00  & 5.424 & 17.82 & 0     & 0     & 3     & 4    \\\\\n",
       "\t 14.7  & 8     & 440.0 & 230   & 3.23  & 5.345 & 17.42 & 0     & 0     & 3     & 4    \\\\\n",
       "\t 13.3  & 8     & 350.0 & 245   & 3.73  & 3.840 & 15.41 & 0     & 0     & 3     & 4    \\\\\n",
       "\t 15.8  & 8     & 351.0 & 264   & 4.22  & 3.170 & 14.50 & 0     & 1     & 5     & 4    \\\\\n",
       "\t 15.0  & 8     & 301.0 & 335   & 3.54  & 3.570 & 14.60 & 0     & 1     & 5     & 8    \\\\\n",
       "\\end{tabular}\n"
      ],
      "text/markdown": [
       "\n",
       "mpg | cyl | disp | hp | drat | wt | qsec | vs | am | gear | carb | \n",
       "|---|---|---|---|---|---|---|---|---|---|\n",
       "| 14.3  | 8     | 360.0 | 245   | 3.21  | 3.570 | 15.84 | 0     | 0     | 3     | 4     | \n",
       "| 16.4  | 8     | 275.8 | 180   | 3.07  | 4.070 | 17.40 | 0     | 0     | 3     | 3     | \n",
       "| 17.3  | 8     | 275.8 | 180   | 3.07  | 3.730 | 17.60 | 0     | 0     | 3     | 3     | \n",
       "| 15.2  | 8     | 275.8 | 180   | 3.07  | 3.780 | 18.00 | 0     | 0     | 3     | 3     | \n",
       "| 10.4  | 8     | 472.0 | 205   | 2.93  | 5.250 | 17.98 | 0     | 0     | 3     | 4     | \n",
       "| 10.4  | 8     | 460.0 | 215   | 3.00  | 5.424 | 17.82 | 0     | 0     | 3     | 4     | \n",
       "| 14.7  | 8     | 440.0 | 230   | 3.23  | 5.345 | 17.42 | 0     | 0     | 3     | 4     | \n",
       "| 13.3  | 8     | 350.0 | 245   | 3.73  | 3.840 | 15.41 | 0     | 0     | 3     | 4     | \n",
       "| 15.8  | 8     | 351.0 | 264   | 4.22  | 3.170 | 14.50 | 0     | 1     | 5     | 4     | \n",
       "| 15.0  | 8     | 301.0 | 335   | 3.54  | 3.570 | 14.60 | 0     | 1     | 5     | 8     | \n",
       "\n",
       "\n"
      ],
      "text/plain": [
       "   mpg  cyl disp  hp  drat wt    qsec  vs am gear carb\n",
       "1  14.3 8   360.0 245 3.21 3.570 15.84 0  0  3    4   \n",
       "2  16.4 8   275.8 180 3.07 4.070 17.40 0  0  3    3   \n",
       "3  17.3 8   275.8 180 3.07 3.730 17.60 0  0  3    3   \n",
       "4  15.2 8   275.8 180 3.07 3.780 18.00 0  0  3    3   \n",
       "5  10.4 8   472.0 205 2.93 5.250 17.98 0  0  3    4   \n",
       "6  10.4 8   460.0 215 3.00 5.424 17.82 0  0  3    4   \n",
       "7  14.7 8   440.0 230 3.23 5.345 17.42 0  0  3    4   \n",
       "8  13.3 8   350.0 245 3.73 3.840 15.41 0  0  3    4   \n",
       "9  15.8 8   351.0 264 4.22 3.170 14.50 0  1  5    4   \n",
       "10 15.0 8   301.0 335 3.54 3.570 14.60 0  1  5    8   "
      ]
     },
     "metadata": {},
     "output_type": "display_data"
    }
   ],
   "source": [
    "dbGetQuery(db1, 'SELECT * FROM mtcars WHERE hp > 178')"
   ]
  },
  {
   "cell_type": "code",
   "execution_count": 23,
   "metadata": {},
   "outputs": [
    {
     "data": {
      "text/html": [
       "<table>\n",
       "<thead><tr><th scope=col>mpg</th><th scope=col>gear</th><th scope=col>cyl</th><th scope=col>hp</th><th scope=col>wt</th></tr></thead>\n",
       "<tbody>\n",
       "\t<tr><td>22.8 </td><td>4    </td><td>4    </td><td>93   </td><td>2.320</td></tr>\n",
       "\t<tr><td>24.4 </td><td>4    </td><td>4    </td><td>62   </td><td>3.190</td></tr>\n",
       "\t<tr><td>22.8 </td><td>4    </td><td>4    </td><td>95   </td><td>3.150</td></tr>\n",
       "\t<tr><td>32.4 </td><td>4    </td><td>4    </td><td>66   </td><td>2.200</td></tr>\n",
       "\t<tr><td>30.4 </td><td>4    </td><td>4    </td><td>52   </td><td>1.615</td></tr>\n",
       "\t<tr><td>33.9 </td><td>4    </td><td>4    </td><td>65   </td><td>1.835</td></tr>\n",
       "\t<tr><td>21.5 </td><td>3    </td><td>4    </td><td>97   </td><td>2.465</td></tr>\n",
       "\t<tr><td>27.3 </td><td>4    </td><td>4    </td><td>66   </td><td>1.935</td></tr>\n",
       "\t<tr><td>26.0 </td><td>5    </td><td>4    </td><td>91   </td><td>2.140</td></tr>\n",
       "</tbody>\n",
       "</table>\n"
      ],
      "text/latex": [
       "\\begin{tabular}{r|lllll}\n",
       " mpg & gear & cyl & hp & wt\\\\\n",
       "\\hline\n",
       "\t 22.8  & 4     & 4     & 93    & 2.320\\\\\n",
       "\t 24.4  & 4     & 4     & 62    & 3.190\\\\\n",
       "\t 22.8  & 4     & 4     & 95    & 3.150\\\\\n",
       "\t 32.4  & 4     & 4     & 66    & 2.200\\\\\n",
       "\t 30.4  & 4     & 4     & 52    & 1.615\\\\\n",
       "\t 33.9  & 4     & 4     & 65    & 1.835\\\\\n",
       "\t 21.5  & 3     & 4     & 97    & 2.465\\\\\n",
       "\t 27.3  & 4     & 4     & 66    & 1.935\\\\\n",
       "\t 26.0  & 5     & 4     & 91    & 2.140\\\\\n",
       "\\end{tabular}\n"
      ],
      "text/markdown": [
       "\n",
       "mpg | gear | cyl | hp | wt | \n",
       "|---|---|---|---|---|---|---|---|---|\n",
       "| 22.8  | 4     | 4     | 93    | 2.320 | \n",
       "| 24.4  | 4     | 4     | 62    | 3.190 | \n",
       "| 22.8  | 4     | 4     | 95    | 3.150 | \n",
       "| 32.4  | 4     | 4     | 66    | 2.200 | \n",
       "| 30.4  | 4     | 4     | 52    | 1.615 | \n",
       "| 33.9  | 4     | 4     | 65    | 1.835 | \n",
       "| 21.5  | 3     | 4     | 97    | 2.465 | \n",
       "| 27.3  | 4     | 4     | 66    | 1.935 | \n",
       "| 26.0  | 5     | 4     | 91    | 2.140 | \n",
       "\n",
       "\n"
      ],
      "text/plain": [
       "  mpg  gear cyl hp wt   \n",
       "1 22.8 4    4   93 2.320\n",
       "2 24.4 4    4   62 3.190\n",
       "3 22.8 4    4   95 3.150\n",
       "4 32.4 4    4   66 2.200\n",
       "5 30.4 4    4   52 1.615\n",
       "6 33.9 4    4   65 1.835\n",
       "7 21.5 3    4   97 2.465\n",
       "8 27.3 4    4   66 1.935\n",
       "9 26.0 5    4   91 2.140"
      ]
     },
     "metadata": {},
     "output_type": "display_data"
    }
   ],
   "source": [
    "dbGetQuery(db1, 'SELECT mpg, gear, cyl, hp, wt FROM mtcars WHERE hp <= 100')"
   ]
  },
  {
   "cell_type": "code",
   "execution_count": 22,
   "metadata": {},
   "outputs": [
    {
     "data": {
      "text/html": [
       "<table>\n",
       "<thead><tr><th></th><th scope=col>mpg</th><th scope=col>cyl</th><th scope=col>disp</th><th scope=col>hp</th><th scope=col>drat</th><th scope=col>wt</th><th scope=col>qsec</th><th scope=col>vs</th><th scope=col>am</th><th scope=col>gear</th><th scope=col>carb</th></tr></thead>\n",
       "<tbody>\n",
       "\t<tr><th scope=row>Mazda RX4</th><td>21.0 </td><td>6    </td><td>160.0</td><td>110  </td><td>3.90 </td><td>2.620</td><td>16.46</td><td>0    </td><td>1    </td><td>4    </td><td>4    </td></tr>\n",
       "\t<tr><th scope=row>Mazda RX4 Wag</th><td>21.0 </td><td>6    </td><td>160.0</td><td>110  </td><td>3.90 </td><td>2.875</td><td>17.02</td><td>0    </td><td>1    </td><td>4    </td><td>4    </td></tr>\n",
       "\t<tr><th scope=row>Hornet 4 Drive</th><td>21.4 </td><td>6    </td><td>258.0</td><td>110  </td><td>3.08 </td><td>3.215</td><td>19.44</td><td>1    </td><td>0    </td><td>3    </td><td>1    </td></tr>\n",
       "\t<tr><th scope=row>Valiant</th><td>18.1 </td><td>6    </td><td>225.0</td><td>105  </td><td>2.76 </td><td>3.460</td><td>20.22</td><td>1    </td><td>0    </td><td>3    </td><td>1    </td></tr>\n",
       "\t<tr><th scope=row>Merc 240D</th><td>24.4 </td><td>4    </td><td>146.7</td><td> 62  </td><td>3.69 </td><td>3.190</td><td>20.00</td><td>1    </td><td>0    </td><td>4    </td><td>2    </td></tr>\n",
       "\t<tr><th scope=row>Merc 230</th><td>22.8 </td><td>4    </td><td>140.8</td><td> 95  </td><td>3.92 </td><td>3.150</td><td>22.90</td><td>1    </td><td>0    </td><td>4    </td><td>2    </td></tr>\n",
       "\t<tr><th scope=row>Merc 280</th><td>19.2 </td><td>6    </td><td>167.6</td><td>123  </td><td>3.92 </td><td>3.440</td><td>18.30</td><td>1    </td><td>0    </td><td>4    </td><td>4    </td></tr>\n",
       "\t<tr><th scope=row>Merc 280C</th><td>17.8 </td><td>6    </td><td>167.6</td><td>123  </td><td>3.92 </td><td>3.440</td><td>18.90</td><td>1    </td><td>0    </td><td>4    </td><td>4    </td></tr>\n",
       "\t<tr><th scope=row>Volvo 142E</th><td>21.4 </td><td>4    </td><td>121.0</td><td>109  </td><td>4.11 </td><td>2.780</td><td>18.60</td><td>1    </td><td>1    </td><td>4    </td><td>2    </td></tr>\n",
       "</tbody>\n",
       "</table>\n"
      ],
      "text/latex": [
       "\\begin{tabular}{r|lllllllllll}\n",
       "  & mpg & cyl & disp & hp & drat & wt & qsec & vs & am & gear & carb\\\\\n",
       "\\hline\n",
       "\tMazda RX4 & 21.0  & 6     & 160.0 & 110   & 3.90  & 2.620 & 16.46 & 0     & 1     & 4     & 4    \\\\\n",
       "\tMazda RX4 Wag & 21.0  & 6     & 160.0 & 110   & 3.90  & 2.875 & 17.02 & 0     & 1     & 4     & 4    \\\\\n",
       "\tHornet 4 Drive & 21.4  & 6     & 258.0 & 110   & 3.08  & 3.215 & 19.44 & 1     & 0     & 3     & 1    \\\\\n",
       "\tValiant & 18.1  & 6     & 225.0 & 105   & 2.76  & 3.460 & 20.22 & 1     & 0     & 3     & 1    \\\\\n",
       "\tMerc 240D & 24.4  & 4     & 146.7 &  62   & 3.69  & 3.190 & 20.00 & 1     & 0     & 4     & 2    \\\\\n",
       "\tMerc 230 & 22.8  & 4     & 140.8 &  95   & 3.92  & 3.150 & 22.90 & 1     & 0     & 4     & 2    \\\\\n",
       "\tMerc 280 & 19.2  & 6     & 167.6 & 123   & 3.92  & 3.440 & 18.30 & 1     & 0     & 4     & 4    \\\\\n",
       "\tMerc 280C & 17.8  & 6     & 167.6 & 123   & 3.92  & 3.440 & 18.90 & 1     & 0     & 4     & 4    \\\\\n",
       "\tVolvo 142E & 21.4  & 4     & 121.0 & 109   & 4.11  & 2.780 & 18.60 & 1     & 1     & 4     & 2    \\\\\n",
       "\\end{tabular}\n"
      ],
      "text/markdown": [
       "\n",
       "| <!--/--> | mpg | cyl | disp | hp | drat | wt | qsec | vs | am | gear | carb | \n",
       "|---|---|---|---|---|---|---|---|---|\n",
       "| Mazda RX4 | 21.0  | 6     | 160.0 | 110   | 3.90  | 2.620 | 16.46 | 0     | 1     | 4     | 4     | \n",
       "| Mazda RX4 Wag | 21.0  | 6     | 160.0 | 110   | 3.90  | 2.875 | 17.02 | 0     | 1     | 4     | 4     | \n",
       "| Hornet 4 Drive | 21.4  | 6     | 258.0 | 110   | 3.08  | 3.215 | 19.44 | 1     | 0     | 3     | 1     | \n",
       "| Valiant | 18.1  | 6     | 225.0 | 105   | 2.76  | 3.460 | 20.22 | 1     | 0     | 3     | 1     | \n",
       "| Merc 240D | 24.4  | 4     | 146.7 |  62   | 3.69  | 3.190 | 20.00 | 1     | 0     | 4     | 2     | \n",
       "| Merc 230 | 22.8  | 4     | 140.8 |  95   | 3.92  | 3.150 | 22.90 | 1     | 0     | 4     | 2     | \n",
       "| Merc 280 | 19.2  | 6     | 167.6 | 123   | 3.92  | 3.440 | 18.30 | 1     | 0     | 4     | 4     | \n",
       "| Merc 280C | 17.8  | 6     | 167.6 | 123   | 3.92  | 3.440 | 18.90 | 1     | 0     | 4     | 4     | \n",
       "| Volvo 142E | 21.4  | 4     | 121.0 | 109   | 4.11  | 2.780 | 18.60 | 1     | 1     | 4     | 2     | \n",
       "\n",
       "\n"
      ],
      "text/plain": [
       "               mpg  cyl disp  hp  drat wt    qsec  vs am gear carb\n",
       "Mazda RX4      21.0 6   160.0 110 3.90 2.620 16.46 0  1  4    4   \n",
       "Mazda RX4 Wag  21.0 6   160.0 110 3.90 2.875 17.02 0  1  4    4   \n",
       "Hornet 4 Drive 21.4 6   258.0 110 3.08 3.215 19.44 1  0  3    1   \n",
       "Valiant        18.1 6   225.0 105 2.76 3.460 20.22 1  0  3    1   \n",
       "Merc 240D      24.4 4   146.7  62 3.69 3.190 20.00 1  0  4    2   \n",
       "Merc 230       22.8 4   140.8  95 3.92 3.150 22.90 1  0  4    2   \n",
       "Merc 280       19.2 6   167.6 123 3.92 3.440 18.30 1  0  4    4   \n",
       "Merc 280C      17.8 6   167.6 123 3.92 3.440 18.90 1  0  4    4   \n",
       "Volvo 142E     21.4 4   121.0 109 4.11 2.780 18.60 1  1  4    2   "
      ]
     },
     "metadata": {},
     "output_type": "display_data"
    }
   ],
   "source": [
    "dbGetQuery(db1, 'SELECT * FROM mtcars WHERE hp < 150 AND wt > 2.5')"
   ]
  },
  {
   "cell_type": "code",
   "execution_count": 17,
   "metadata": {
    "scrolled": true
   },
   "outputs": [
    {
     "data": {
      "text/html": [
       "<table>\n",
       "<thead><tr><th scope=col>mpg</th><th scope=col>cyl</th><th scope=col>disp</th><th scope=col>hp</th><th scope=col>drat</th><th scope=col>wt</th><th scope=col>qsec</th><th scope=col>vs</th><th scope=col>am</th><th scope=col>gear</th><th scope=col>carb</th></tr></thead>\n",
       "<tbody>\n",
       "\t<tr><td>21.0 </td><td>6    </td><td>160.0</td><td>110  </td><td>3.90 </td><td>2.620</td><td>16.46</td><td>0    </td><td>1    </td><td>4    </td><td>4    </td></tr>\n",
       "\t<tr><td>21.0 </td><td>6    </td><td>160.0</td><td>110  </td><td>3.90 </td><td>2.875</td><td>17.02</td><td>0    </td><td>1    </td><td>4    </td><td>4    </td></tr>\n",
       "\t<tr><td>21.4 </td><td>6    </td><td>258.0</td><td>110  </td><td>3.08 </td><td>3.215</td><td>19.44</td><td>1    </td><td>0    </td><td>3    </td><td>1    </td></tr>\n",
       "\t<tr><td>18.1 </td><td>6    </td><td>225.0</td><td>105  </td><td>2.76 </td><td>3.460</td><td>20.22</td><td>1    </td><td>0    </td><td>3    </td><td>1    </td></tr>\n",
       "\t<tr><td>24.4 </td><td>4    </td><td>146.7</td><td> 62  </td><td>3.69 </td><td>3.190</td><td>20.00</td><td>1    </td><td>0    </td><td>4    </td><td>2    </td></tr>\n",
       "\t<tr><td>22.8 </td><td>4    </td><td>140.8</td><td> 95  </td><td>3.92 </td><td>3.150</td><td>22.90</td><td>1    </td><td>0    </td><td>4    </td><td>2    </td></tr>\n",
       "\t<tr><td>19.2 </td><td>6    </td><td>167.6</td><td>123  </td><td>3.92 </td><td>3.440</td><td>18.30</td><td>1    </td><td>0    </td><td>4    </td><td>4    </td></tr>\n",
       "\t<tr><td>17.8 </td><td>6    </td><td>167.6</td><td>123  </td><td>3.92 </td><td>3.440</td><td>18.90</td><td>1    </td><td>0    </td><td>4    </td><td>4    </td></tr>\n",
       "\t<tr><td>15.5 </td><td>8    </td><td>318.0</td><td>150  </td><td>2.76 </td><td>3.520</td><td>16.87</td><td>0    </td><td>0    </td><td>3    </td><td>2    </td></tr>\n",
       "\t<tr><td>15.2 </td><td>8    </td><td>304.0</td><td>150  </td><td>3.15 </td><td>3.435</td><td>17.30</td><td>0    </td><td>0    </td><td>3    </td><td>2    </td></tr>\n",
       "\t<tr><td>21.4 </td><td>4    </td><td>121.0</td><td>109  </td><td>4.11 </td><td>2.780</td><td>18.60</td><td>1    </td><td>1    </td><td>4    </td><td>2    </td></tr>\n",
       "</tbody>\n",
       "</table>\n"
      ],
      "text/latex": [
       "\\begin{tabular}{r|lllllllllll}\n",
       " mpg & cyl & disp & hp & drat & wt & qsec & vs & am & gear & carb\\\\\n",
       "\\hline\n",
       "\t 21.0  & 6     & 160.0 & 110   & 3.90  & 2.620 & 16.46 & 0     & 1     & 4     & 4    \\\\\n",
       "\t 21.0  & 6     & 160.0 & 110   & 3.90  & 2.875 & 17.02 & 0     & 1     & 4     & 4    \\\\\n",
       "\t 21.4  & 6     & 258.0 & 110   & 3.08  & 3.215 & 19.44 & 1     & 0     & 3     & 1    \\\\\n",
       "\t 18.1  & 6     & 225.0 & 105   & 2.76  & 3.460 & 20.22 & 1     & 0     & 3     & 1    \\\\\n",
       "\t 24.4  & 4     & 146.7 &  62   & 3.69  & 3.190 & 20.00 & 1     & 0     & 4     & 2    \\\\\n",
       "\t 22.8  & 4     & 140.8 &  95   & 3.92  & 3.150 & 22.90 & 1     & 0     & 4     & 2    \\\\\n",
       "\t 19.2  & 6     & 167.6 & 123   & 3.92  & 3.440 & 18.30 & 1     & 0     & 4     & 4    \\\\\n",
       "\t 17.8  & 6     & 167.6 & 123   & 3.92  & 3.440 & 18.90 & 1     & 0     & 4     & 4    \\\\\n",
       "\t 15.5  & 8     & 318.0 & 150   & 2.76  & 3.520 & 16.87 & 0     & 0     & 3     & 2    \\\\\n",
       "\t 15.2  & 8     & 304.0 & 150   & 3.15  & 3.435 & 17.30 & 0     & 0     & 3     & 2    \\\\\n",
       "\t 21.4  & 4     & 121.0 & 109   & 4.11  & 2.780 & 18.60 & 1     & 1     & 4     & 2    \\\\\n",
       "\\end{tabular}\n"
      ],
      "text/markdown": [
       "\n",
       "mpg | cyl | disp | hp | drat | wt | qsec | vs | am | gear | carb | \n",
       "|---|---|---|---|---|---|---|---|---|---|---|\n",
       "| 21.0  | 6     | 160.0 | 110   | 3.90  | 2.620 | 16.46 | 0     | 1     | 4     | 4     | \n",
       "| 21.0  | 6     | 160.0 | 110   | 3.90  | 2.875 | 17.02 | 0     | 1     | 4     | 4     | \n",
       "| 21.4  | 6     | 258.0 | 110   | 3.08  | 3.215 | 19.44 | 1     | 0     | 3     | 1     | \n",
       "| 18.1  | 6     | 225.0 | 105   | 2.76  | 3.460 | 20.22 | 1     | 0     | 3     | 1     | \n",
       "| 24.4  | 4     | 146.7 |  62   | 3.69  | 3.190 | 20.00 | 1     | 0     | 4     | 2     | \n",
       "| 22.8  | 4     | 140.8 |  95   | 3.92  | 3.150 | 22.90 | 1     | 0     | 4     | 2     | \n",
       "| 19.2  | 6     | 167.6 | 123   | 3.92  | 3.440 | 18.30 | 1     | 0     | 4     | 4     | \n",
       "| 17.8  | 6     | 167.6 | 123   | 3.92  | 3.440 | 18.90 | 1     | 0     | 4     | 4     | \n",
       "| 15.5  | 8     | 318.0 | 150   | 2.76  | 3.520 | 16.87 | 0     | 0     | 3     | 2     | \n",
       "| 15.2  | 8     | 304.0 | 150   | 3.15  | 3.435 | 17.30 | 0     | 0     | 3     | 2     | \n",
       "| 21.4  | 4     | 121.0 | 109   | 4.11  | 2.780 | 18.60 | 1     | 1     | 4     | 2     | \n",
       "\n",
       "\n"
      ],
      "text/plain": [
       "   mpg  cyl disp  hp  drat wt    qsec  vs am gear carb\n",
       "1  21.0 6   160.0 110 3.90 2.620 16.46 0  1  4    4   \n",
       "2  21.0 6   160.0 110 3.90 2.875 17.02 0  1  4    4   \n",
       "3  21.4 6   258.0 110 3.08 3.215 19.44 1  0  3    1   \n",
       "4  18.1 6   225.0 105 2.76 3.460 20.22 1  0  3    1   \n",
       "5  24.4 4   146.7  62 3.69 3.190 20.00 1  0  4    2   \n",
       "6  22.8 4   140.8  95 3.92 3.150 22.90 1  0  4    2   \n",
       "7  19.2 6   167.6 123 3.92 3.440 18.30 1  0  4    4   \n",
       "8  17.8 6   167.6 123 3.92 3.440 18.90 1  0  4    4   \n",
       "9  15.5 8   318.0 150 2.76 3.520 16.87 0  0  3    2   \n",
       "10 15.2 8   304.0 150 3.15 3.435 17.30 0  0  3    2   \n",
       "11 21.4 4   121.0 109 4.11 2.780 18.60 1  1  4    2   "
      ]
     },
     "metadata": {},
     "output_type": "display_data"
    }
   ],
   "source": [
    "dbGetQuery(db1, 'SELECT * FROM mtcars WHERE hp < :x AND wt > :y',\n",
    "          params = list(x = 156, y = 2.5))"
   ]
  },
  {
   "cell_type": "code",
   "execution_count": 20,
   "metadata": {},
   "outputs": [
    {
     "data": {
      "text/html": [
       "<table>\n",
       "<thead><tr><th scope=col>mpg</th><th scope=col>cyl</th><th scope=col>disp</th><th scope=col>hp</th><th scope=col>drat</th><th scope=col>wt</th><th scope=col>qsec</th><th scope=col>vs</th><th scope=col>am</th><th scope=col>gear</th><th scope=col>carb</th></tr></thead>\n",
       "<tbody>\n",
       "\t<tr><td>22.8 </td><td>4    </td><td>108.0</td><td> 93  </td><td>3.85 </td><td>2.320</td><td>18.61</td><td>1    </td><td>1    </td><td>4    </td><td>1    </td></tr>\n",
       "\t<tr><td>14.3 </td><td>8    </td><td>360.0</td><td>245  </td><td>3.21 </td><td>3.570</td><td>15.84</td><td>0    </td><td>0    </td><td>3    </td><td>4    </td></tr>\n",
       "\t<tr><td>24.4 </td><td>4    </td><td>146.7</td><td> 62  </td><td>3.69 </td><td>3.190</td><td>20.00</td><td>1    </td><td>0    </td><td>4    </td><td>2    </td></tr>\n",
       "\t<tr><td>22.8 </td><td>4    </td><td>140.8</td><td> 95  </td><td>3.92 </td><td>3.150</td><td>22.90</td><td>1    </td><td>0    </td><td>4    </td><td>2    </td></tr>\n",
       "\t<tr><td>16.4 </td><td>8    </td><td>275.8</td><td>180  </td><td>3.07 </td><td>4.070</td><td>17.40</td><td>0    </td><td>0    </td><td>3    </td><td>3    </td></tr>\n",
       "\t<tr><td>17.3 </td><td>8    </td><td>275.8</td><td>180  </td><td>3.07 </td><td>3.730</td><td>17.60</td><td>0    </td><td>0    </td><td>3    </td><td>3    </td></tr>\n",
       "\t<tr><td>15.2 </td><td>8    </td><td>275.8</td><td>180  </td><td>3.07 </td><td>3.780</td><td>18.00</td><td>0    </td><td>0    </td><td>3    </td><td>3    </td></tr>\n",
       "\t<tr><td>10.4 </td><td>8    </td><td>472.0</td><td>205  </td><td>2.93 </td><td>5.250</td><td>17.98</td><td>0    </td><td>0    </td><td>3    </td><td>4    </td></tr>\n",
       "\t<tr><td>10.4 </td><td>8    </td><td>460.0</td><td>215  </td><td>3.00 </td><td>5.424</td><td>17.82</td><td>0    </td><td>0    </td><td>3    </td><td>4    </td></tr>\n",
       "\t<tr><td>14.7 </td><td>8    </td><td>440.0</td><td>230  </td><td>3.23 </td><td>5.345</td><td>17.42</td><td>0    </td><td>0    </td><td>3    </td><td>4    </td></tr>\n",
       "\t<tr><td>32.4 </td><td>4    </td><td> 78.7</td><td> 66  </td><td>4.08 </td><td>2.200</td><td>19.47</td><td>1    </td><td>1    </td><td>4    </td><td>1    </td></tr>\n",
       "\t<tr><td>30.4 </td><td>4    </td><td> 75.7</td><td> 52  </td><td>4.93 </td><td>1.615</td><td>18.52</td><td>1    </td><td>1    </td><td>4    </td><td>2    </td></tr>\n",
       "\t<tr><td>33.9 </td><td>4    </td><td> 71.1</td><td> 65  </td><td>4.22 </td><td>1.835</td><td>19.90</td><td>1    </td><td>1    </td><td>4    </td><td>1    </td></tr>\n",
       "\t<tr><td>21.5 </td><td>4    </td><td>120.1</td><td> 97  </td><td>3.70 </td><td>2.465</td><td>20.01</td><td>1    </td><td>0    </td><td>3    </td><td>1    </td></tr>\n",
       "\t<tr><td>15.5 </td><td>8    </td><td>318.0</td><td>150  </td><td>2.76 </td><td>3.520</td><td>16.87</td><td>0    </td><td>0    </td><td>3    </td><td>2    </td></tr>\n",
       "\t<tr><td>13.3 </td><td>8    </td><td>350.0</td><td>245  </td><td>3.73 </td><td>3.840</td><td>15.41</td><td>0    </td><td>0    </td><td>3    </td><td>4    </td></tr>\n",
       "\t<tr><td>19.2 </td><td>8    </td><td>400.0</td><td>175  </td><td>3.08 </td><td>3.845</td><td>17.05</td><td>0    </td><td>0    </td><td>3    </td><td>2    </td></tr>\n",
       "\t<tr><td>27.3 </td><td>4    </td><td> 79.0</td><td> 66  </td><td>4.08 </td><td>1.935</td><td>18.90</td><td>1    </td><td>1    </td><td>4    </td><td>1    </td></tr>\n",
       "\t<tr><td>26.0 </td><td>4    </td><td>120.3</td><td> 91  </td><td>4.43 </td><td>2.140</td><td>16.70</td><td>0    </td><td>1    </td><td>5    </td><td>2    </td></tr>\n",
       "\t<tr><td>15.0 </td><td>8    </td><td>301.0</td><td>335  </td><td>3.54 </td><td>3.570</td><td>14.60</td><td>0    </td><td>1    </td><td>5    </td><td>8    </td></tr>\n",
       "</tbody>\n",
       "</table>\n"
      ],
      "text/latex": [
       "\\begin{tabular}{r|lllllllllll}\n",
       " mpg & cyl & disp & hp & drat & wt & qsec & vs & am & gear & carb\\\\\n",
       "\\hline\n",
       "\t 22.8  & 4     & 108.0 &  93   & 3.85  & 2.320 & 18.61 & 1     & 1     & 4     & 1    \\\\\n",
       "\t 14.3  & 8     & 360.0 & 245   & 3.21  & 3.570 & 15.84 & 0     & 0     & 3     & 4    \\\\\n",
       "\t 24.4  & 4     & 146.7 &  62   & 3.69  & 3.190 & 20.00 & 1     & 0     & 4     & 2    \\\\\n",
       "\t 22.8  & 4     & 140.8 &  95   & 3.92  & 3.150 & 22.90 & 1     & 0     & 4     & 2    \\\\\n",
       "\t 16.4  & 8     & 275.8 & 180   & 3.07  & 4.070 & 17.40 & 0     & 0     & 3     & 3    \\\\\n",
       "\t 17.3  & 8     & 275.8 & 180   & 3.07  & 3.730 & 17.60 & 0     & 0     & 3     & 3    \\\\\n",
       "\t 15.2  & 8     & 275.8 & 180   & 3.07  & 3.780 & 18.00 & 0     & 0     & 3     & 3    \\\\\n",
       "\t 10.4  & 8     & 472.0 & 205   & 2.93  & 5.250 & 17.98 & 0     & 0     & 3     & 4    \\\\\n",
       "\t 10.4  & 8     & 460.0 & 215   & 3.00  & 5.424 & 17.82 & 0     & 0     & 3     & 4    \\\\\n",
       "\t 14.7  & 8     & 440.0 & 230   & 3.23  & 5.345 & 17.42 & 0     & 0     & 3     & 4    \\\\\n",
       "\t 32.4  & 4     &  78.7 &  66   & 4.08  & 2.200 & 19.47 & 1     & 1     & 4     & 1    \\\\\n",
       "\t 30.4  & 4     &  75.7 &  52   & 4.93  & 1.615 & 18.52 & 1     & 1     & 4     & 2    \\\\\n",
       "\t 33.9  & 4     &  71.1 &  65   & 4.22  & 1.835 & 19.90 & 1     & 1     & 4     & 1    \\\\\n",
       "\t 21.5  & 4     & 120.1 &  97   & 3.70  & 2.465 & 20.01 & 1     & 0     & 3     & 1    \\\\\n",
       "\t 15.5  & 8     & 318.0 & 150   & 2.76  & 3.520 & 16.87 & 0     & 0     & 3     & 2    \\\\\n",
       "\t 13.3  & 8     & 350.0 & 245   & 3.73  & 3.840 & 15.41 & 0     & 0     & 3     & 4    \\\\\n",
       "\t 19.2  & 8     & 400.0 & 175   & 3.08  & 3.845 & 17.05 & 0     & 0     & 3     & 2    \\\\\n",
       "\t 27.3  & 4     &  79.0 &  66   & 4.08  & 1.935 & 18.90 & 1     & 1     & 4     & 1    \\\\\n",
       "\t 26.0  & 4     & 120.3 &  91   & 4.43  & 2.140 & 16.70 & 0     & 1     & 5     & 2    \\\\\n",
       "\t 15.0  & 8     & 301.0 & 335   & 3.54  & 3.570 & 14.60 & 0     & 1     & 5     & 8    \\\\\n",
       "\\end{tabular}\n"
      ],
      "text/markdown": [
       "\n",
       "mpg | cyl | disp | hp | drat | wt | qsec | vs | am | gear | carb | \n",
       "|---|---|---|---|---|---|---|---|---|---|---|---|---|---|---|---|---|---|---|---|\n",
       "| 22.8  | 4     | 108.0 |  93   | 3.85  | 2.320 | 18.61 | 1     | 1     | 4     | 1     | \n",
       "| 14.3  | 8     | 360.0 | 245   | 3.21  | 3.570 | 15.84 | 0     | 0     | 3     | 4     | \n",
       "| 24.4  | 4     | 146.7 |  62   | 3.69  | 3.190 | 20.00 | 1     | 0     | 4     | 2     | \n",
       "| 22.8  | 4     | 140.8 |  95   | 3.92  | 3.150 | 22.90 | 1     | 0     | 4     | 2     | \n",
       "| 16.4  | 8     | 275.8 | 180   | 3.07  | 4.070 | 17.40 | 0     | 0     | 3     | 3     | \n",
       "| 17.3  | 8     | 275.8 | 180   | 3.07  | 3.730 | 17.60 | 0     | 0     | 3     | 3     | \n",
       "| 15.2  | 8     | 275.8 | 180   | 3.07  | 3.780 | 18.00 | 0     | 0     | 3     | 3     | \n",
       "| 10.4  | 8     | 472.0 | 205   | 2.93  | 5.250 | 17.98 | 0     | 0     | 3     | 4     | \n",
       "| 10.4  | 8     | 460.0 | 215   | 3.00  | 5.424 | 17.82 | 0     | 0     | 3     | 4     | \n",
       "| 14.7  | 8     | 440.0 | 230   | 3.23  | 5.345 | 17.42 | 0     | 0     | 3     | 4     | \n",
       "| 32.4  | 4     |  78.7 |  66   | 4.08  | 2.200 | 19.47 | 1     | 1     | 4     | 1     | \n",
       "| 30.4  | 4     |  75.7 |  52   | 4.93  | 1.615 | 18.52 | 1     | 1     | 4     | 2     | \n",
       "| 33.9  | 4     |  71.1 |  65   | 4.22  | 1.835 | 19.90 | 1     | 1     | 4     | 1     | \n",
       "| 21.5  | 4     | 120.1 |  97   | 3.70  | 2.465 | 20.01 | 1     | 0     | 3     | 1     | \n",
       "| 15.5  | 8     | 318.0 | 150   | 2.76  | 3.520 | 16.87 | 0     | 0     | 3     | 2     | \n",
       "| 13.3  | 8     | 350.0 | 245   | 3.73  | 3.840 | 15.41 | 0     | 0     | 3     | 4     | \n",
       "| 19.2  | 8     | 400.0 | 175   | 3.08  | 3.845 | 17.05 | 0     | 0     | 3     | 2     | \n",
       "| 27.3  | 4     |  79.0 |  66   | 4.08  | 1.935 | 18.90 | 1     | 1     | 4     | 1     | \n",
       "| 26.0  | 4     | 120.3 |  91   | 4.43  | 2.140 | 16.70 | 0     | 1     | 5     | 2     | \n",
       "| 15.0  | 8     | 301.0 | 335   | 3.54  | 3.570 | 14.60 | 0     | 1     | 5     | 8     | \n",
       "\n",
       "\n"
      ],
      "text/plain": [
       "   mpg  cyl disp  hp  drat wt    qsec  vs am gear carb\n",
       "1  22.8 4   108.0  93 3.85 2.320 18.61 1  1  4    1   \n",
       "2  14.3 8   360.0 245 3.21 3.570 15.84 0  0  3    4   \n",
       "3  24.4 4   146.7  62 3.69 3.190 20.00 1  0  4    2   \n",
       "4  22.8 4   140.8  95 3.92 3.150 22.90 1  0  4    2   \n",
       "5  16.4 8   275.8 180 3.07 4.070 17.40 0  0  3    3   \n",
       "6  17.3 8   275.8 180 3.07 3.730 17.60 0  0  3    3   \n",
       "7  15.2 8   275.8 180 3.07 3.780 18.00 0  0  3    3   \n",
       "8  10.4 8   472.0 205 2.93 5.250 17.98 0  0  3    4   \n",
       "9  10.4 8   460.0 215 3.00 5.424 17.82 0  0  3    4   \n",
       "10 14.7 8   440.0 230 3.23 5.345 17.42 0  0  3    4   \n",
       "11 32.4 4    78.7  66 4.08 2.200 19.47 1  1  4    1   \n",
       "12 30.4 4    75.7  52 4.93 1.615 18.52 1  1  4    2   \n",
       "13 33.9 4    71.1  65 4.22 1.835 19.90 1  1  4    1   \n",
       "14 21.5 4   120.1  97 3.70 2.465 20.01 1  0  3    1   \n",
       "15 15.5 8   318.0 150 2.76 3.520 16.87 0  0  3    2   \n",
       "16 13.3 8   350.0 245 3.73 3.840 15.41 0  0  3    4   \n",
       "17 19.2 8   400.0 175 3.08 3.845 17.05 0  0  3    2   \n",
       "18 27.3 4    79.0  66 4.08 1.935 18.90 1  1  4    1   \n",
       "19 26.0 4   120.3  91 4.43 2.140 16.70 0  1  5    2   \n",
       "20 15.0 8   301.0 335 3.54 3.570 14.60 0  1  5    8   "
      ]
     },
     "metadata": {},
     "output_type": "display_data"
    }
   ],
   "source": [
    "dbGetQuery(db1, 'SELECT * FROM mtcars WHERE hp < :x OR wt > :y',\n",
    "          params = list(x = 100, y = 3.5))"
   ]
  },
  {
   "cell_type": "code",
   "execution_count": 26,
   "metadata": {},
   "outputs": [
    {
     "data": {
      "text/html": [
       "<table>\n",
       "<thead><tr><th></th><th scope=col>mpg</th><th scope=col>cyl</th><th scope=col>disp</th><th scope=col>hp</th><th scope=col>drat</th><th scope=col>wt</th><th scope=col>qsec</th><th scope=col>vs</th><th scope=col>am</th><th scope=col>gear</th><th scope=col>carb</th></tr></thead>\n",
       "<tbody>\n",
       "\t<tr><th scope=row>Hornet Sportabout</th><td>18.7 </td><td>8    </td><td>360.0</td><td>175  </td><td>3.15 </td><td>3.440</td><td>17.02</td><td>0    </td><td>0    </td><td>3    </td><td>2    </td></tr>\n",
       "\t<tr><th scope=row>Merc 450SE</th><td>16.4 </td><td>8    </td><td>275.8</td><td>180  </td><td>3.07 </td><td>4.070</td><td>17.40</td><td>0    </td><td>0    </td><td>3    </td><td>3    </td></tr>\n",
       "\t<tr><th scope=row>Merc 450SL</th><td>17.3 </td><td>8    </td><td>275.8</td><td>180  </td><td>3.07 </td><td>3.730</td><td>17.60</td><td>0    </td><td>0    </td><td>3    </td><td>3    </td></tr>\n",
       "\t<tr><th scope=row>Merc 450SLC</th><td>15.2 </td><td>8    </td><td>275.8</td><td>180  </td><td>3.07 </td><td>3.780</td><td>18.00</td><td>0    </td><td>0    </td><td>3    </td><td>3    </td></tr>\n",
       "\t<tr><th scope=row>Dodge Challenger</th><td>15.5 </td><td>8    </td><td>318.0</td><td>150  </td><td>2.76 </td><td>3.520</td><td>16.87</td><td>0    </td><td>0    </td><td>3    </td><td>2    </td></tr>\n",
       "\t<tr><th scope=row>AMC Javelin</th><td>15.2 </td><td>8    </td><td>304.0</td><td>150  </td><td>3.15 </td><td>3.435</td><td>17.30</td><td>0    </td><td>0    </td><td>3    </td><td>2    </td></tr>\n",
       "\t<tr><th scope=row>Pontiac Firebird</th><td>19.2 </td><td>8    </td><td>400.0</td><td>175  </td><td>3.08 </td><td>3.845</td><td>17.05</td><td>0    </td><td>0    </td><td>3    </td><td>2    </td></tr>\n",
       "\t<tr><th scope=row>Ferrari Dino</th><td>19.7 </td><td>6    </td><td>145.0</td><td>175  </td><td>3.62 </td><td>2.770</td><td>15.50</td><td>0    </td><td>1    </td><td>5    </td><td>6    </td></tr>\n",
       "</tbody>\n",
       "</table>\n"
      ],
      "text/latex": [
       "\\begin{tabular}{r|lllllllllll}\n",
       "  & mpg & cyl & disp & hp & drat & wt & qsec & vs & am & gear & carb\\\\\n",
       "\\hline\n",
       "\tHornet Sportabout & 18.7  & 8     & 360.0 & 175   & 3.15  & 3.440 & 17.02 & 0     & 0     & 3     & 2    \\\\\n",
       "\tMerc 450SE & 16.4  & 8     & 275.8 & 180   & 3.07  & 4.070 & 17.40 & 0     & 0     & 3     & 3    \\\\\n",
       "\tMerc 450SL & 17.3  & 8     & 275.8 & 180   & 3.07  & 3.730 & 17.60 & 0     & 0     & 3     & 3    \\\\\n",
       "\tMerc 450SLC & 15.2  & 8     & 275.8 & 180   & 3.07  & 3.780 & 18.00 & 0     & 0     & 3     & 3    \\\\\n",
       "\tDodge Challenger & 15.5  & 8     & 318.0 & 150   & 2.76  & 3.520 & 16.87 & 0     & 0     & 3     & 2    \\\\\n",
       "\tAMC Javelin & 15.2  & 8     & 304.0 & 150   & 3.15  & 3.435 & 17.30 & 0     & 0     & 3     & 2    \\\\\n",
       "\tPontiac Firebird & 19.2  & 8     & 400.0 & 175   & 3.08  & 3.845 & 17.05 & 0     & 0     & 3     & 2    \\\\\n",
       "\tFerrari Dino & 19.7  & 6     & 145.0 & 175   & 3.62  & 2.770 & 15.50 & 0     & 1     & 5     & 6    \\\\\n",
       "\\end{tabular}\n"
      ],
      "text/markdown": [
       "\n",
       "| <!--/--> | mpg | cyl | disp | hp | drat | wt | qsec | vs | am | gear | carb | \n",
       "|---|---|---|---|---|---|---|---|\n",
       "| Hornet Sportabout | 18.7  | 8     | 360.0 | 175   | 3.15  | 3.440 | 17.02 | 0     | 0     | 3     | 2     | \n",
       "| Merc 450SE | 16.4  | 8     | 275.8 | 180   | 3.07  | 4.070 | 17.40 | 0     | 0     | 3     | 3     | \n",
       "| Merc 450SL | 17.3  | 8     | 275.8 | 180   | 3.07  | 3.730 | 17.60 | 0     | 0     | 3     | 3     | \n",
       "| Merc 450SLC | 15.2  | 8     | 275.8 | 180   | 3.07  | 3.780 | 18.00 | 0     | 0     | 3     | 3     | \n",
       "| Dodge Challenger | 15.5  | 8     | 318.0 | 150   | 2.76  | 3.520 | 16.87 | 0     | 0     | 3     | 2     | \n",
       "| AMC Javelin | 15.2  | 8     | 304.0 | 150   | 3.15  | 3.435 | 17.30 | 0     | 0     | 3     | 2     | \n",
       "| Pontiac Firebird | 19.2  | 8     | 400.0 | 175   | 3.08  | 3.845 | 17.05 | 0     | 0     | 3     | 2     | \n",
       "| Ferrari Dino | 19.7  | 6     | 145.0 | 175   | 3.62  | 2.770 | 15.50 | 0     | 1     | 5     | 6     | \n",
       "\n",
       "\n"
      ],
      "text/plain": [
       "                  mpg  cyl disp  hp  drat wt    qsec  vs am gear carb\n",
       "Hornet Sportabout 18.7 8   360.0 175 3.15 3.440 17.02 0  0  3    2   \n",
       "Merc 450SE        16.4 8   275.8 180 3.07 4.070 17.40 0  0  3    3   \n",
       "Merc 450SL        17.3 8   275.8 180 3.07 3.730 17.60 0  0  3    3   \n",
       "Merc 450SLC       15.2 8   275.8 180 3.07 3.780 18.00 0  0  3    3   \n",
       "Dodge Challenger  15.5 8   318.0 150 2.76 3.520 16.87 0  0  3    2   \n",
       "AMC Javelin       15.2 8   304.0 150 3.15 3.435 17.30 0  0  3    2   \n",
       "Pontiac Firebird  19.2 8   400.0 175 3.08 3.845 17.05 0  0  3    2   \n",
       "Ferrari Dino      19.7 6   145.0 175 3.62 2.770 15.50 0  1  5    6   "
      ]
     },
     "metadata": {},
     "output_type": "display_data"
    },
    {
     "data": {
      "text/html": [
       "<table>\n",
       "<thead><tr><th></th><th scope=col>mpg</th><th scope=col>cyl</th><th scope=col>disp</th><th scope=col>hp</th><th scope=col>drat</th><th scope=col>wt</th><th scope=col>qsec</th><th scope=col>vs</th><th scope=col>am</th><th scope=col>gear</th><th scope=col>carb</th></tr></thead>\n",
       "<tbody>\n",
       "\t<tr><th scope=row>Hornet Sportabout</th><td>18.7 </td><td>8    </td><td>360.0</td><td>175  </td><td>3.15 </td><td>3.440</td><td>17.02</td><td>0    </td><td>0    </td><td>3    </td><td>2    </td></tr>\n",
       "\t<tr><th scope=row>Merc 450SE</th><td>16.4 </td><td>8    </td><td>275.8</td><td>180  </td><td>3.07 </td><td>4.070</td><td>17.40</td><td>0    </td><td>0    </td><td>3    </td><td>3    </td></tr>\n",
       "\t<tr><th scope=row>Merc 450SL</th><td>17.3 </td><td>8    </td><td>275.8</td><td>180  </td><td>3.07 </td><td>3.730</td><td>17.60</td><td>0    </td><td>0    </td><td>3    </td><td>3    </td></tr>\n",
       "\t<tr><th scope=row>Merc 450SLC</th><td>15.2 </td><td>8    </td><td>275.8</td><td>180  </td><td>3.07 </td><td>3.780</td><td>18.00</td><td>0    </td><td>0    </td><td>3    </td><td>3    </td></tr>\n",
       "\t<tr><th scope=row>Dodge Challenger</th><td>15.5 </td><td>8    </td><td>318.0</td><td>150  </td><td>2.76 </td><td>3.520</td><td>16.87</td><td>0    </td><td>0    </td><td>3    </td><td>2    </td></tr>\n",
       "\t<tr><th scope=row>AMC Javelin</th><td>15.2 </td><td>8    </td><td>304.0</td><td>150  </td><td>3.15 </td><td>3.435</td><td>17.30</td><td>0    </td><td>0    </td><td>3    </td><td>2    </td></tr>\n",
       "\t<tr><th scope=row>Pontiac Firebird</th><td>19.2 </td><td>8    </td><td>400.0</td><td>175  </td><td>3.08 </td><td>3.845</td><td>17.05</td><td>0    </td><td>0    </td><td>3    </td><td>2    </td></tr>\n",
       "\t<tr><th scope=row>Ferrari Dino</th><td>19.7 </td><td>6    </td><td>145.0</td><td>175  </td><td>3.62 </td><td>2.770</td><td>15.50</td><td>0    </td><td>1    </td><td>5    </td><td>6    </td></tr>\n",
       "</tbody>\n",
       "</table>\n"
      ],
      "text/latex": [
       "\\begin{tabular}{r|lllllllllll}\n",
       "  & mpg & cyl & disp & hp & drat & wt & qsec & vs & am & gear & carb\\\\\n",
       "\\hline\n",
       "\tHornet Sportabout & 18.7  & 8     & 360.0 & 175   & 3.15  & 3.440 & 17.02 & 0     & 0     & 3     & 2    \\\\\n",
       "\tMerc 450SE & 16.4  & 8     & 275.8 & 180   & 3.07  & 4.070 & 17.40 & 0     & 0     & 3     & 3    \\\\\n",
       "\tMerc 450SL & 17.3  & 8     & 275.8 & 180   & 3.07  & 3.730 & 17.60 & 0     & 0     & 3     & 3    \\\\\n",
       "\tMerc 450SLC & 15.2  & 8     & 275.8 & 180   & 3.07  & 3.780 & 18.00 & 0     & 0     & 3     & 3    \\\\\n",
       "\tDodge Challenger & 15.5  & 8     & 318.0 & 150   & 2.76  & 3.520 & 16.87 & 0     & 0     & 3     & 2    \\\\\n",
       "\tAMC Javelin & 15.2  & 8     & 304.0 & 150   & 3.15  & 3.435 & 17.30 & 0     & 0     & 3     & 2    \\\\\n",
       "\tPontiac Firebird & 19.2  & 8     & 400.0 & 175   & 3.08  & 3.845 & 17.05 & 0     & 0     & 3     & 2    \\\\\n",
       "\tFerrari Dino & 19.7  & 6     & 145.0 & 175   & 3.62  & 2.770 & 15.50 & 0     & 1     & 5     & 6    \\\\\n",
       "\\end{tabular}\n"
      ],
      "text/markdown": [
       "\n",
       "| <!--/--> | mpg | cyl | disp | hp | drat | wt | qsec | vs | am | gear | carb | \n",
       "|---|---|---|---|---|---|---|---|\n",
       "| Hornet Sportabout | 18.7  | 8     | 360.0 | 175   | 3.15  | 3.440 | 17.02 | 0     | 0     | 3     | 2     | \n",
       "| Merc 450SE | 16.4  | 8     | 275.8 | 180   | 3.07  | 4.070 | 17.40 | 0     | 0     | 3     | 3     | \n",
       "| Merc 450SL | 17.3  | 8     | 275.8 | 180   | 3.07  | 3.730 | 17.60 | 0     | 0     | 3     | 3     | \n",
       "| Merc 450SLC | 15.2  | 8     | 275.8 | 180   | 3.07  | 3.780 | 18.00 | 0     | 0     | 3     | 3     | \n",
       "| Dodge Challenger | 15.5  | 8     | 318.0 | 150   | 2.76  | 3.520 | 16.87 | 0     | 0     | 3     | 2     | \n",
       "| AMC Javelin | 15.2  | 8     | 304.0 | 150   | 3.15  | 3.435 | 17.30 | 0     | 0     | 3     | 2     | \n",
       "| Pontiac Firebird | 19.2  | 8     | 400.0 | 175   | 3.08  | 3.845 | 17.05 | 0     | 0     | 3     | 2     | \n",
       "| Ferrari Dino | 19.7  | 6     | 145.0 | 175   | 3.62  | 2.770 | 15.50 | 0     | 1     | 5     | 6     | \n",
       "\n",
       "\n"
      ],
      "text/plain": [
       "                  mpg  cyl disp  hp  drat wt    qsec  vs am gear carb\n",
       "Hornet Sportabout 18.7 8   360.0 175 3.15 3.440 17.02 0  0  3    2   \n",
       "Merc 450SE        16.4 8   275.8 180 3.07 4.070 17.40 0  0  3    3   \n",
       "Merc 450SL        17.3 8   275.8 180 3.07 3.730 17.60 0  0  3    3   \n",
       "Merc 450SLC       15.2 8   275.8 180 3.07 3.780 18.00 0  0  3    3   \n",
       "Dodge Challenger  15.5 8   318.0 150 2.76 3.520 16.87 0  0  3    2   \n",
       "AMC Javelin       15.2 8   304.0 150 3.15 3.435 17.30 0  0  3    2   \n",
       "Pontiac Firebird  19.2 8   400.0 175 3.08 3.845 17.05 0  0  3    2   \n",
       "Ferrari Dino      19.7 6   145.0 175 3.62 2.770 15.50 0  1  5    6   "
      ]
     },
     "metadata": {},
     "output_type": "display_data"
    }
   ],
   "source": [
    "dbGetQuery(db1, 'SELECT * FROM mtcars WHERE hp IN (:x, :y, :z)',\n",
    "          params = list(x = 150, y = 180, z = 175))\n",
    "\n",
    "dbGetQuery(db1, 'SELECT * FROM mtcars WHERE hp = :x OR hp = :y or hp = :z',\n",
    "          params = list(x = 150, y = 180, z = 175))"
   ]
  },
  {
   "cell_type": "code",
   "execution_count": 45,
   "metadata": {},
   "outputs": [
    {
     "data": {
      "text/html": [
       "<table>\n",
       "<thead><tr><th></th><th scope=col>mpg</th><th scope=col>cyl</th><th scope=col>disp</th><th scope=col>hp</th><th scope=col>drat</th><th scope=col>wt</th><th scope=col>qsec</th><th scope=col>vs</th><th scope=col>am</th><th scope=col>gear</th><th scope=col>carb</th></tr></thead>\n",
       "<tbody>\n",
       "\t<tr><th scope=row>Hornet Sportabout</th><td>18.7 </td><td>8    </td><td>360.0</td><td>175  </td><td>3.15 </td><td>3.440</td><td>17.02</td><td>0    </td><td>0    </td><td>3    </td><td>2    </td></tr>\n",
       "\t<tr><th scope=row>Merc 450SE</th><td>16.4 </td><td>8    </td><td>275.8</td><td>180  </td><td>3.07 </td><td>4.070</td><td>17.40</td><td>0    </td><td>0    </td><td>3    </td><td>3    </td></tr>\n",
       "\t<tr><th scope=row>Merc 450SL</th><td>17.3 </td><td>8    </td><td>275.8</td><td>180  </td><td>3.07 </td><td>3.730</td><td>17.60</td><td>0    </td><td>0    </td><td>3    </td><td>3    </td></tr>\n",
       "\t<tr><th scope=row>Merc 450SLC</th><td>15.2 </td><td>8    </td><td>275.8</td><td>180  </td><td>3.07 </td><td>3.780</td><td>18.00</td><td>0    </td><td>0    </td><td>3    </td><td>3    </td></tr>\n",
       "\t<tr><th scope=row>Dodge Challenger</th><td>15.5 </td><td>8    </td><td>318.0</td><td>150  </td><td>2.76 </td><td>3.520</td><td>16.87</td><td>0    </td><td>0    </td><td>3    </td><td>2    </td></tr>\n",
       "\t<tr><th scope=row>AMC Javelin</th><td>15.2 </td><td>8    </td><td>304.0</td><td>150  </td><td>3.15 </td><td>3.435</td><td>17.30</td><td>0    </td><td>0    </td><td>3    </td><td>2    </td></tr>\n",
       "\t<tr><th scope=row>Pontiac Firebird</th><td>19.2 </td><td>8    </td><td>400.0</td><td>175  </td><td>3.08 </td><td>3.845</td><td>17.05</td><td>0    </td><td>0    </td><td>3    </td><td>2    </td></tr>\n",
       "\t<tr><th scope=row>Ferrari Dino</th><td>19.7 </td><td>6    </td><td>145.0</td><td>175  </td><td>3.62 </td><td>2.770</td><td>15.50</td><td>0    </td><td>1    </td><td>5    </td><td>6    </td></tr>\n",
       "</tbody>\n",
       "</table>\n"
      ],
      "text/latex": [
       "\\begin{tabular}{r|lllllllllll}\n",
       "  & mpg & cyl & disp & hp & drat & wt & qsec & vs & am & gear & carb\\\\\n",
       "\\hline\n",
       "\tHornet Sportabout & 18.7  & 8     & 360.0 & 175   & 3.15  & 3.440 & 17.02 & 0     & 0     & 3     & 2    \\\\\n",
       "\tMerc 450SE & 16.4  & 8     & 275.8 & 180   & 3.07  & 4.070 & 17.40 & 0     & 0     & 3     & 3    \\\\\n",
       "\tMerc 450SL & 17.3  & 8     & 275.8 & 180   & 3.07  & 3.730 & 17.60 & 0     & 0     & 3     & 3    \\\\\n",
       "\tMerc 450SLC & 15.2  & 8     & 275.8 & 180   & 3.07  & 3.780 & 18.00 & 0     & 0     & 3     & 3    \\\\\n",
       "\tDodge Challenger & 15.5  & 8     & 318.0 & 150   & 2.76  & 3.520 & 16.87 & 0     & 0     & 3     & 2    \\\\\n",
       "\tAMC Javelin & 15.2  & 8     & 304.0 & 150   & 3.15  & 3.435 & 17.30 & 0     & 0     & 3     & 2    \\\\\n",
       "\tPontiac Firebird & 19.2  & 8     & 400.0 & 175   & 3.08  & 3.845 & 17.05 & 0     & 0     & 3     & 2    \\\\\n",
       "\tFerrari Dino & 19.7  & 6     & 145.0 & 175   & 3.62  & 2.770 & 15.50 & 0     & 1     & 5     & 6    \\\\\n",
       "\\end{tabular}\n"
      ],
      "text/markdown": [
       "\n",
       "| <!--/--> | mpg | cyl | disp | hp | drat | wt | qsec | vs | am | gear | carb | \n",
       "|---|---|---|---|---|---|---|---|\n",
       "| Hornet Sportabout | 18.7  | 8     | 360.0 | 175   | 3.15  | 3.440 | 17.02 | 0     | 0     | 3     | 2     | \n",
       "| Merc 450SE | 16.4  | 8     | 275.8 | 180   | 3.07  | 4.070 | 17.40 | 0     | 0     | 3     | 3     | \n",
       "| Merc 450SL | 17.3  | 8     | 275.8 | 180   | 3.07  | 3.730 | 17.60 | 0     | 0     | 3     | 3     | \n",
       "| Merc 450SLC | 15.2  | 8     | 275.8 | 180   | 3.07  | 3.780 | 18.00 | 0     | 0     | 3     | 3     | \n",
       "| Dodge Challenger | 15.5  | 8     | 318.0 | 150   | 2.76  | 3.520 | 16.87 | 0     | 0     | 3     | 2     | \n",
       "| AMC Javelin | 15.2  | 8     | 304.0 | 150   | 3.15  | 3.435 | 17.30 | 0     | 0     | 3     | 2     | \n",
       "| Pontiac Firebird | 19.2  | 8     | 400.0 | 175   | 3.08  | 3.845 | 17.05 | 0     | 0     | 3     | 2     | \n",
       "| Ferrari Dino | 19.7  | 6     | 145.0 | 175   | 3.62  | 2.770 | 15.50 | 0     | 1     | 5     | 6     | \n",
       "\n",
       "\n"
      ],
      "text/plain": [
       "                  mpg  cyl disp  hp  drat wt    qsec  vs am gear carb\n",
       "Hornet Sportabout 18.7 8   360.0 175 3.15 3.440 17.02 0  0  3    2   \n",
       "Merc 450SE        16.4 8   275.8 180 3.07 4.070 17.40 0  0  3    3   \n",
       "Merc 450SL        17.3 8   275.8 180 3.07 3.730 17.60 0  0  3    3   \n",
       "Merc 450SLC       15.2 8   275.8 180 3.07 3.780 18.00 0  0  3    3   \n",
       "Dodge Challenger  15.5 8   318.0 150 2.76 3.520 16.87 0  0  3    2   \n",
       "AMC Javelin       15.2 8   304.0 150 3.15 3.435 17.30 0  0  3    2   \n",
       "Pontiac Firebird  19.2 8   400.0 175 3.08 3.845 17.05 0  0  3    2   \n",
       "Ferrari Dino      19.7 6   145.0 175 3.62 2.770 15.50 0  1  5    6   "
      ]
     },
     "metadata": {},
     "output_type": "display_data"
    }
   ],
   "source": [
    "dbGetQuery(db1, 'SELECT * FROM mtcars WHERE hp BETWEEN :x AND :y',\n",
    "          params = list(x = 150, y = 180))"
   ]
  },
  {
   "cell_type": "markdown",
   "metadata": {},
   "source": [
    "### 5.2.4. Batched Query\n",
    "\n",
    "- <font color=green>If the results do not fit in memory, <b>Batched Query</b> can be used.</font>\n",
    "- <font color=blue>dbSendQuery()</font>: To run the query with no result returns\n",
    "- <font color=brown>dbFetch()</font>: To fetch a part of desired result\n",
    "- <font color=orange>dbClearResults()</font>: To ignore rest of result of a batched query"
   ]
  },
  {
   "cell_type": "code",
   "execution_count": 21,
   "metadata": {
    "collapsed": true
   },
   "outputs": [],
   "source": [
    "res <- dbSendQuery(db1, 'SELECT * FROM mtcars')"
   ]
  },
  {
   "cell_type": "code",
   "execution_count": 22,
   "metadata": {},
   "outputs": [
    {
     "data": {
      "text/plain": [
       "<SQLiteResult>\n",
       "  SQL  SELECT * FROM mtcars\n",
       "  ROWS Fetched: 0 [incomplete]\n",
       "       Changed: 0"
      ]
     },
     "metadata": {},
     "output_type": "display_data"
    }
   ],
   "source": [
    "res"
   ]
  },
  {
   "cell_type": "code",
   "execution_count": 14,
   "metadata": {},
   "outputs": [
    {
     "data": {
      "text/html": [
       "<table>\n",
       "<thead><tr><th scope=col>mpg</th><th scope=col>cyl</th><th scope=col>disp</th><th scope=col>hp</th><th scope=col>drat</th><th scope=col>wt</th><th scope=col>qsec</th><th scope=col>vs</th><th scope=col>am</th><th scope=col>gear</th><th scope=col>carb</th></tr></thead>\n",
       "<tbody>\n",
       "\t<tr><td>21.0 </td><td>6    </td><td>160.0</td><td>110  </td><td>3.90 </td><td>2.620</td><td>16.46</td><td>0    </td><td>1    </td><td>4    </td><td>4    </td></tr>\n",
       "\t<tr><td>21.0 </td><td>6    </td><td>160.0</td><td>110  </td><td>3.90 </td><td>2.875</td><td>17.02</td><td>0    </td><td>1    </td><td>4    </td><td>4    </td></tr>\n",
       "\t<tr><td>22.8 </td><td>4    </td><td>108.0</td><td> 93  </td><td>3.85 </td><td>2.320</td><td>18.61</td><td>1    </td><td>1    </td><td>4    </td><td>1    </td></tr>\n",
       "\t<tr><td>21.4 </td><td>6    </td><td>258.0</td><td>110  </td><td>3.08 </td><td>3.215</td><td>19.44</td><td>1    </td><td>0    </td><td>3    </td><td>1    </td></tr>\n",
       "\t<tr><td>18.7 </td><td>8    </td><td>360.0</td><td>175  </td><td>3.15 </td><td>3.440</td><td>17.02</td><td>0    </td><td>0    </td><td>3    </td><td>2    </td></tr>\n",
       "\t<tr><td>18.1 </td><td>6    </td><td>225.0</td><td>105  </td><td>2.76 </td><td>3.460</td><td>20.22</td><td>1    </td><td>0    </td><td>3    </td><td>1    </td></tr>\n",
       "\t<tr><td>14.3 </td><td>8    </td><td>360.0</td><td>245  </td><td>3.21 </td><td>3.570</td><td>15.84</td><td>0    </td><td>0    </td><td>3    </td><td>4    </td></tr>\n",
       "\t<tr><td>24.4 </td><td>4    </td><td>146.7</td><td> 62  </td><td>3.69 </td><td>3.190</td><td>20.00</td><td>1    </td><td>0    </td><td>4    </td><td>2    </td></tr>\n",
       "\t<tr><td>22.8 </td><td>4    </td><td>140.8</td><td> 95  </td><td>3.92 </td><td>3.150</td><td>22.90</td><td>1    </td><td>0    </td><td>4    </td><td>2    </td></tr>\n",
       "\t<tr><td>19.2 </td><td>6    </td><td>167.6</td><td>123  </td><td>3.92 </td><td>3.440</td><td>18.30</td><td>1    </td><td>0    </td><td>4    </td><td>4    </td></tr>\n",
       "</tbody>\n",
       "</table>\n"
      ],
      "text/latex": [
       "\\begin{tabular}{r|lllllllllll}\n",
       " mpg & cyl & disp & hp & drat & wt & qsec & vs & am & gear & carb\\\\\n",
       "\\hline\n",
       "\t 21.0  & 6     & 160.0 & 110   & 3.90  & 2.620 & 16.46 & 0     & 1     & 4     & 4    \\\\\n",
       "\t 21.0  & 6     & 160.0 & 110   & 3.90  & 2.875 & 17.02 & 0     & 1     & 4     & 4    \\\\\n",
       "\t 22.8  & 4     & 108.0 &  93   & 3.85  & 2.320 & 18.61 & 1     & 1     & 4     & 1    \\\\\n",
       "\t 21.4  & 6     & 258.0 & 110   & 3.08  & 3.215 & 19.44 & 1     & 0     & 3     & 1    \\\\\n",
       "\t 18.7  & 8     & 360.0 & 175   & 3.15  & 3.440 & 17.02 & 0     & 0     & 3     & 2    \\\\\n",
       "\t 18.1  & 6     & 225.0 & 105   & 2.76  & 3.460 & 20.22 & 1     & 0     & 3     & 1    \\\\\n",
       "\t 14.3  & 8     & 360.0 & 245   & 3.21  & 3.570 & 15.84 & 0     & 0     & 3     & 4    \\\\\n",
       "\t 24.4  & 4     & 146.7 &  62   & 3.69  & 3.190 & 20.00 & 1     & 0     & 4     & 2    \\\\\n",
       "\t 22.8  & 4     & 140.8 &  95   & 3.92  & 3.150 & 22.90 & 1     & 0     & 4     & 2    \\\\\n",
       "\t 19.2  & 6     & 167.6 & 123   & 3.92  & 3.440 & 18.30 & 1     & 0     & 4     & 4    \\\\\n",
       "\\end{tabular}\n"
      ],
      "text/markdown": [
       "\n",
       "mpg | cyl | disp | hp | drat | wt | qsec | vs | am | gear | carb | \n",
       "|---|---|---|---|---|---|---|---|---|---|\n",
       "| 21.0  | 6     | 160.0 | 110   | 3.90  | 2.620 | 16.46 | 0     | 1     | 4     | 4     | \n",
       "| 21.0  | 6     | 160.0 | 110   | 3.90  | 2.875 | 17.02 | 0     | 1     | 4     | 4     | \n",
       "| 22.8  | 4     | 108.0 |  93   | 3.85  | 2.320 | 18.61 | 1     | 1     | 4     | 1     | \n",
       "| 21.4  | 6     | 258.0 | 110   | 3.08  | 3.215 | 19.44 | 1     | 0     | 3     | 1     | \n",
       "| 18.7  | 8     | 360.0 | 175   | 3.15  | 3.440 | 17.02 | 0     | 0     | 3     | 2     | \n",
       "| 18.1  | 6     | 225.0 | 105   | 2.76  | 3.460 | 20.22 | 1     | 0     | 3     | 1     | \n",
       "| 14.3  | 8     | 360.0 | 245   | 3.21  | 3.570 | 15.84 | 0     | 0     | 3     | 4     | \n",
       "| 24.4  | 4     | 146.7 |  62   | 3.69  | 3.190 | 20.00 | 1     | 0     | 4     | 2     | \n",
       "| 22.8  | 4     | 140.8 |  95   | 3.92  | 3.150 | 22.90 | 1     | 0     | 4     | 2     | \n",
       "| 19.2  | 6     | 167.6 | 123   | 3.92  | 3.440 | 18.30 | 1     | 0     | 4     | 4     | \n",
       "\n",
       "\n"
      ],
      "text/plain": [
       "   mpg  cyl disp  hp  drat wt    qsec  vs am gear carb\n",
       "1  21.0 6   160.0 110 3.90 2.620 16.46 0  1  4    4   \n",
       "2  21.0 6   160.0 110 3.90 2.875 17.02 0  1  4    4   \n",
       "3  22.8 4   108.0  93 3.85 2.320 18.61 1  1  4    1   \n",
       "4  21.4 6   258.0 110 3.08 3.215 19.44 1  0  3    1   \n",
       "5  18.7 8   360.0 175 3.15 3.440 17.02 0  0  3    2   \n",
       "6  18.1 6   225.0 105 2.76 3.460 20.22 1  0  3    1   \n",
       "7  14.3 8   360.0 245 3.21 3.570 15.84 0  0  3    4   \n",
       "8  24.4 4   146.7  62 3.69 3.190 20.00 1  0  4    2   \n",
       "9  22.8 4   140.8  95 3.92 3.150 22.90 1  0  4    2   \n",
       "10 19.2 6   167.6 123 3.92 3.440 18.30 1  0  4    4   "
      ]
     },
     "metadata": {},
     "output_type": "display_data"
    }
   ],
   "source": [
    "fd <- dbFetch(res, n = 10)\n",
    "fd"
   ]
  },
  {
   "cell_type": "code",
   "execution_count": 30,
   "metadata": {},
   "outputs": [
    {
     "data": {
      "text/plain": [
       "<SQLiteResult>\n",
       "  SQL  SELECT * FROM mtcars\n",
       "  ROWS Fetched: 10 [incomplete]\n",
       "       Changed: 0"
      ]
     },
     "metadata": {},
     "output_type": "display_data"
    }
   ],
   "source": [
    "res"
   ]
  },
  {
   "cell_type": "code",
   "execution_count": 15,
   "metadata": {},
   "outputs": [
    {
     "data": {
      "text/html": [
       "<table>\n",
       "<thead><tr><th scope=col>mpg</th><th scope=col>cyl</th><th scope=col>disp</th><th scope=col>hp</th><th scope=col>drat</th><th scope=col>wt</th><th scope=col>qsec</th><th scope=col>vs</th><th scope=col>am</th><th scope=col>gear</th><th scope=col>carb</th></tr></thead>\n",
       "<tbody>\n",
       "\t<tr><td>17.8 </td><td>6    </td><td>167.6</td><td>123  </td><td>3.92 </td><td>3.44 </td><td>18.90</td><td>1    </td><td>0    </td><td>4    </td><td>4    </td></tr>\n",
       "\t<tr><td>16.4 </td><td>8    </td><td>275.8</td><td>180  </td><td>3.07 </td><td>4.07 </td><td>17.40</td><td>0    </td><td>0    </td><td>3    </td><td>3    </td></tr>\n",
       "\t<tr><td>17.3 </td><td>8    </td><td>275.8</td><td>180  </td><td>3.07 </td><td>3.73 </td><td>17.60</td><td>0    </td><td>0    </td><td>3    </td><td>3    </td></tr>\n",
       "\t<tr><td>15.2 </td><td>8    </td><td>275.8</td><td>180  </td><td>3.07 </td><td>3.78 </td><td>18.00</td><td>0    </td><td>0    </td><td>3    </td><td>3    </td></tr>\n",
       "\t<tr><td>10.4 </td><td>8    </td><td>472.0</td><td>205  </td><td>2.93 </td><td>5.25 </td><td>17.98</td><td>0    </td><td>0    </td><td>3    </td><td>4    </td></tr>\n",
       "</tbody>\n",
       "</table>\n"
      ],
      "text/latex": [
       "\\begin{tabular}{r|lllllllllll}\n",
       " mpg & cyl & disp & hp & drat & wt & qsec & vs & am & gear & carb\\\\\n",
       "\\hline\n",
       "\t 17.8  & 6     & 167.6 & 123   & 3.92  & 3.44  & 18.90 & 1     & 0     & 4     & 4    \\\\\n",
       "\t 16.4  & 8     & 275.8 & 180   & 3.07  & 4.07  & 17.40 & 0     & 0     & 3     & 3    \\\\\n",
       "\t 17.3  & 8     & 275.8 & 180   & 3.07  & 3.73  & 17.60 & 0     & 0     & 3     & 3    \\\\\n",
       "\t 15.2  & 8     & 275.8 & 180   & 3.07  & 3.78  & 18.00 & 0     & 0     & 3     & 3    \\\\\n",
       "\t 10.4  & 8     & 472.0 & 205   & 2.93  & 5.25  & 17.98 & 0     & 0     & 3     & 4    \\\\\n",
       "\\end{tabular}\n"
      ],
      "text/markdown": [
       "\n",
       "mpg | cyl | disp | hp | drat | wt | qsec | vs | am | gear | carb | \n",
       "|---|---|---|---|---|\n",
       "| 17.8  | 6     | 167.6 | 123   | 3.92  | 3.44  | 18.90 | 1     | 0     | 4     | 4     | \n",
       "| 16.4  | 8     | 275.8 | 180   | 3.07  | 4.07  | 17.40 | 0     | 0     | 3     | 3     | \n",
       "| 17.3  | 8     | 275.8 | 180   | 3.07  | 3.73  | 17.60 | 0     | 0     | 3     | 3     | \n",
       "| 15.2  | 8     | 275.8 | 180   | 3.07  | 3.78  | 18.00 | 0     | 0     | 3     | 3     | \n",
       "| 10.4  | 8     | 472.0 | 205   | 2.93  | 5.25  | 17.98 | 0     | 0     | 3     | 4     | \n",
       "\n",
       "\n"
      ],
      "text/plain": [
       "  mpg  cyl disp  hp  drat wt   qsec  vs am gear carb\n",
       "1 17.8 6   167.6 123 3.92 3.44 18.90 1  0  4    4   \n",
       "2 16.4 8   275.8 180 3.07 4.07 17.40 0  0  3    3   \n",
       "3 17.3 8   275.8 180 3.07 3.73 17.60 0  0  3    3   \n",
       "4 15.2 8   275.8 180 3.07 3.78 18.00 0  0  3    3   \n",
       "5 10.4 8   472.0 205 2.93 5.25 17.98 0  0  3    4   "
      ]
     },
     "metadata": {},
     "output_type": "display_data"
    }
   ],
   "source": [
    "fd <- dbFetch(res, n = 5)\n",
    "fd"
   ]
  },
  {
   "cell_type": "code",
   "execution_count": 32,
   "metadata": {},
   "outputs": [
    {
     "data": {
      "text/plain": [
       "<SQLiteResult>\n",
       "  SQL  SELECT * FROM mtcars\n",
       "  ROWS Fetched: 15 [incomplete]\n",
       "       Changed: 0"
      ]
     },
     "metadata": {},
     "output_type": "display_data"
    }
   ],
   "source": [
    "res"
   ]
  },
  {
   "cell_type": "code",
   "execution_count": 16,
   "metadata": {
    "collapsed": true
   },
   "outputs": [],
   "source": [
    "dbClearResult(res)"
   ]
  },
  {
   "cell_type": "code",
   "execution_count": 34,
   "metadata": {},
   "outputs": [
    {
     "data": {
      "text/plain": [
       "<SQLiteResult>\n",
       "EXPIRED"
      ]
     },
     "metadata": {},
     "output_type": "display_data"
    }
   ],
   "source": [
    "res"
   ]
  },
  {
   "cell_type": "markdown",
   "metadata": {},
   "source": [
    "### 5.2.5. dbExecute()\n",
    "\n",
    "- To run Queries that do not return a tabular result \n",
    "    - inserting records into a table\n",
    "    - updating a table\n",
    "    - deleting from a table\n",
    "    - setting engine parameters"
   ]
  },
  {
   "cell_type": "code",
   "execution_count": 42,
   "metadata": {},
   "outputs": [
    {
     "data": {
      "text/html": [
       "<table>\n",
       "<thead><tr><th scope=col>Sepal.Length</th><th scope=col>Sepal.Width</th><th scope=col>Petal.Length</th><th scope=col>Petal.Width</th><th scope=col>Species</th></tr></thead>\n",
       "<tbody>\n",
       "\t<tr><td>4.4   </td><td>2.9   </td><td>1.4   </td><td>0.2   </td><td>setosa</td></tr>\n",
       "\t<tr><td>4.3   </td><td>3.0   </td><td>1.1   </td><td>0.1   </td><td>setosa</td></tr>\n",
       "\t<tr><td>4.4   </td><td>3.0   </td><td>1.3   </td><td>0.2   </td><td>setosa</td></tr>\n",
       "\t<tr><td>4.4   </td><td>3.2   </td><td>1.3   </td><td>0.2   </td><td>setosa</td></tr>\n",
       "</tbody>\n",
       "</table>\n"
      ],
      "text/latex": [
       "\\begin{tabular}{r|lllll}\n",
       " Sepal.Length & Sepal.Width & Petal.Length & Petal.Width & Species\\\\\n",
       "\\hline\n",
       "\t 4.4    & 2.9    & 1.4    & 0.2    & setosa\\\\\n",
       "\t 4.3    & 3.0    & 1.1    & 0.1    & setosa\\\\\n",
       "\t 4.4    & 3.0    & 1.3    & 0.2    & setosa\\\\\n",
       "\t 4.4    & 3.2    & 1.3    & 0.2    & setosa\\\\\n",
       "\\end{tabular}\n"
      ],
      "text/markdown": [
       "\n",
       "Sepal.Length | Sepal.Width | Petal.Length | Petal.Width | Species | \n",
       "|---|---|---|---|\n",
       "| 4.4    | 2.9    | 1.4    | 0.2    | setosa | \n",
       "| 4.3    | 3.0    | 1.1    | 0.1    | setosa | \n",
       "| 4.4    | 3.0    | 1.3    | 0.2    | setosa | \n",
       "| 4.4    | 3.2    | 1.3    | 0.2    | setosa | \n",
       "\n",
       "\n"
      ],
      "text/plain": [
       "  Sepal.Length Sepal.Width Petal.Length Petal.Width Species\n",
       "1 4.4          2.9         1.4          0.2         setosa \n",
       "2 4.3          3.0         1.1          0.1         setosa \n",
       "3 4.4          3.0         1.3          0.2         setosa \n",
       "4 4.4          3.2         1.3          0.2         setosa "
      ]
     },
     "metadata": {},
     "output_type": "display_data"
    }
   ],
   "source": [
    "dbGetQuery(db1, 'SELECT * FROM iris WHERE \"Sepal.Length\" < 4.5')"
   ]
  },
  {
   "cell_type": "code",
   "execution_count": 44,
   "metadata": {},
   "outputs": [
    {
     "data": {
      "text/html": [
       "4"
      ],
      "text/latex": [
       "4"
      ],
      "text/markdown": [
       "4"
      ],
      "text/plain": [
       "[1] 4"
      ]
     },
     "metadata": {},
     "output_type": "display_data"
    }
   ],
   "source": [
    "dbExecute(db1, 'DELETE FROM iris WHERE \"Sepal.Length\" < 4.5')"
   ]
  },
  {
   "cell_type": "code",
   "execution_count": 45,
   "metadata": {},
   "outputs": [
    {
     "data": {
      "text/html": [
       "<table>\n",
       "<thead><tr><th scope=col>Sepal.Length</th><th scope=col>Sepal.Width</th><th scope=col>Petal.Length</th><th scope=col>Petal.Width</th><th scope=col>Species</th></tr></thead>\n",
       "<tbody>\n",
       "</tbody>\n",
       "</table>\n"
      ],
      "text/latex": [
       "\\begin{tabular}{r|lllll}\n",
       " Sepal.Length & Sepal.Width & Petal.Length & Petal.Width & Species\\\\\n",
       "\\hline\n",
       "\\end{tabular}\n"
      ],
      "text/markdown": [
       "\n",
       "Sepal.Length | Sepal.Width | Petal.Length | Petal.Width | Species | \n",
       "||\n",
       "\n",
       "\n"
      ],
      "text/plain": [
       "     Sepal.Length Sepal.Width Petal.Length Petal.Width Species"
      ]
     },
     "metadata": {},
     "output_type": "display_data"
    }
   ],
   "source": [
    "dbGetQuery(db1, 'SELECT * FROM iris WHERE \"Sepal.Length\" < 4.5')"
   ]
  },
  {
   "cell_type": "code",
   "execution_count": 46,
   "metadata": {},
   "outputs": [
    {
     "data": {
      "text/html": [
       "1"
      ],
      "text/latex": [
       "1"
      ],
      "text/markdown": [
       "1"
      ],
      "text/plain": [
       "[1] 1"
      ]
     },
     "metadata": {},
     "output_type": "display_data"
    }
   ],
   "source": [
    "dbExecute(db1, 'INSERT INTO iris VALUES(4.4, 2.9, 1.4, 0.2, \"setosa\")')"
   ]
  },
  {
   "cell_type": "code",
   "execution_count": 47,
   "metadata": {},
   "outputs": [
    {
     "data": {
      "text/html": [
       "<table>\n",
       "<thead><tr><th scope=col>Sepal.Length</th><th scope=col>Sepal.Width</th><th scope=col>Petal.Length</th><th scope=col>Petal.Width</th><th scope=col>Species</th></tr></thead>\n",
       "<tbody>\n",
       "\t<tr><td>4.4   </td><td>2.9   </td><td>1.4   </td><td>0.2   </td><td>setosa</td></tr>\n",
       "</tbody>\n",
       "</table>\n"
      ],
      "text/latex": [
       "\\begin{tabular}{r|lllll}\n",
       " Sepal.Length & Sepal.Width & Petal.Length & Petal.Width & Species\\\\\n",
       "\\hline\n",
       "\t 4.4    & 2.9    & 1.4    & 0.2    & setosa\\\\\n",
       "\\end{tabular}\n"
      ],
      "text/markdown": [
       "\n",
       "Sepal.Length | Sepal.Width | Petal.Length | Petal.Width | Species | \n",
       "|---|\n",
       "| 4.4    | 2.9    | 1.4    | 0.2    | setosa | \n",
       "\n",
       "\n"
      ],
      "text/plain": [
       "  Sepal.Length Sepal.Width Petal.Length Petal.Width Species\n",
       "1 4.4          2.9         1.4          0.2         setosa "
      ]
     },
     "metadata": {},
     "output_type": "display_data"
    }
   ],
   "source": [
    "dbGetQuery(db1, 'SELECT * FROM iris WHERE \"Sepal.Length\" < 4.5')"
   ]
  },
  {
   "cell_type": "code",
   "execution_count": 8,
   "metadata": {},
   "outputs": [
    {
     "data": {
      "text/html": [
       "1"
      ],
      "text/latex": [
       "1"
      ],
      "text/markdown": [
       "1"
      ],
      "text/plain": [
       "[1] 1"
      ]
     },
     "metadata": {},
     "output_type": "display_data"
    }
   ],
   "source": [
    "dbExecute(db1, 'UPDATE iris SET \"Petal.Width\" = 0.3 WHERE \"Sepal.Length\" = 4.4')"
   ]
  },
  {
   "cell_type": "code",
   "execution_count": 9,
   "metadata": {},
   "outputs": [
    {
     "data": {
      "text/html": [
       "<table>\n",
       "<thead><tr><th scope=col>Sepal.Length</th><th scope=col>Sepal.Width</th><th scope=col>Petal.Length</th><th scope=col>Petal.Width</th><th scope=col>Species</th></tr></thead>\n",
       "<tbody>\n",
       "\t<tr><td>4.4   </td><td>2.9   </td><td>1.4   </td><td>0.3   </td><td>setosa</td></tr>\n",
       "</tbody>\n",
       "</table>\n"
      ],
      "text/latex": [
       "\\begin{tabular}{r|lllll}\n",
       " Sepal.Length & Sepal.Width & Petal.Length & Petal.Width & Species\\\\\n",
       "\\hline\n",
       "\t 4.4    & 2.9    & 1.4    & 0.3    & setosa\\\\\n",
       "\\end{tabular}\n"
      ],
      "text/markdown": [
       "\n",
       "Sepal.Length | Sepal.Width | Petal.Length | Petal.Width | Species | \n",
       "|---|\n",
       "| 4.4    | 2.9    | 1.4    | 0.3    | setosa | \n",
       "\n",
       "\n"
      ],
      "text/plain": [
       "  Sepal.Length Sepal.Width Petal.Length Petal.Width Species\n",
       "1 4.4          2.9         1.4          0.3         setosa "
      ]
     },
     "metadata": {},
     "output_type": "display_data"
    }
   ],
   "source": [
    "dbGetQuery(db1, 'SELECT * FROM iris WHERE \"Sepal.Length\" < 4.5')"
   ]
  },
  {
   "cell_type": "code",
   "execution_count": 10,
   "metadata": {},
   "outputs": [
    {
     "data": {
      "text/html": [
       "1"
      ],
      "text/latex": [
       "1"
      ],
      "text/markdown": [
       "1"
      ],
      "text/plain": [
       "[1] 1"
      ]
     },
     "metadata": {},
     "output_type": "display_data"
    }
   ],
   "source": [
    "dbExecute(db1, 'CREATE TABLE mytable(id INTEGER PRIMARY KEY ASC, name, age)')"
   ]
  },
  {
   "cell_type": "code",
   "execution_count": 11,
   "metadata": {},
   "outputs": [
    {
     "data": {
      "text/html": [
       "<table>\n",
       "<thead><tr><th scope=col>id</th><th scope=col>name</th><th scope=col>age</th></tr></thead>\n",
       "<tbody>\n",
       "</tbody>\n",
       "</table>\n"
      ],
      "text/latex": [
       "\\begin{tabular}{r|lll}\n",
       " id & name & age\\\\\n",
       "\\hline\n",
       "\\end{tabular}\n"
      ],
      "text/markdown": [
       "\n",
       "id | name | age | \n",
       "||\n",
       "\n",
       "\n"
      ],
      "text/plain": [
       "     id name age"
      ]
     },
     "metadata": {},
     "output_type": "display_data"
    }
   ],
   "source": [
    "dbGetQuery(db1, 'SELECT * FROM mytable')"
   ]
  },
  {
   "cell_type": "code",
   "execution_count": 13,
   "metadata": {},
   "outputs": [
    {
     "data": {
      "text/html": [
       "1"
      ],
      "text/latex": [
       "1"
      ],
      "text/markdown": [
       "1"
      ],
      "text/plain": [
       "[1] 1"
      ]
     },
     "metadata": {},
     "output_type": "display_data"
    }
   ],
   "source": [
    "dbExecute(db1, 'INSERT INTO mytable VALUES(1,\"Amin\", 35)')"
   ]
  },
  {
   "cell_type": "code",
   "execution_count": 14,
   "metadata": {},
   "outputs": [
    {
     "data": {
      "text/html": [
       "<table>\n",
       "<thead><tr><th scope=col>id</th><th scope=col>name</th><th scope=col>age</th></tr></thead>\n",
       "<tbody>\n",
       "\t<tr><td>1   </td><td>Amin</td><td>35  </td></tr>\n",
       "</tbody>\n",
       "</table>\n"
      ],
      "text/latex": [
       "\\begin{tabular}{r|lll}\n",
       " id & name & age\\\\\n",
       "\\hline\n",
       "\t 1    & Amin & 35  \\\\\n",
       "\\end{tabular}\n"
      ],
      "text/markdown": [
       "\n",
       "id | name | age | \n",
       "|---|\n",
       "| 1    | Amin | 35   | \n",
       "\n",
       "\n"
      ],
      "text/plain": [
       "  id name age\n",
       "1 1  Amin 35 "
      ]
     },
     "metadata": {},
     "output_type": "display_data"
    }
   ],
   "source": [
    "dbGetQuery(db1, 'SELECT * FROM mytable')"
   ]
  },
  {
   "cell_type": "code",
   "execution_count": 15,
   "metadata": {},
   "outputs": [
    {
     "data": {
      "text/html": [
       "1"
      ],
      "text/latex": [
       "1"
      ],
      "text/markdown": [
       "1"
      ],
      "text/plain": [
       "[1] 1"
      ]
     },
     "metadata": {},
     "output_type": "display_data"
    }
   ],
   "source": [
    "dbExecute(db1, 'INSERT INTO mytable(name, age) VALUES(\"John\", 19)')"
   ]
  },
  {
   "cell_type": "code",
   "execution_count": 16,
   "metadata": {},
   "outputs": [
    {
     "data": {
      "text/html": [
       "<table>\n",
       "<thead><tr><th scope=col>id</th><th scope=col>name</th><th scope=col>age</th></tr></thead>\n",
       "<tbody>\n",
       "\t<tr><td>1   </td><td>Amin</td><td>35  </td></tr>\n",
       "\t<tr><td>2   </td><td>John</td><td>19  </td></tr>\n",
       "</tbody>\n",
       "</table>\n"
      ],
      "text/latex": [
       "\\begin{tabular}{r|lll}\n",
       " id & name & age\\\\\n",
       "\\hline\n",
       "\t 1    & Amin & 35  \\\\\n",
       "\t 2    & John & 19  \\\\\n",
       "\\end{tabular}\n"
      ],
      "text/markdown": [
       "\n",
       "id | name | age | \n",
       "|---|---|\n",
       "| 1    | Amin | 35   | \n",
       "| 2    | John | 19   | \n",
       "\n",
       "\n"
      ],
      "text/plain": [
       "  id name age\n",
       "1 1  Amin 35 \n",
       "2 2  John 19 "
      ]
     },
     "metadata": {},
     "output_type": "display_data"
    }
   ],
   "source": [
    "dbGetQuery(db1, 'SELECT * FROM mytable')"
   ]
  },
  {
   "cell_type": "code",
   "execution_count": 19,
   "metadata": {},
   "outputs": [
    {
     "data": {
      "text/html": [
       "<table>\n",
       "<thead><tr><th scope=col>Num_Rows</th></tr></thead>\n",
       "<tbody>\n",
       "\t<tr><td>2</td></tr>\n",
       "</tbody>\n",
       "</table>\n"
      ],
      "text/latex": [
       "\\begin{tabular}{r|l}\n",
       " Num\\_Rows\\\\\n",
       "\\hline\n",
       "\t 2\\\\\n",
       "\\end{tabular}\n"
      ],
      "text/markdown": [
       "\n",
       "Num_Rows | \n",
       "|---|\n",
       "| 2 | \n",
       "\n",
       "\n"
      ],
      "text/plain": [
       "  Num_Rows\n",
       "1 2       "
      ]
     },
     "metadata": {},
     "output_type": "display_data"
    },
    {
     "data": {
      "text/html": [
       "<table>\n",
       "<thead><tr><th scope=col>Total_Age</th></tr></thead>\n",
       "<tbody>\n",
       "\t<tr><td>54</td></tr>\n",
       "</tbody>\n",
       "</table>\n"
      ],
      "text/latex": [
       "\\begin{tabular}{r|l}\n",
       " Total\\_Age\\\\\n",
       "\\hline\n",
       "\t 54\\\\\n",
       "\\end{tabular}\n"
      ],
      "text/markdown": [
       "\n",
       "Total_Age | \n",
       "|---|\n",
       "| 54 | \n",
       "\n",
       "\n"
      ],
      "text/plain": [
       "  Total_Age\n",
       "1 54       "
      ]
     },
     "metadata": {},
     "output_type": "display_data"
    }
   ],
   "source": [
    "dbGetQuery(db1, 'SELECT count(*) Num_Rows FROM mytable')\n",
    "dbGetQuery(db1, 'SELECT sum(age) Total_Age FROM mytable')"
   ]
  },
  {
   "cell_type": "code",
   "execution_count": 20,
   "metadata": {},
   "outputs": [
    {
     "data": {
      "text/plain": [
       "       id           name                age    \n",
       " Min.   :1.00   Length:2           Min.   :19  \n",
       " 1st Qu.:1.25   Class :character   1st Qu.:23  \n",
       " Median :1.50   Mode  :character   Median :27  \n",
       " Mean   :1.50                      Mean   :27  \n",
       " 3rd Qu.:1.75                      3rd Qu.:31  \n",
       " Max.   :2.00                      Max.   :35  "
      ]
     },
     "metadata": {},
     "output_type": "display_data"
    }
   ],
   "source": [
    "mydf = dbGetQuery(db1, 'SELECT * FROM mytable')\n",
    "summary(mydf)"
   ]
  },
  {
   "cell_type": "markdown",
   "metadata": {},
   "source": [
    "# <font color=red>Exercise 1</font>\n",
    "- <font color=blue>Create 3 tables called PRODUCT, CUSTOMER and ORDER using given file (customer_Product_order.xlsx).</font>\n",
    "    - Create tables PRODUCT and CUSTOMER and insert data into them by using <b>dbExecute()</b>.\n",
    "    - Create table ORDER using <b>dbWriteTable()</b>.<br><br>\n",
    "- <font color=blue>Then find expected results of the given statements.</font>\n",
    "    1. The most expensive product\n",
    "    2. The oldest customer\n",
    "    3. The minimum amount of sale in an order\n",
    "    4. Total amount of sale\n",
    "    5. How much money every customer should pay?\n",
    "\n",
    "\n",
    "- Have you faced any problem in finding expected results?"
   ]
  },
  {
   "cell_type": "code",
   "execution_count": 17,
   "metadata": {},
   "outputs": [
    {
     "data": {
      "text/html": [
       "<table>\n",
       "<thead><tr><th scope=col>customer_id</th><th scope=col>customer_name</th><th scope=col>customer_phone</th></tr></thead>\n",
       "<tbody>\n",
       "\t<tr><td>11111   </td><td>Tom     </td><td>55555555</td></tr>\n",
       "\t<tr><td>11112   </td><td>Sara    </td><td>66666666</td></tr>\n",
       "</tbody>\n",
       "</table>\n"
      ],
      "text/latex": [
       "\\begin{tabular}{r|lll}\n",
       " customer\\_id & customer\\_name & customer\\_phone\\\\\n",
       "\\hline\n",
       "\t 11111    & Tom      & 55555555\\\\\n",
       "\t 11112    & Sara     & 66666666\\\\\n",
       "\\end{tabular}\n"
      ],
      "text/markdown": [
       "\n",
       "customer_id | customer_name | customer_phone | \n",
       "|---|---|\n",
       "| 11111    | Tom      | 55555555 | \n",
       "| 11112    | Sara     | 66666666 | \n",
       "\n",
       "\n"
      ],
      "text/plain": [
       "  customer_id customer_name customer_phone\n",
       "1 11111       Tom           55555555      \n",
       "2 11112       Sara          66666666      "
      ]
     },
     "metadata": {},
     "output_type": "display_data"
    },
    {
     "data": {
      "text/html": [
       "<table>\n",
       "<thead><tr><th scope=col>product_id</th><th scope=col>product_name</th><th scope=col>product_price</th></tr></thead>\n",
       "<tbody>\n",
       "\t<tr><td>111</td><td>A  </td><td>43 </td></tr>\n",
       "\t<tr><td>112</td><td>B  </td><td>28 </td></tr>\n",
       "</tbody>\n",
       "</table>\n"
      ],
      "text/latex": [
       "\\begin{tabular}{r|lll}\n",
       " product\\_id & product\\_name & product\\_price\\\\\n",
       "\\hline\n",
       "\t 111 & A   & 43 \\\\\n",
       "\t 112 & B   & 28 \\\\\n",
       "\\end{tabular}\n"
      ],
      "text/markdown": [
       "\n",
       "product_id | product_name | product_price | \n",
       "|---|---|\n",
       "| 111 | A   | 43  | \n",
       "| 112 | B   | 28  | \n",
       "\n",
       "\n"
      ],
      "text/plain": [
       "  product_id product_name product_price\n",
       "1 111        A            43           \n",
       "2 112        B            28           "
      ]
     },
     "metadata": {},
     "output_type": "display_data"
    },
    {
     "data": {
      "text/html": [
       "<table>\n",
       "<thead><tr><th scope=col>order_id</th><th scope=col>order_customer_id</th><th scope=col>order_product_id</th><th scope=col>order_product_count</th></tr></thead>\n",
       "<tbody>\n",
       "\t<tr><td>1111111111</td><td>11113     </td><td>123       </td><td>3         </td></tr>\n",
       "\t<tr><td>1111111112</td><td>11115     </td><td>125       </td><td>5         </td></tr>\n",
       "</tbody>\n",
       "</table>\n"
      ],
      "text/latex": [
       "\\begin{tabular}{r|llll}\n",
       " order\\_id & order\\_customer\\_id & order\\_product\\_id & order\\_product\\_count\\\\\n",
       "\\hline\n",
       "\t 1111111111 & 11113      & 123        & 3         \\\\\n",
       "\t 1111111112 & 11115      & 125        & 5         \\\\\n",
       "\\end{tabular}\n"
      ],
      "text/markdown": [
       "\n",
       "order_id | order_customer_id | order_product_id | order_product_count | \n",
       "|---|---|\n",
       "| 1111111111 | 11113      | 123        | 3          | \n",
       "| 1111111112 | 11115      | 125        | 5          | \n",
       "\n",
       "\n"
      ],
      "text/plain": [
       "  order_id   order_customer_id order_product_id order_product_count\n",
       "1 1111111111 11113             123              3                  \n",
       "2 1111111112 11115             125              5                  "
      ]
     },
     "metadata": {},
     "output_type": "display_data"
    }
   ],
   "source": [
    "cust = read.csv(\"C:/Users/hosein/Desktop/sql training/INTRO TO SQL TRAINING/sql in R/cus.csv\")\n",
    "ord = read.csv(\"C:/Users/hosein/Desktop/sql training/INTRO TO SQL TRAINING/sql in R/order.csv\")\n",
    "prod = read.csv(\"C:/Windows/System32/sql_r/prod.csv\")\n",
    "\n",
    "head(cust, 2)\n",
    "head(prod, 2)\n",
    "head(ord, 2)"
   ]
  },
  {
   "cell_type": "code",
   "execution_count": 18,
   "metadata": {
    "collapsed": true
   },
   "outputs": [],
   "source": [
    "db2 = dbConnect(RSQLite::SQLite(), \"mySell.sqlite\")\n",
    "\n",
    "dbWriteTable(db2, \"Order\", ord, overwrite=T)\n",
    "dbWriteTable(db2, \"Customer\", cust, overwrite=T)\n",
    "dbWriteTable(db2, \"Product\", prod, overwrite=T)"
   ]
  },
  {
   "cell_type": "code",
   "execution_count": 19,
   "metadata": {},
   "outputs": [
    {
     "data": {
      "text/html": [
       "<ol class=list-inline>\n",
       "\t<li>'Customer'</li>\n",
       "\t<li>'Order'</li>\n",
       "\t<li>'Product'</li>\n",
       "</ol>\n"
      ],
      "text/latex": [
       "\\begin{enumerate*}\n",
       "\\item 'Customer'\n",
       "\\item 'Order'\n",
       "\\item 'Product'\n",
       "\\end{enumerate*}\n"
      ],
      "text/markdown": [
       "1. 'Customer'\n",
       "2. 'Order'\n",
       "3. 'Product'\n",
       "\n",
       "\n"
      ],
      "text/plain": [
       "[1] \"Customer\" \"Order\"    \"Product\" "
      ]
     },
     "metadata": {},
     "output_type": "display_data"
    }
   ],
   "source": [
    "dbListTables(db2)"
   ]
  },
  {
   "cell_type": "code",
   "execution_count": 34,
   "metadata": {},
   "outputs": [
    {
     "name": "stderr",
     "output_type": "stream",
     "text": [
      "Warning message:\n",
      "\"Closing open result set, pending rows\""
     ]
    },
    {
     "data": {
      "text/html": [
       "<table>\n",
       "<thead><tr><th scope=col>product_id</th><th scope=col>product_name</th><th scope=col>product_price</th></tr></thead>\n",
       "<tbody>\n",
       "\t<tr><td>111</td><td>A  </td><td> 43</td></tr>\n",
       "\t<tr><td>112</td><td>B  </td><td> 28</td></tr>\n",
       "\t<tr><td>113</td><td>C  </td><td> 93</td></tr>\n",
       "\t<tr><td>114</td><td>D  </td><td> 59</td></tr>\n",
       "\t<tr><td>115</td><td>E  </td><td> 12</td></tr>\n",
       "\t<tr><td>116</td><td>F  </td><td> 23</td></tr>\n",
       "\t<tr><td>117</td><td>G  </td><td>100</td></tr>\n",
       "\t<tr><td>118</td><td>H  </td><td> 70</td></tr>\n",
       "\t<tr><td>119</td><td>I  </td><td> 81</td></tr>\n",
       "\t<tr><td>120</td><td>J  </td><td>100</td></tr>\n",
       "\t<tr><td>121</td><td>K  </td><td> 59</td></tr>\n",
       "\t<tr><td>122</td><td>L  </td><td> 18</td></tr>\n",
       "\t<tr><td>123</td><td>M  </td><td> 21</td></tr>\n",
       "\t<tr><td>124</td><td>N  </td><td> 87</td></tr>\n",
       "\t<tr><td>125</td><td>O  </td><td> 80</td></tr>\n",
       "\t<tr><td>126</td><td>P  </td><td> 12</td></tr>\n",
       "\t<tr><td>127</td><td>Q  </td><td> 62</td></tr>\n",
       "\t<tr><td>128</td><td>R  </td><td> 19</td></tr>\n",
       "\t<tr><td>129</td><td>S  </td><td> 35</td></tr>\n",
       "</tbody>\n",
       "</table>\n"
      ],
      "text/latex": [
       "\\begin{tabular}{r|lll}\n",
       " product\\_id & product\\_name & product\\_price\\\\\n",
       "\\hline\n",
       "\t 111 & A   &  43\\\\\n",
       "\t 112 & B   &  28\\\\\n",
       "\t 113 & C   &  93\\\\\n",
       "\t 114 & D   &  59\\\\\n",
       "\t 115 & E   &  12\\\\\n",
       "\t 116 & F   &  23\\\\\n",
       "\t 117 & G   & 100\\\\\n",
       "\t 118 & H   &  70\\\\\n",
       "\t 119 & I   &  81\\\\\n",
       "\t 120 & J   & 100\\\\\n",
       "\t 121 & K   &  59\\\\\n",
       "\t 122 & L   &  18\\\\\n",
       "\t 123 & M   &  21\\\\\n",
       "\t 124 & N   &  87\\\\\n",
       "\t 125 & O   &  80\\\\\n",
       "\t 126 & P   &  12\\\\\n",
       "\t 127 & Q   &  62\\\\\n",
       "\t 128 & R   &  19\\\\\n",
       "\t 129 & S   &  35\\\\\n",
       "\\end{tabular}\n"
      ],
      "text/markdown": [
       "\n",
       "product_id | product_name | product_price | \n",
       "|---|---|---|---|---|---|---|---|---|---|---|---|---|---|---|---|---|---|---|\n",
       "| 111 | A   |  43 | \n",
       "| 112 | B   |  28 | \n",
       "| 113 | C   |  93 | \n",
       "| 114 | D   |  59 | \n",
       "| 115 | E   |  12 | \n",
       "| 116 | F   |  23 | \n",
       "| 117 | G   | 100 | \n",
       "| 118 | H   |  70 | \n",
       "| 119 | I   |  81 | \n",
       "| 120 | J   | 100 | \n",
       "| 121 | K   |  59 | \n",
       "| 122 | L   |  18 | \n",
       "| 123 | M   |  21 | \n",
       "| 124 | N   |  87 | \n",
       "| 125 | O   |  80 | \n",
       "| 126 | P   |  12 | \n",
       "| 127 | Q   |  62 | \n",
       "| 128 | R   |  19 | \n",
       "| 129 | S   |  35 | \n",
       "\n",
       "\n"
      ],
      "text/plain": [
       "   product_id product_name product_price\n",
       "1  111        A             43          \n",
       "2  112        B             28          \n",
       "3  113        C             93          \n",
       "4  114        D             59          \n",
       "5  115        E             12          \n",
       "6  116        F             23          \n",
       "7  117        G            100          \n",
       "8  118        H             70          \n",
       "9  119        I             81          \n",
       "10 120        J            100          \n",
       "11 121        K             59          \n",
       "12 122        L             18          \n",
       "13 123        M             21          \n",
       "14 124        N             87          \n",
       "15 125        O             80          \n",
       "16 126        P             12          \n",
       "17 127        Q             62          \n",
       "18 128        R             19          \n",
       "19 129        S             35          "
      ]
     },
     "metadata": {},
     "output_type": "display_data"
    }
   ],
   "source": [
    "#dbSendQuery(db2, \"\")\n",
    "dbGetQuery(db2, \"select * from Product\")"
   ]
  },
  {
   "cell_type": "code",
   "execution_count": 40,
   "metadata": {},
   "outputs": [
    {
     "data": {
      "text/html": [
       "<table>\n",
       "<thead><tr><th scope=col>max(product_price)</th></tr></thead>\n",
       "<tbody>\n",
       "\t<tr><td>100</td></tr>\n",
       "</tbody>\n",
       "</table>\n"
      ],
      "text/latex": [
       "\\begin{tabular}{r|l}\n",
       " max(product\\_price)\\\\\n",
       "\\hline\n",
       "\t 100\\\\\n",
       "\\end{tabular}\n"
      ],
      "text/markdown": [
       "\n",
       "max(product_price) | \n",
       "|---|\n",
       "| 100 | \n",
       "\n",
       "\n"
      ],
      "text/plain": [
       "  max(product_price)\n",
       "1 100               "
      ]
     },
     "metadata": {},
     "output_type": "display_data"
    },
    {
     "data": {
      "text/html": [
       "<table>\n",
       "<thead><tr><th scope=col>product_id</th><th scope=col>product_name</th><th scope=col>product_price</th></tr></thead>\n",
       "<tbody>\n",
       "\t<tr><td>117</td><td>G  </td><td>100</td></tr>\n",
       "\t<tr><td>120</td><td>J  </td><td>100</td></tr>\n",
       "</tbody>\n",
       "</table>\n"
      ],
      "text/latex": [
       "\\begin{tabular}{r|lll}\n",
       " product\\_id & product\\_name & product\\_price\\\\\n",
       "\\hline\n",
       "\t 117 & G   & 100\\\\\n",
       "\t 120 & J   & 100\\\\\n",
       "\\end{tabular}\n"
      ],
      "text/markdown": [
       "\n",
       "product_id | product_name | product_price | \n",
       "|---|---|\n",
       "| 117 | G   | 100 | \n",
       "| 120 | J   | 100 | \n",
       "\n",
       "\n"
      ],
      "text/plain": [
       "  product_id product_name product_price\n",
       "1 117        G            100          \n",
       "2 120        J            100          "
      ]
     },
     "metadata": {},
     "output_type": "display_data"
    }
   ],
   "source": [
    "maxP = dbGetQuery(db2, \"select max(product_price) from product\")\n",
    "maxP\n",
    "dbGetQuery(db2, paste(\"select * from product where product_price = \", maxP))"
   ]
  },
  {
   "cell_type": "code",
   "execution_count": 41,
   "metadata": {},
   "outputs": [
    {
     "data": {
      "text/html": [
       "1"
      ],
      "text/latex": [
       "1"
      ],
      "text/markdown": [
       "1"
      ],
      "text/plain": [
       "[1] 1"
      ]
     },
     "metadata": {},
     "output_type": "display_data"
    }
   ],
   "source": [
    "dbExecute(db2, \"insert into product values(130, 'U', 127)\")"
   ]
  },
  {
   "cell_type": "code",
   "execution_count": 47,
   "metadata": {},
   "outputs": [
    {
     "data": {
      "text/html": [
       "<table>\n",
       "<thead><tr><th scope=col>max(product_price)</th></tr></thead>\n",
       "<tbody>\n",
       "\t<tr><td>127</td></tr>\n",
       "</tbody>\n",
       "</table>\n"
      ],
      "text/latex": [
       "\\begin{tabular}{r|l}\n",
       " max(product\\_price)\\\\\n",
       "\\hline\n",
       "\t 127\\\\\n",
       "\\end{tabular}\n"
      ],
      "text/markdown": [
       "\n",
       "max(product_price) | \n",
       "|---|\n",
       "| 127 | \n",
       "\n",
       "\n"
      ],
      "text/plain": [
       "  max(product_price)\n",
       "1 127               "
      ]
     },
     "metadata": {},
     "output_type": "display_data"
    },
    {
     "data": {
      "text/html": [
       "<table>\n",
       "<thead><tr><th scope=col>product_id</th><th scope=col>product_name</th><th scope=col>product_price</th></tr></thead>\n",
       "<tbody>\n",
       "\t<tr><td>130</td><td>U  </td><td>127</td></tr>\n",
       "</tbody>\n",
       "</table>\n"
      ],
      "text/latex": [
       "\\begin{tabular}{r|lll}\n",
       " product\\_id & product\\_name & product\\_price\\\\\n",
       "\\hline\n",
       "\t 130 & U   & 127\\\\\n",
       "\\end{tabular}\n"
      ],
      "text/markdown": [
       "\n",
       "product_id | product_name | product_price | \n",
       "|---|\n",
       "| 130 | U   | 127 | \n",
       "\n",
       "\n"
      ],
      "text/plain": [
       "  product_id product_name product_price\n",
       "1 130        U            127          "
      ]
     },
     "metadata": {},
     "output_type": "display_data"
    }
   ],
   "source": [
    "maxP = dbGetQuery(db2, \"select max(product_price) from product\")\n",
    "maxP\n",
    "dbGetQuery(db2, paste(\"select * from product where product_price = \", maxP))"
   ]
  },
  {
   "cell_type": "code",
   "execution_count": 48,
   "metadata": {},
   "outputs": [
    {
     "data": {
      "text/html": [
       "<table>\n",
       "<thead><tr><th scope=col>max(product_price)</th></tr></thead>\n",
       "<tbody>\n",
       "\t<tr><td>127</td></tr>\n",
       "</tbody>\n",
       "</table>\n"
      ],
      "text/latex": [
       "\\begin{tabular}{r|l}\n",
       " max(product\\_price)\\\\\n",
       "\\hline\n",
       "\t 127\\\\\n",
       "\\end{tabular}\n"
      ],
      "text/markdown": [
       "\n",
       "max(product_price) | \n",
       "|---|\n",
       "| 127 | \n",
       "\n",
       "\n"
      ],
      "text/plain": [
       "  max(product_price)\n",
       "1 127               "
      ]
     },
     "metadata": {},
     "output_type": "display_data"
    },
    {
     "data": {
      "text/html": [
       "<table>\n",
       "<thead><tr><th scope=col>max(product_price)</th></tr></thead>\n",
       "<tbody>\n",
       "\t<tr><td>100</td></tr>\n",
       "</tbody>\n",
       "</table>\n"
      ],
      "text/latex": [
       "\\begin{tabular}{r|l}\n",
       " max(product\\_price)\\\\\n",
       "\\hline\n",
       "\t 100\\\\\n",
       "\\end{tabular}\n"
      ],
      "text/markdown": [
       "\n",
       "max(product_price) | \n",
       "|---|\n",
       "| 100 | \n",
       "\n",
       "\n"
      ],
      "text/plain": [
       "  max(product_price)\n",
       "1 100               "
      ]
     },
     "metadata": {},
     "output_type": "display_data"
    },
    {
     "data": {
      "text/html": [
       "<table>\n",
       "<thead><tr><th scope=col>product_id</th><th scope=col>product_name</th><th scope=col>product_price</th></tr></thead>\n",
       "<tbody>\n",
       "\t<tr><td>117</td><td>G  </td><td>100</td></tr>\n",
       "\t<tr><td>120</td><td>J  </td><td>100</td></tr>\n",
       "</tbody>\n",
       "</table>\n"
      ],
      "text/latex": [
       "\\begin{tabular}{r|lll}\n",
       " product\\_id & product\\_name & product\\_price\\\\\n",
       "\\hline\n",
       "\t 117 & G   & 100\\\\\n",
       "\t 120 & J   & 100\\\\\n",
       "\\end{tabular}\n"
      ],
      "text/markdown": [
       "\n",
       "product_id | product_name | product_price | \n",
       "|---|---|\n",
       "| 117 | G   | 100 | \n",
       "| 120 | J   | 100 | \n",
       "\n",
       "\n"
      ],
      "text/plain": [
       "  product_id product_name product_price\n",
       "1 117        G            100          \n",
       "2 120        J            100          "
      ]
     },
     "metadata": {},
     "output_type": "display_data"
    }
   ],
   "source": [
    "maxP = dbGetQuery(db2, \"select max(product_price) from product\")\n",
    "maxP\n",
    "maxP2 = dbGetQuery(db2, paste(\"select max(product_price) from product where product_price < \", maxP))\n",
    "maxP2\n",
    "dbGetQuery(db2, paste(\"select * from product where product_price = \", maxP2))"
   ]
  },
  {
   "cell_type": "code",
   "execution_count": 52,
   "metadata": {},
   "outputs": [
    {
     "data": {
      "text/html": [
       "1"
      ],
      "text/latex": [
       "1"
      ],
      "text/markdown": [
       "1"
      ],
      "text/plain": [
       "[1] 1"
      ]
     },
     "metadata": {},
     "output_type": "display_data"
    }
   ],
   "source": [
    "dbExecute(db2, \"ALTER TABLE customer ADD age number;\")"
   ]
  },
  {
   "cell_type": "code",
   "execution_count": 57,
   "metadata": {},
   "outputs": [
    {
     "data": {
      "text/html": [
       "<table>\n",
       "<thead><tr><th scope=col>customer_id</th><th scope=col>customer_name</th><th scope=col>customer_phone</th><th scope=col>age</th></tr></thead>\n",
       "<tbody>\n",
       "\t<tr><td>11111   </td><td>Tom     </td><td>55555555</td><td>37      </td></tr>\n",
       "\t<tr><td>11112   </td><td>Sara    </td><td>66666666</td><td>43      </td></tr>\n",
       "\t<tr><td>11113   </td><td>Negar   </td><td>33333333</td><td>61      </td></tr>\n",
       "\t<tr><td>11114   </td><td>John    </td><td>88888888</td><td>28      </td></tr>\n",
       "\t<tr><td>11115   </td><td>David   </td><td>44444444</td><td>32      </td></tr>\n",
       "\t<tr><td>11116   </td><td>Ludovic </td><td>77777777</td><td>43      </td></tr>\n",
       "</tbody>\n",
       "</table>\n"
      ],
      "text/latex": [
       "\\begin{tabular}{r|llll}\n",
       " customer\\_id & customer\\_name & customer\\_phone & age\\\\\n",
       "\\hline\n",
       "\t 11111    & Tom      & 55555555 & 37      \\\\\n",
       "\t 11112    & Sara     & 66666666 & 43      \\\\\n",
       "\t 11113    & Negar    & 33333333 & 61      \\\\\n",
       "\t 11114    & John     & 88888888 & 28      \\\\\n",
       "\t 11115    & David    & 44444444 & 32      \\\\\n",
       "\t 11116    & Ludovic  & 77777777 & 43      \\\\\n",
       "\\end{tabular}\n"
      ],
      "text/markdown": [
       "\n",
       "customer_id | customer_name | customer_phone | age | \n",
       "|---|---|---|---|---|---|\n",
       "| 11111    | Tom      | 55555555 | 37       | \n",
       "| 11112    | Sara     | 66666666 | 43       | \n",
       "| 11113    | Negar    | 33333333 | 61       | \n",
       "| 11114    | John     | 88888888 | 28       | \n",
       "| 11115    | David    | 44444444 | 32       | \n",
       "| 11116    | Ludovic  | 77777777 | 43       | \n",
       "\n",
       "\n"
      ],
      "text/plain": [
       "  customer_id customer_name customer_phone age\n",
       "1 11111       Tom           55555555       37 \n",
       "2 11112       Sara          66666666       43 \n",
       "3 11113       Negar         33333333       61 \n",
       "4 11114       John          88888888       28 \n",
       "5 11115       David         44444444       32 \n",
       "6 11116       Ludovic       77777777       43 "
      ]
     },
     "metadata": {},
     "output_type": "display_data"
    }
   ],
   "source": [
    "dbGetQuery(db2, \"select * from customer\")"
   ]
  },
  {
   "cell_type": "code",
   "execution_count": 56,
   "metadata": {},
   "outputs": [
    {
     "data": {
      "text/html": [
       "1"
      ],
      "text/latex": [
       "1"
      ],
      "text/markdown": [
       "1"
      ],
      "text/plain": [
       "[1] 1"
      ]
     },
     "metadata": {},
     "output_type": "display_data"
    },
    {
     "data": {
      "text/html": [
       "1"
      ],
      "text/latex": [
       "1"
      ],
      "text/markdown": [
       "1"
      ],
      "text/plain": [
       "[1] 1"
      ]
     },
     "metadata": {},
     "output_type": "display_data"
    },
    {
     "data": {
      "text/html": [
       "1"
      ],
      "text/latex": [
       "1"
      ],
      "text/markdown": [
       "1"
      ],
      "text/plain": [
       "[1] 1"
      ]
     },
     "metadata": {},
     "output_type": "display_data"
    },
    {
     "data": {
      "text/html": [
       "1"
      ],
      "text/latex": [
       "1"
      ],
      "text/markdown": [
       "1"
      ],
      "text/plain": [
       "[1] 1"
      ]
     },
     "metadata": {},
     "output_type": "display_data"
    },
    {
     "data": {
      "text/html": [
       "1"
      ],
      "text/latex": [
       "1"
      ],
      "text/markdown": [
       "1"
      ],
      "text/plain": [
       "[1] 1"
      ]
     },
     "metadata": {},
     "output_type": "display_data"
    },
    {
     "data": {
      "text/html": [
       "1"
      ],
      "text/latex": [
       "1"
      ],
      "text/markdown": [
       "1"
      ],
      "text/plain": [
       "[1] 1"
      ]
     },
     "metadata": {},
     "output_type": "display_data"
    }
   ],
   "source": [
    "dbExecute(db2, \"update customer set age = 37 where customer_id = 11111\")\n",
    "dbExecute(db2, \"update customer set age = 43 where customer_id = 11112\")\n",
    "dbExecute(db2, \"update customer set age = 61 where customer_id = 11113\")\n",
    "dbExecute(db2, \"update customer set age = 28 where customer_id = 11114\")\n",
    "dbExecute(db2, \"update customer set age = 32 where customer_id = 11115\")\n",
    "dbExecute(db2, \"update customer set age = 43 where customer_id = 11116\")"
   ]
  },
  {
   "cell_type": "code",
   "execution_count": 72,
   "metadata": {},
   "outputs": [
    {
     "data": {
      "text/html": [
       "<table>\n",
       "<thead><tr><th scope=col>avg(age)</th></tr></thead>\n",
       "<tbody>\n",
       "\t<tr><td>40.66667</td></tr>\n",
       "</tbody>\n",
       "</table>\n"
      ],
      "text/latex": [
       "\\begin{tabular}{r|l}\n",
       " avg(age)\\\\\n",
       "\\hline\n",
       "\t 40.66667\\\\\n",
       "\\end{tabular}\n"
      ],
      "text/markdown": [
       "\n",
       "avg(age) | \n",
       "|---|\n",
       "| 40.66667 | \n",
       "\n",
       "\n"
      ],
      "text/plain": [
       "  avg(age)\n",
       "1 40.66667"
      ]
     },
     "metadata": {},
     "output_type": "display_data"
    },
    {
     "data": {
      "text/html": [
       "<ol class=list-inline>\n",
       "\t<li>37</li>\n",
       "\t<li>43</li>\n",
       "\t<li>61</li>\n",
       "\t<li>28</li>\n",
       "\t<li>32</li>\n",
       "\t<li>43</li>\n",
       "</ol>\n"
      ],
      "text/latex": [
       "\\begin{enumerate*}\n",
       "\\item 37\n",
       "\\item 43\n",
       "\\item 61\n",
       "\\item 28\n",
       "\\item 32\n",
       "\\item 43\n",
       "\\end{enumerate*}\n"
      ],
      "text/markdown": [
       "1. 37\n",
       "2. 43\n",
       "3. 61\n",
       "4. 28\n",
       "5. 32\n",
       "6. 43\n",
       "\n",
       "\n"
      ],
      "text/plain": [
       "[1] 37 43 61 28 32 43"
      ]
     },
     "metadata": {},
     "output_type": "display_data"
    },
    {
     "data": {
      "text/html": [
       "11.6045967903528"
      ],
      "text/latex": [
       "11.6045967903528"
      ],
      "text/markdown": [
       "11.6045967903528"
      ],
      "text/plain": [
       "[1] 11.6046"
      ]
     },
     "metadata": {},
     "output_type": "display_data"
    }
   ],
   "source": [
    "#Average\n",
    "dbGetQuery(db2, \"select avg(age) from customer\")\n",
    "ages = dbGetQuery(db2, \"select age from customer\")\n",
    "\n",
    "ages[,1]\n",
    "#Standard Devation\n",
    "sd(ages[,1])"
   ]
  },
  {
   "cell_type": "code",
   "execution_count": 74,
   "metadata": {},
   "outputs": [
    {
     "data": {
      "text/html": [
       "<table>\n",
       "<thead><tr><th scope=col>min(order_product_count)</th></tr></thead>\n",
       "<tbody>\n",
       "\t<tr><td>1</td></tr>\n",
       "</tbody>\n",
       "</table>\n"
      ],
      "text/latex": [
       "\\begin{tabular}{r|l}\n",
       " min(order\\_product\\_count)\\\\\n",
       "\\hline\n",
       "\t 1\\\\\n",
       "\\end{tabular}\n"
      ],
      "text/markdown": [
       "\n",
       "min(order_product_count) | \n",
       "|---|\n",
       "| 1 | \n",
       "\n",
       "\n"
      ],
      "text/plain": [
       "  min(order_product_count)\n",
       "1 1                       "
      ]
     },
     "metadata": {},
     "output_type": "display_data"
    }
   ],
   "source": [
    "# Q3\n",
    "dbGetQuery(db2, \"select min(order_product_count) from 'order'\")"
   ]
  },
  {
   "cell_type": "code",
   "execution_count": 75,
   "metadata": {},
   "outputs": [
    {
     "data": {
      "text/html": [
       "<table>\n",
       "<thead><tr><th scope=col>sum(order_product_count)</th></tr></thead>\n",
       "<tbody>\n",
       "\t<tr><td>89</td></tr>\n",
       "</tbody>\n",
       "</table>\n"
      ],
      "text/latex": [
       "\\begin{tabular}{r|l}\n",
       " sum(order\\_product\\_count)\\\\\n",
       "\\hline\n",
       "\t 89\\\\\n",
       "\\end{tabular}\n"
      ],
      "text/markdown": [
       "\n",
       "sum(order_product_count) | \n",
       "|---|\n",
       "| 89 | \n",
       "\n",
       "\n"
      ],
      "text/plain": [
       "  sum(order_product_count)\n",
       "1 89                      "
      ]
     },
     "metadata": {},
     "output_type": "display_data"
    }
   ],
   "source": [
    "# Q4\n",
    "dbGetQuery(db2, \"select sum(order_product_count) from 'order'\")"
   ]
  },
  {
   "cell_type": "code",
   "execution_count": 77,
   "metadata": {},
   "outputs": [
    {
     "data": {
      "text/html": [
       "<table>\n",
       "<thead><tr><th scope=col>sum(order_product_count)</th><th scope=col>order_product_id</th></tr></thead>\n",
       "<tbody>\n",
       "\t<tr><td> 3 </td><td>111</td></tr>\n",
       "\t<tr><td> 4 </td><td>112</td></tr>\n",
       "\t<tr><td> 3 </td><td>113</td></tr>\n",
       "\t<tr><td> 4 </td><td>114</td></tr>\n",
       "\t<tr><td> 2 </td><td>119</td></tr>\n",
       "\t<tr><td> 4 </td><td>120</td></tr>\n",
       "\t<tr><td> 1 </td><td>121</td></tr>\n",
       "\t<tr><td> 5 </td><td>122</td></tr>\n",
       "\t<tr><td>10 </td><td>123</td></tr>\n",
       "\t<tr><td> 9 </td><td>124</td></tr>\n",
       "\t<tr><td>16 </td><td>125</td></tr>\n",
       "\t<tr><td>12 </td><td>126</td></tr>\n",
       "\t<tr><td> 5 </td><td>128</td></tr>\n",
       "\t<tr><td> 8 </td><td>129</td></tr>\n",
       "\t<tr><td> 3 </td><td>222</td></tr>\n",
       "</tbody>\n",
       "</table>\n"
      ],
      "text/latex": [
       "\\begin{tabular}{r|ll}\n",
       " sum(order\\_product\\_count) & order\\_product\\_id\\\\\n",
       "\\hline\n",
       "\t  3  & 111\\\\\n",
       "\t  4  & 112\\\\\n",
       "\t  3  & 113\\\\\n",
       "\t  4  & 114\\\\\n",
       "\t  2  & 119\\\\\n",
       "\t  4  & 120\\\\\n",
       "\t  1  & 121\\\\\n",
       "\t  5  & 122\\\\\n",
       "\t 10  & 123\\\\\n",
       "\t  9  & 124\\\\\n",
       "\t 16  & 125\\\\\n",
       "\t 12  & 126\\\\\n",
       "\t  5  & 128\\\\\n",
       "\t  8  & 129\\\\\n",
       "\t  3  & 222\\\\\n",
       "\\end{tabular}\n"
      ],
      "text/markdown": [
       "\n",
       "sum(order_product_count) | order_product_id | \n",
       "|---|---|---|---|---|---|---|---|---|---|---|---|---|---|---|\n",
       "|  3  | 111 | \n",
       "|  4  | 112 | \n",
       "|  3  | 113 | \n",
       "|  4  | 114 | \n",
       "|  2  | 119 | \n",
       "|  4  | 120 | \n",
       "|  1  | 121 | \n",
       "|  5  | 122 | \n",
       "| 10  | 123 | \n",
       "|  9  | 124 | \n",
       "| 16  | 125 | \n",
       "| 12  | 126 | \n",
       "|  5  | 128 | \n",
       "|  8  | 129 | \n",
       "|  3  | 222 | \n",
       "\n",
       "\n"
      ],
      "text/plain": [
       "   sum(order_product_count) order_product_id\n",
       "1   3                       111             \n",
       "2   4                       112             \n",
       "3   3                       113             \n",
       "4   4                       114             \n",
       "5   2                       119             \n",
       "6   4                       120             \n",
       "7   1                       121             \n",
       "8   5                       122             \n",
       "9  10                       123             \n",
       "10  9                       124             \n",
       "11 16                       125             \n",
       "12 12                       126             \n",
       "13  5                       128             \n",
       "14  8                       129             \n",
       "15  3                       222             "
      ]
     },
     "metadata": {},
     "output_type": "display_data"
    }
   ],
   "source": [
    "dbGetQuery(db2, \"select sum(order_product_count), order_product_id from 'order' \n",
    "                group by order_product_id\")"
   ]
  },
  {
   "cell_type": "code",
   "execution_count": 80,
   "metadata": {},
   "outputs": [
    {
     "data": {
      "text/html": [
       "<table>\n",
       "<thead><tr><th scope=col>sum(order_product_count)</th><th scope=col>order_product_id</th><th scope=col>order_customer_id</th></tr></thead>\n",
       "<tbody>\n",
       "\t<tr><td> 4   </td><td>114  </td><td>11111</td></tr>\n",
       "\t<tr><td> 1   </td><td>120  </td><td>11111</td></tr>\n",
       "\t<tr><td> 5   </td><td>122  </td><td>11111</td></tr>\n",
       "\t<tr><td> 1   </td><td>123  </td><td>11111</td></tr>\n",
       "\t<tr><td> 8   </td><td>124  </td><td>11111</td></tr>\n",
       "\t<tr><td> 5   </td><td>128  </td><td>11111</td></tr>\n",
       "\t<tr><td> 3   </td><td>120  </td><td>11112</td></tr>\n",
       "\t<tr><td> 4   </td><td>125  </td><td>11112</td></tr>\n",
       "\t<tr><td> 3   </td><td>113  </td><td>11113</td></tr>\n",
       "\t<tr><td> 2   </td><td>119  </td><td>11113</td></tr>\n",
       "\t<tr><td> 3   </td><td>123  </td><td>11113</td></tr>\n",
       "\t<tr><td> 1   </td><td>124  </td><td>11113</td></tr>\n",
       "\t<tr><td> 2   </td><td>126  </td><td>11113</td></tr>\n",
       "\t<tr><td> 3   </td><td>129  </td><td>11113</td></tr>\n",
       "\t<tr><td> 1   </td><td>121  </td><td>11114</td></tr>\n",
       "\t<tr><td> 6   </td><td>123  </td><td>11114</td></tr>\n",
       "\t<tr><td> 1   </td><td>129  </td><td>11114</td></tr>\n",
       "\t<tr><td> 3   </td><td>111  </td><td>11115</td></tr>\n",
       "\t<tr><td> 4   </td><td>112  </td><td>11115</td></tr>\n",
       "\t<tr><td>12   </td><td>125  </td><td>11115</td></tr>\n",
       "\t<tr><td>10   </td><td>126  </td><td>11115</td></tr>\n",
       "\t<tr><td> 4   </td><td>129  </td><td>11115</td></tr>\n",
       "\t<tr><td> 3   </td><td>222  </td><td>11120</td></tr>\n",
       "</tbody>\n",
       "</table>\n"
      ],
      "text/latex": [
       "\\begin{tabular}{r|lll}\n",
       " sum(order\\_product\\_count) & order\\_product\\_id & order\\_customer\\_id\\\\\n",
       "\\hline\n",
       "\t  4    & 114   & 11111\\\\\n",
       "\t  1    & 120   & 11111\\\\\n",
       "\t  5    & 122   & 11111\\\\\n",
       "\t  1    & 123   & 11111\\\\\n",
       "\t  8    & 124   & 11111\\\\\n",
       "\t  5    & 128   & 11111\\\\\n",
       "\t  3    & 120   & 11112\\\\\n",
       "\t  4    & 125   & 11112\\\\\n",
       "\t  3    & 113   & 11113\\\\\n",
       "\t  2    & 119   & 11113\\\\\n",
       "\t  3    & 123   & 11113\\\\\n",
       "\t  1    & 124   & 11113\\\\\n",
       "\t  2    & 126   & 11113\\\\\n",
       "\t  3    & 129   & 11113\\\\\n",
       "\t  1    & 121   & 11114\\\\\n",
       "\t  6    & 123   & 11114\\\\\n",
       "\t  1    & 129   & 11114\\\\\n",
       "\t  3    & 111   & 11115\\\\\n",
       "\t  4    & 112   & 11115\\\\\n",
       "\t 12    & 125   & 11115\\\\\n",
       "\t 10    & 126   & 11115\\\\\n",
       "\t  4    & 129   & 11115\\\\\n",
       "\t  3    & 222   & 11120\\\\\n",
       "\\end{tabular}\n"
      ],
      "text/markdown": [
       "\n",
       "sum(order_product_count) | order_product_id | order_customer_id | \n",
       "|---|---|---|---|---|---|---|---|---|---|---|---|---|---|---|---|---|---|---|---|---|---|---|\n",
       "|  4    | 114   | 11111 | \n",
       "|  1    | 120   | 11111 | \n",
       "|  5    | 122   | 11111 | \n",
       "|  1    | 123   | 11111 | \n",
       "|  8    | 124   | 11111 | \n",
       "|  5    | 128   | 11111 | \n",
       "|  3    | 120   | 11112 | \n",
       "|  4    | 125   | 11112 | \n",
       "|  3    | 113   | 11113 | \n",
       "|  2    | 119   | 11113 | \n",
       "|  3    | 123   | 11113 | \n",
       "|  1    | 124   | 11113 | \n",
       "|  2    | 126   | 11113 | \n",
       "|  3    | 129   | 11113 | \n",
       "|  1    | 121   | 11114 | \n",
       "|  6    | 123   | 11114 | \n",
       "|  1    | 129   | 11114 | \n",
       "|  3    | 111   | 11115 | \n",
       "|  4    | 112   | 11115 | \n",
       "| 12    | 125   | 11115 | \n",
       "| 10    | 126   | 11115 | \n",
       "|  4    | 129   | 11115 | \n",
       "|  3    | 222   | 11120 | \n",
       "\n",
       "\n"
      ],
      "text/plain": [
       "   sum(order_product_count) order_product_id order_customer_id\n",
       "1   4                       114              11111            \n",
       "2   1                       120              11111            \n",
       "3   5                       122              11111            \n",
       "4   1                       123              11111            \n",
       "5   8                       124              11111            \n",
       "6   5                       128              11111            \n",
       "7   3                       120              11112            \n",
       "8   4                       125              11112            \n",
       "9   3                       113              11113            \n",
       "10  2                       119              11113            \n",
       "11  3                       123              11113            \n",
       "12  1                       124              11113            \n",
       "13  2                       126              11113            \n",
       "14  3                       129              11113            \n",
       "15  1                       121              11114            \n",
       "16  6                       123              11114            \n",
       "17  1                       129              11114            \n",
       "18  3                       111              11115            \n",
       "19  4                       112              11115            \n",
       "20 12                       125              11115            \n",
       "21 10                       126              11115            \n",
       "22  4                       129              11115            \n",
       "23  3                       222              11120            "
      ]
     },
     "metadata": {},
     "output_type": "display_data"
    }
   ],
   "source": [
    "dbGetQuery(db2, \"select sum(order_product_count), order_product_id,order_customer_id from 'order' \n",
    "                group by order_product_id,order_customer_id\n",
    "                order by order_customer_id\")"
   ]
  },
  {
   "cell_type": "markdown",
   "metadata": {},
   "source": [
    "## 5.3. Advanced DML Queries\n",
    "\n",
    "### 5.3.1. ORDER BY\n",
    "- To sort retrieved data in an appropriate order"
   ]
  },
  {
   "cell_type": "code",
   "execution_count": 21,
   "metadata": {},
   "outputs": [
    {
     "data": {
      "text/html": [
       "<table>\n",
       "<thead><tr><th></th><th scope=col>mpg</th><th scope=col>cyl</th><th scope=col>disp</th><th scope=col>hp</th><th scope=col>drat</th><th scope=col>wt</th><th scope=col>qsec</th><th scope=col>vs</th><th scope=col>am</th><th scope=col>gear</th><th scope=col>carb</th></tr></thead>\n",
       "<tbody>\n",
       "\t<tr><th scope=row>Mazda RX4</th><td>21.0 </td><td>6    </td><td>160.0</td><td>110  </td><td>3.90 </td><td>2.620</td><td>16.46</td><td>0    </td><td>1    </td><td>4    </td><td>4    </td></tr>\n",
       "\t<tr><th scope=row>Mazda RX4 Wag</th><td>21.0 </td><td>6    </td><td>160.0</td><td>110  </td><td>3.90 </td><td>2.875</td><td>17.02</td><td>0    </td><td>1    </td><td>4    </td><td>4    </td></tr>\n",
       "\t<tr><th scope=row>Hornet 4 Drive</th><td>21.4 </td><td>6    </td><td>258.0</td><td>110  </td><td>3.08 </td><td>3.215</td><td>19.44</td><td>1    </td><td>0    </td><td>3    </td><td>1    </td></tr>\n",
       "\t<tr><th scope=row>Valiant</th><td>18.1 </td><td>6    </td><td>225.0</td><td>105  </td><td>2.76 </td><td>3.460</td><td>20.22</td><td>1    </td><td>0    </td><td>3    </td><td>1    </td></tr>\n",
       "\t<tr><th scope=row>Merc 240D</th><td>24.4 </td><td>4    </td><td>146.7</td><td> 62  </td><td>3.69 </td><td>3.190</td><td>20.00</td><td>1    </td><td>0    </td><td>4    </td><td>2    </td></tr>\n",
       "\t<tr><th scope=row>Merc 230</th><td>22.8 </td><td>4    </td><td>140.8</td><td> 95  </td><td>3.92 </td><td>3.150</td><td>22.90</td><td>1    </td><td>0    </td><td>4    </td><td>2    </td></tr>\n",
       "\t<tr><th scope=row>Merc 280</th><td>19.2 </td><td>6    </td><td>167.6</td><td>123  </td><td>3.92 </td><td>3.440</td><td>18.30</td><td>1    </td><td>0    </td><td>4    </td><td>4    </td></tr>\n",
       "\t<tr><th scope=row>Merc 280C</th><td>17.8 </td><td>6    </td><td>167.6</td><td>123  </td><td>3.92 </td><td>3.440</td><td>18.90</td><td>1    </td><td>0    </td><td>4    </td><td>4    </td></tr>\n",
       "\t<tr><th scope=row>Volvo 142E</th><td>21.4 </td><td>4    </td><td>121.0</td><td>109  </td><td>4.11 </td><td>2.780</td><td>18.60</td><td>1    </td><td>1    </td><td>4    </td><td>2    </td></tr>\n",
       "</tbody>\n",
       "</table>\n"
      ],
      "text/latex": [
       "\\begin{tabular}{r|lllllllllll}\n",
       "  & mpg & cyl & disp & hp & drat & wt & qsec & vs & am & gear & carb\\\\\n",
       "\\hline\n",
       "\tMazda RX4 & 21.0  & 6     & 160.0 & 110   & 3.90  & 2.620 & 16.46 & 0     & 1     & 4     & 4    \\\\\n",
       "\tMazda RX4 Wag & 21.0  & 6     & 160.0 & 110   & 3.90  & 2.875 & 17.02 & 0     & 1     & 4     & 4    \\\\\n",
       "\tHornet 4 Drive & 21.4  & 6     & 258.0 & 110   & 3.08  & 3.215 & 19.44 & 1     & 0     & 3     & 1    \\\\\n",
       "\tValiant & 18.1  & 6     & 225.0 & 105   & 2.76  & 3.460 & 20.22 & 1     & 0     & 3     & 1    \\\\\n",
       "\tMerc 240D & 24.4  & 4     & 146.7 &  62   & 3.69  & 3.190 & 20.00 & 1     & 0     & 4     & 2    \\\\\n",
       "\tMerc 230 & 22.8  & 4     & 140.8 &  95   & 3.92  & 3.150 & 22.90 & 1     & 0     & 4     & 2    \\\\\n",
       "\tMerc 280 & 19.2  & 6     & 167.6 & 123   & 3.92  & 3.440 & 18.30 & 1     & 0     & 4     & 4    \\\\\n",
       "\tMerc 280C & 17.8  & 6     & 167.6 & 123   & 3.92  & 3.440 & 18.90 & 1     & 0     & 4     & 4    \\\\\n",
       "\tVolvo 142E & 21.4  & 4     & 121.0 & 109   & 4.11  & 2.780 & 18.60 & 1     & 1     & 4     & 2    \\\\\n",
       "\\end{tabular}\n"
      ],
      "text/markdown": [
       "\n",
       "| <!--/--> | mpg | cyl | disp | hp | drat | wt | qsec | vs | am | gear | carb | \n",
       "|---|---|---|---|---|---|---|---|---|\n",
       "| Mazda RX4 | 21.0  | 6     | 160.0 | 110   | 3.90  | 2.620 | 16.46 | 0     | 1     | 4     | 4     | \n",
       "| Mazda RX4 Wag | 21.0  | 6     | 160.0 | 110   | 3.90  | 2.875 | 17.02 | 0     | 1     | 4     | 4     | \n",
       "| Hornet 4 Drive | 21.4  | 6     | 258.0 | 110   | 3.08  | 3.215 | 19.44 | 1     | 0     | 3     | 1     | \n",
       "| Valiant | 18.1  | 6     | 225.0 | 105   | 2.76  | 3.460 | 20.22 | 1     | 0     | 3     | 1     | \n",
       "| Merc 240D | 24.4  | 4     | 146.7 |  62   | 3.69  | 3.190 | 20.00 | 1     | 0     | 4     | 2     | \n",
       "| Merc 230 | 22.8  | 4     | 140.8 |  95   | 3.92  | 3.150 | 22.90 | 1     | 0     | 4     | 2     | \n",
       "| Merc 280 | 19.2  | 6     | 167.6 | 123   | 3.92  | 3.440 | 18.30 | 1     | 0     | 4     | 4     | \n",
       "| Merc 280C | 17.8  | 6     | 167.6 | 123   | 3.92  | 3.440 | 18.90 | 1     | 0     | 4     | 4     | \n",
       "| Volvo 142E | 21.4  | 4     | 121.0 | 109   | 4.11  | 2.780 | 18.60 | 1     | 1     | 4     | 2     | \n",
       "\n",
       "\n"
      ],
      "text/plain": [
       "               mpg  cyl disp  hp  drat wt    qsec  vs am gear carb\n",
       "Mazda RX4      21.0 6   160.0 110 3.90 2.620 16.46 0  1  4    4   \n",
       "Mazda RX4 Wag  21.0 6   160.0 110 3.90 2.875 17.02 0  1  4    4   \n",
       "Hornet 4 Drive 21.4 6   258.0 110 3.08 3.215 19.44 1  0  3    1   \n",
       "Valiant        18.1 6   225.0 105 2.76 3.460 20.22 1  0  3    1   \n",
       "Merc 240D      24.4 4   146.7  62 3.69 3.190 20.00 1  0  4    2   \n",
       "Merc 230       22.8 4   140.8  95 3.92 3.150 22.90 1  0  4    2   \n",
       "Merc 280       19.2 6   167.6 123 3.92 3.440 18.30 1  0  4    4   \n",
       "Merc 280C      17.8 6   167.6 123 3.92 3.440 18.90 1  0  4    4   \n",
       "Volvo 142E     21.4 4   121.0 109 4.11 2.780 18.60 1  1  4    2   "
      ]
     },
     "metadata": {},
     "output_type": "display_data"
    }
   ],
   "source": [
    "dbGetQuery(db1, 'SELECT * FROM mtcars WHERE hp < :x AND wt > :y',\n",
    "          params = list(x = 150, y = 2.5))"
   ]
  },
  {
   "cell_type": "code",
   "execution_count": 22,
   "metadata": {},
   "outputs": [
    {
     "data": {
      "text/html": [
       "<table>\n",
       "<thead><tr><th></th><th scope=col>mpg</th><th scope=col>cyl</th><th scope=col>disp</th><th scope=col>hp</th><th scope=col>drat</th><th scope=col>wt</th><th scope=col>qsec</th><th scope=col>vs</th><th scope=col>am</th><th scope=col>gear</th><th scope=col>carb</th></tr></thead>\n",
       "<tbody>\n",
       "\t<tr><th scope=row>Merc 240D</th><td>24.4 </td><td>4    </td><td>146.7</td><td> 62  </td><td>3.69 </td><td>3.190</td><td>20.00</td><td>1    </td><td>0    </td><td>4    </td><td>2    </td></tr>\n",
       "\t<tr><th scope=row>Merc 230</th><td>22.8 </td><td>4    </td><td>140.8</td><td> 95  </td><td>3.92 </td><td>3.150</td><td>22.90</td><td>1    </td><td>0    </td><td>4    </td><td>2    </td></tr>\n",
       "\t<tr><th scope=row>Valiant</th><td>18.1 </td><td>6    </td><td>225.0</td><td>105  </td><td>2.76 </td><td>3.460</td><td>20.22</td><td>1    </td><td>0    </td><td>3    </td><td>1    </td></tr>\n",
       "\t<tr><th scope=row>Volvo 142E</th><td>21.4 </td><td>4    </td><td>121.0</td><td>109  </td><td>4.11 </td><td>2.780</td><td>18.60</td><td>1    </td><td>1    </td><td>4    </td><td>2    </td></tr>\n",
       "\t<tr><th scope=row>Mazda RX4</th><td>21.0 </td><td>6    </td><td>160.0</td><td>110  </td><td>3.90 </td><td>2.620</td><td>16.46</td><td>0    </td><td>1    </td><td>4    </td><td>4    </td></tr>\n",
       "\t<tr><th scope=row>Mazda RX4 Wag</th><td>21.0 </td><td>6    </td><td>160.0</td><td>110  </td><td>3.90 </td><td>2.875</td><td>17.02</td><td>0    </td><td>1    </td><td>4    </td><td>4    </td></tr>\n",
       "\t<tr><th scope=row>Hornet 4 Drive</th><td>21.4 </td><td>6    </td><td>258.0</td><td>110  </td><td>3.08 </td><td>3.215</td><td>19.44</td><td>1    </td><td>0    </td><td>3    </td><td>1    </td></tr>\n",
       "\t<tr><th scope=row>Merc 280</th><td>19.2 </td><td>6    </td><td>167.6</td><td>123  </td><td>3.92 </td><td>3.440</td><td>18.30</td><td>1    </td><td>0    </td><td>4    </td><td>4    </td></tr>\n",
       "\t<tr><th scope=row>Merc 280C</th><td>17.8 </td><td>6    </td><td>167.6</td><td>123  </td><td>3.92 </td><td>3.440</td><td>18.90</td><td>1    </td><td>0    </td><td>4    </td><td>4    </td></tr>\n",
       "</tbody>\n",
       "</table>\n"
      ],
      "text/latex": [
       "\\begin{tabular}{r|lllllllllll}\n",
       "  & mpg & cyl & disp & hp & drat & wt & qsec & vs & am & gear & carb\\\\\n",
       "\\hline\n",
       "\tMerc 240D & 24.4  & 4     & 146.7 &  62   & 3.69  & 3.190 & 20.00 & 1     & 0     & 4     & 2    \\\\\n",
       "\tMerc 230 & 22.8  & 4     & 140.8 &  95   & 3.92  & 3.150 & 22.90 & 1     & 0     & 4     & 2    \\\\\n",
       "\tValiant & 18.1  & 6     & 225.0 & 105   & 2.76  & 3.460 & 20.22 & 1     & 0     & 3     & 1    \\\\\n",
       "\tVolvo 142E & 21.4  & 4     & 121.0 & 109   & 4.11  & 2.780 & 18.60 & 1     & 1     & 4     & 2    \\\\\n",
       "\tMazda RX4 & 21.0  & 6     & 160.0 & 110   & 3.90  & 2.620 & 16.46 & 0     & 1     & 4     & 4    \\\\\n",
       "\tMazda RX4 Wag & 21.0  & 6     & 160.0 & 110   & 3.90  & 2.875 & 17.02 & 0     & 1     & 4     & 4    \\\\\n",
       "\tHornet 4 Drive & 21.4  & 6     & 258.0 & 110   & 3.08  & 3.215 & 19.44 & 1     & 0     & 3     & 1    \\\\\n",
       "\tMerc 280 & 19.2  & 6     & 167.6 & 123   & 3.92  & 3.440 & 18.30 & 1     & 0     & 4     & 4    \\\\\n",
       "\tMerc 280C & 17.8  & 6     & 167.6 & 123   & 3.92  & 3.440 & 18.90 & 1     & 0     & 4     & 4    \\\\\n",
       "\\end{tabular}\n"
      ],
      "text/markdown": [
       "\n",
       "| <!--/--> | mpg | cyl | disp | hp | drat | wt | qsec | vs | am | gear | carb | \n",
       "|---|---|---|---|---|---|---|---|---|\n",
       "| Merc 240D | 24.4  | 4     | 146.7 |  62   | 3.69  | 3.190 | 20.00 | 1     | 0     | 4     | 2     | \n",
       "| Merc 230 | 22.8  | 4     | 140.8 |  95   | 3.92  | 3.150 | 22.90 | 1     | 0     | 4     | 2     | \n",
       "| Valiant | 18.1  | 6     | 225.0 | 105   | 2.76  | 3.460 | 20.22 | 1     | 0     | 3     | 1     | \n",
       "| Volvo 142E | 21.4  | 4     | 121.0 | 109   | 4.11  | 2.780 | 18.60 | 1     | 1     | 4     | 2     | \n",
       "| Mazda RX4 | 21.0  | 6     | 160.0 | 110   | 3.90  | 2.620 | 16.46 | 0     | 1     | 4     | 4     | \n",
       "| Mazda RX4 Wag | 21.0  | 6     | 160.0 | 110   | 3.90  | 2.875 | 17.02 | 0     | 1     | 4     | 4     | \n",
       "| Hornet 4 Drive | 21.4  | 6     | 258.0 | 110   | 3.08  | 3.215 | 19.44 | 1     | 0     | 3     | 1     | \n",
       "| Merc 280 | 19.2  | 6     | 167.6 | 123   | 3.92  | 3.440 | 18.30 | 1     | 0     | 4     | 4     | \n",
       "| Merc 280C | 17.8  | 6     | 167.6 | 123   | 3.92  | 3.440 | 18.90 | 1     | 0     | 4     | 4     | \n",
       "\n",
       "\n"
      ],
      "text/plain": [
       "               mpg  cyl disp  hp  drat wt    qsec  vs am gear carb\n",
       "Merc 240D      24.4 4   146.7  62 3.69 3.190 20.00 1  0  4    2   \n",
       "Merc 230       22.8 4   140.8  95 3.92 3.150 22.90 1  0  4    2   \n",
       "Valiant        18.1 6   225.0 105 2.76 3.460 20.22 1  0  3    1   \n",
       "Volvo 142E     21.4 4   121.0 109 4.11 2.780 18.60 1  1  4    2   \n",
       "Mazda RX4      21.0 6   160.0 110 3.90 2.620 16.46 0  1  4    4   \n",
       "Mazda RX4 Wag  21.0 6   160.0 110 3.90 2.875 17.02 0  1  4    4   \n",
       "Hornet 4 Drive 21.4 6   258.0 110 3.08 3.215 19.44 1  0  3    1   \n",
       "Merc 280       19.2 6   167.6 123 3.92 3.440 18.30 1  0  4    4   \n",
       "Merc 280C      17.8 6   167.6 123 3.92 3.440 18.90 1  0  4    4   "
      ]
     },
     "metadata": {},
     "output_type": "display_data"
    }
   ],
   "source": [
    "dbGetQuery(db1, 'SELECT * FROM mtcars WHERE hp < :x AND wt > :y ORDER BY hp',\n",
    "          params = list(x = 150, y = 2.5))"
   ]
  },
  {
   "cell_type": "code",
   "execution_count": 23,
   "metadata": {},
   "outputs": [
    {
     "data": {
      "text/html": [
       "<table>\n",
       "<thead><tr><th></th><th scope=col>mpg</th><th scope=col>cyl</th><th scope=col>disp</th><th scope=col>hp</th><th scope=col>drat</th><th scope=col>wt</th><th scope=col>qsec</th><th scope=col>vs</th><th scope=col>am</th><th scope=col>gear</th><th scope=col>carb</th></tr></thead>\n",
       "<tbody>\n",
       "\t<tr><th scope=row>Merc 280</th><td>19.2 </td><td>6    </td><td>167.6</td><td>123  </td><td>3.92 </td><td>3.440</td><td>18.30</td><td>1    </td><td>0    </td><td>4    </td><td>4    </td></tr>\n",
       "\t<tr><th scope=row>Merc 280C</th><td>17.8 </td><td>6    </td><td>167.6</td><td>123  </td><td>3.92 </td><td>3.440</td><td>18.90</td><td>1    </td><td>0    </td><td>4    </td><td>4    </td></tr>\n",
       "\t<tr><th scope=row>Mazda RX4</th><td>21.0 </td><td>6    </td><td>160.0</td><td>110  </td><td>3.90 </td><td>2.620</td><td>16.46</td><td>0    </td><td>1    </td><td>4    </td><td>4    </td></tr>\n",
       "\t<tr><th scope=row>Mazda RX4 Wag</th><td>21.0 </td><td>6    </td><td>160.0</td><td>110  </td><td>3.90 </td><td>2.875</td><td>17.02</td><td>0    </td><td>1    </td><td>4    </td><td>4    </td></tr>\n",
       "\t<tr><th scope=row>Hornet 4 Drive</th><td>21.4 </td><td>6    </td><td>258.0</td><td>110  </td><td>3.08 </td><td>3.215</td><td>19.44</td><td>1    </td><td>0    </td><td>3    </td><td>1    </td></tr>\n",
       "\t<tr><th scope=row>Volvo 142E</th><td>21.4 </td><td>4    </td><td>121.0</td><td>109  </td><td>4.11 </td><td>2.780</td><td>18.60</td><td>1    </td><td>1    </td><td>4    </td><td>2    </td></tr>\n",
       "\t<tr><th scope=row>Valiant</th><td>18.1 </td><td>6    </td><td>225.0</td><td>105  </td><td>2.76 </td><td>3.460</td><td>20.22</td><td>1    </td><td>0    </td><td>3    </td><td>1    </td></tr>\n",
       "\t<tr><th scope=row>Merc 230</th><td>22.8 </td><td>4    </td><td>140.8</td><td> 95  </td><td>3.92 </td><td>3.150</td><td>22.90</td><td>1    </td><td>0    </td><td>4    </td><td>2    </td></tr>\n",
       "\t<tr><th scope=row>Merc 240D</th><td>24.4 </td><td>4    </td><td>146.7</td><td> 62  </td><td>3.69 </td><td>3.190</td><td>20.00</td><td>1    </td><td>0    </td><td>4    </td><td>2    </td></tr>\n",
       "</tbody>\n",
       "</table>\n"
      ],
      "text/latex": [
       "\\begin{tabular}{r|lllllllllll}\n",
       "  & mpg & cyl & disp & hp & drat & wt & qsec & vs & am & gear & carb\\\\\n",
       "\\hline\n",
       "\tMerc 280 & 19.2  & 6     & 167.6 & 123   & 3.92  & 3.440 & 18.30 & 1     & 0     & 4     & 4    \\\\\n",
       "\tMerc 280C & 17.8  & 6     & 167.6 & 123   & 3.92  & 3.440 & 18.90 & 1     & 0     & 4     & 4    \\\\\n",
       "\tMazda RX4 & 21.0  & 6     & 160.0 & 110   & 3.90  & 2.620 & 16.46 & 0     & 1     & 4     & 4    \\\\\n",
       "\tMazda RX4 Wag & 21.0  & 6     & 160.0 & 110   & 3.90  & 2.875 & 17.02 & 0     & 1     & 4     & 4    \\\\\n",
       "\tHornet 4 Drive & 21.4  & 6     & 258.0 & 110   & 3.08  & 3.215 & 19.44 & 1     & 0     & 3     & 1    \\\\\n",
       "\tVolvo 142E & 21.4  & 4     & 121.0 & 109   & 4.11  & 2.780 & 18.60 & 1     & 1     & 4     & 2    \\\\\n",
       "\tValiant & 18.1  & 6     & 225.0 & 105   & 2.76  & 3.460 & 20.22 & 1     & 0     & 3     & 1    \\\\\n",
       "\tMerc 230 & 22.8  & 4     & 140.8 &  95   & 3.92  & 3.150 & 22.90 & 1     & 0     & 4     & 2    \\\\\n",
       "\tMerc 240D & 24.4  & 4     & 146.7 &  62   & 3.69  & 3.190 & 20.00 & 1     & 0     & 4     & 2    \\\\\n",
       "\\end{tabular}\n"
      ],
      "text/markdown": [
       "\n",
       "| <!--/--> | mpg | cyl | disp | hp | drat | wt | qsec | vs | am | gear | carb | \n",
       "|---|---|---|---|---|---|---|---|---|\n",
       "| Merc 280 | 19.2  | 6     | 167.6 | 123   | 3.92  | 3.440 | 18.30 | 1     | 0     | 4     | 4     | \n",
       "| Merc 280C | 17.8  | 6     | 167.6 | 123   | 3.92  | 3.440 | 18.90 | 1     | 0     | 4     | 4     | \n",
       "| Mazda RX4 | 21.0  | 6     | 160.0 | 110   | 3.90  | 2.620 | 16.46 | 0     | 1     | 4     | 4     | \n",
       "| Mazda RX4 Wag | 21.0  | 6     | 160.0 | 110   | 3.90  | 2.875 | 17.02 | 0     | 1     | 4     | 4     | \n",
       "| Hornet 4 Drive | 21.4  | 6     | 258.0 | 110   | 3.08  | 3.215 | 19.44 | 1     | 0     | 3     | 1     | \n",
       "| Volvo 142E | 21.4  | 4     | 121.0 | 109   | 4.11  | 2.780 | 18.60 | 1     | 1     | 4     | 2     | \n",
       "| Valiant | 18.1  | 6     | 225.0 | 105   | 2.76  | 3.460 | 20.22 | 1     | 0     | 3     | 1     | \n",
       "| Merc 230 | 22.8  | 4     | 140.8 |  95   | 3.92  | 3.150 | 22.90 | 1     | 0     | 4     | 2     | \n",
       "| Merc 240D | 24.4  | 4     | 146.7 |  62   | 3.69  | 3.190 | 20.00 | 1     | 0     | 4     | 2     | \n",
       "\n",
       "\n"
      ],
      "text/plain": [
       "               mpg  cyl disp  hp  drat wt    qsec  vs am gear carb\n",
       "Merc 280       19.2 6   167.6 123 3.92 3.440 18.30 1  0  4    4   \n",
       "Merc 280C      17.8 6   167.6 123 3.92 3.440 18.90 1  0  4    4   \n",
       "Mazda RX4      21.0 6   160.0 110 3.90 2.620 16.46 0  1  4    4   \n",
       "Mazda RX4 Wag  21.0 6   160.0 110 3.90 2.875 17.02 0  1  4    4   \n",
       "Hornet 4 Drive 21.4 6   258.0 110 3.08 3.215 19.44 1  0  3    1   \n",
       "Volvo 142E     21.4 4   121.0 109 4.11 2.780 18.60 1  1  4    2   \n",
       "Valiant        18.1 6   225.0 105 2.76 3.460 20.22 1  0  3    1   \n",
       "Merc 230       22.8 4   140.8  95 3.92 3.150 22.90 1  0  4    2   \n",
       "Merc 240D      24.4 4   146.7  62 3.69 3.190 20.00 1  0  4    2   "
      ]
     },
     "metadata": {},
     "output_type": "display_data"
    }
   ],
   "source": [
    "dbGetQuery(db1, 'SELECT * FROM mtcars WHERE hp < :x AND wt > :y ORDER BY hp DESC',\n",
    "          params = list(x = 150, y = 2.5))"
   ]
  },
  {
   "cell_type": "code",
   "execution_count": 24,
   "metadata": {},
   "outputs": [
    {
     "data": {
      "text/html": [
       "<table>\n",
       "<thead><tr><th></th><th scope=col>mpg</th><th scope=col>cyl</th><th scope=col>disp</th><th scope=col>hp</th><th scope=col>drat</th><th scope=col>wt</th><th scope=col>qsec</th><th scope=col>vs</th><th scope=col>am</th><th scope=col>gear</th><th scope=col>carb</th></tr></thead>\n",
       "<tbody>\n",
       "\t<tr><th scope=row>Merc 280</th><td>19.2 </td><td>6    </td><td>167.6</td><td>123  </td><td>3.92 </td><td>3.440</td><td>18.30</td><td>1    </td><td>0    </td><td>4    </td><td>4    </td></tr>\n",
       "\t<tr><th scope=row>Merc 280C</th><td>17.8 </td><td>6    </td><td>167.6</td><td>123  </td><td>3.92 </td><td>3.440</td><td>18.90</td><td>1    </td><td>0    </td><td>4    </td><td>4    </td></tr>\n",
       "\t<tr><th scope=row>Hornet 4 Drive</th><td>21.4 </td><td>6    </td><td>258.0</td><td>110  </td><td>3.08 </td><td>3.215</td><td>19.44</td><td>1    </td><td>0    </td><td>3    </td><td>1    </td></tr>\n",
       "\t<tr><th scope=row>Mazda RX4</th><td>21.0 </td><td>6    </td><td>160.0</td><td>110  </td><td>3.90 </td><td>2.620</td><td>16.46</td><td>0    </td><td>1    </td><td>4    </td><td>4    </td></tr>\n",
       "\t<tr><th scope=row>Mazda RX4 Wag</th><td>21.0 </td><td>6    </td><td>160.0</td><td>110  </td><td>3.90 </td><td>2.875</td><td>17.02</td><td>0    </td><td>1    </td><td>4    </td><td>4    </td></tr>\n",
       "\t<tr><th scope=row>Volvo 142E</th><td>21.4 </td><td>4    </td><td>121.0</td><td>109  </td><td>4.11 </td><td>2.780</td><td>18.60</td><td>1    </td><td>1    </td><td>4    </td><td>2    </td></tr>\n",
       "\t<tr><th scope=row>Valiant</th><td>18.1 </td><td>6    </td><td>225.0</td><td>105  </td><td>2.76 </td><td>3.460</td><td>20.22</td><td>1    </td><td>0    </td><td>3    </td><td>1    </td></tr>\n",
       "\t<tr><th scope=row>Merc 230</th><td>22.8 </td><td>4    </td><td>140.8</td><td> 95  </td><td>3.92 </td><td>3.150</td><td>22.90</td><td>1    </td><td>0    </td><td>4    </td><td>2    </td></tr>\n",
       "\t<tr><th scope=row>Merc 240D</th><td>24.4 </td><td>4    </td><td>146.7</td><td> 62  </td><td>3.69 </td><td>3.190</td><td>20.00</td><td>1    </td><td>0    </td><td>4    </td><td>2    </td></tr>\n",
       "</tbody>\n",
       "</table>\n"
      ],
      "text/latex": [
       "\\begin{tabular}{r|lllllllllll}\n",
       "  & mpg & cyl & disp & hp & drat & wt & qsec & vs & am & gear & carb\\\\\n",
       "\\hline\n",
       "\tMerc 280 & 19.2  & 6     & 167.6 & 123   & 3.92  & 3.440 & 18.30 & 1     & 0     & 4     & 4    \\\\\n",
       "\tMerc 280C & 17.8  & 6     & 167.6 & 123   & 3.92  & 3.440 & 18.90 & 1     & 0     & 4     & 4    \\\\\n",
       "\tHornet 4 Drive & 21.4  & 6     & 258.0 & 110   & 3.08  & 3.215 & 19.44 & 1     & 0     & 3     & 1    \\\\\n",
       "\tMazda RX4 & 21.0  & 6     & 160.0 & 110   & 3.90  & 2.620 & 16.46 & 0     & 1     & 4     & 4    \\\\\n",
       "\tMazda RX4 Wag & 21.0  & 6     & 160.0 & 110   & 3.90  & 2.875 & 17.02 & 0     & 1     & 4     & 4    \\\\\n",
       "\tVolvo 142E & 21.4  & 4     & 121.0 & 109   & 4.11  & 2.780 & 18.60 & 1     & 1     & 4     & 2    \\\\\n",
       "\tValiant & 18.1  & 6     & 225.0 & 105   & 2.76  & 3.460 & 20.22 & 1     & 0     & 3     & 1    \\\\\n",
       "\tMerc 230 & 22.8  & 4     & 140.8 &  95   & 3.92  & 3.150 & 22.90 & 1     & 0     & 4     & 2    \\\\\n",
       "\tMerc 240D & 24.4  & 4     & 146.7 &  62   & 3.69  & 3.190 & 20.00 & 1     & 0     & 4     & 2    \\\\\n",
       "\\end{tabular}\n"
      ],
      "text/markdown": [
       "\n",
       "| <!--/--> | mpg | cyl | disp | hp | drat | wt | qsec | vs | am | gear | carb | \n",
       "|---|---|---|---|---|---|---|---|---|\n",
       "| Merc 280 | 19.2  | 6     | 167.6 | 123   | 3.92  | 3.440 | 18.30 | 1     | 0     | 4     | 4     | \n",
       "| Merc 280C | 17.8  | 6     | 167.6 | 123   | 3.92  | 3.440 | 18.90 | 1     | 0     | 4     | 4     | \n",
       "| Hornet 4 Drive | 21.4  | 6     | 258.0 | 110   | 3.08  | 3.215 | 19.44 | 1     | 0     | 3     | 1     | \n",
       "| Mazda RX4 | 21.0  | 6     | 160.0 | 110   | 3.90  | 2.620 | 16.46 | 0     | 1     | 4     | 4     | \n",
       "| Mazda RX4 Wag | 21.0  | 6     | 160.0 | 110   | 3.90  | 2.875 | 17.02 | 0     | 1     | 4     | 4     | \n",
       "| Volvo 142E | 21.4  | 4     | 121.0 | 109   | 4.11  | 2.780 | 18.60 | 1     | 1     | 4     | 2     | \n",
       "| Valiant | 18.1  | 6     | 225.0 | 105   | 2.76  | 3.460 | 20.22 | 1     | 0     | 3     | 1     | \n",
       "| Merc 230 | 22.8  | 4     | 140.8 |  95   | 3.92  | 3.150 | 22.90 | 1     | 0     | 4     | 2     | \n",
       "| Merc 240D | 24.4  | 4     | 146.7 |  62   | 3.69  | 3.190 | 20.00 | 1     | 0     | 4     | 2     | \n",
       "\n",
       "\n"
      ],
      "text/plain": [
       "               mpg  cyl disp  hp  drat wt    qsec  vs am gear carb\n",
       "Merc 280       19.2 6   167.6 123 3.92 3.440 18.30 1  0  4    4   \n",
       "Merc 280C      17.8 6   167.6 123 3.92 3.440 18.90 1  0  4    4   \n",
       "Hornet 4 Drive 21.4 6   258.0 110 3.08 3.215 19.44 1  0  3    1   \n",
       "Mazda RX4      21.0 6   160.0 110 3.90 2.620 16.46 0  1  4    4   \n",
       "Mazda RX4 Wag  21.0 6   160.0 110 3.90 2.875 17.02 0  1  4    4   \n",
       "Volvo 142E     21.4 4   121.0 109 4.11 2.780 18.60 1  1  4    2   \n",
       "Valiant        18.1 6   225.0 105 2.76 3.460 20.22 1  0  3    1   \n",
       "Merc 230       22.8 4   140.8  95 3.92 3.150 22.90 1  0  4    2   \n",
       "Merc 240D      24.4 4   146.7  62 3.69 3.190 20.00 1  0  4    2   "
      ]
     },
     "metadata": {},
     "output_type": "display_data"
    }
   ],
   "source": [
    "dbGetQuery(db1, 'SELECT * FROM mtcars WHERE hp < :x AND wt > :y ORDER BY hp DESC, drat',\n",
    "          params = list(x = 150, y = 2.5))"
   ]
  },
  {
   "cell_type": "markdown",
   "metadata": {},
   "source": [
    "### 5.3.2. GROUP BY\n",
    "- To group retreived results by specific column(s)"
   ]
  },
  {
   "cell_type": "code",
   "execution_count": 27,
   "metadata": {},
   "outputs": [
    {
     "data": {
      "text/html": [
       "<table>\n",
       "<thead><tr><th scope=col>hp_avg</th></tr></thead>\n",
       "<tbody>\n",
       "\t<tr><td>146.6875</td></tr>\n",
       "</tbody>\n",
       "</table>\n"
      ],
      "text/latex": [
       "\\begin{tabular}{r|l}\n",
       " hp\\_avg\\\\\n",
       "\\hline\n",
       "\t 146.6875\\\\\n",
       "\\end{tabular}\n"
      ],
      "text/markdown": [
       "\n",
       "hp_avg | \n",
       "|---|\n",
       "| 146.6875 | \n",
       "\n",
       "\n"
      ],
      "text/plain": [
       "  hp_avg  \n",
       "1 146.6875"
      ]
     },
     "metadata": {},
     "output_type": "display_data"
    }
   ],
   "source": [
    "dbGetQuery(db1, 'SELECT avg(hp) hp_avg FROM mtcars')"
   ]
  },
  {
   "cell_type": "code",
   "execution_count": 28,
   "metadata": {},
   "outputs": [
    {
     "data": {
      "text/html": [
       "<table>\n",
       "<thead><tr><th scope=col>hp_avg</th><th scope=col>gear</th></tr></thead>\n",
       "<tbody>\n",
       "\t<tr><td>176.1333</td><td>3       </td></tr>\n",
       "\t<tr><td> 89.5000</td><td>4       </td></tr>\n",
       "\t<tr><td>195.6000</td><td>5       </td></tr>\n",
       "</tbody>\n",
       "</table>\n"
      ],
      "text/latex": [
       "\\begin{tabular}{r|ll}\n",
       " hp\\_avg & gear\\\\\n",
       "\\hline\n",
       "\t 176.1333 & 3       \\\\\n",
       "\t  89.5000 & 4       \\\\\n",
       "\t 195.6000 & 5       \\\\\n",
       "\\end{tabular}\n"
      ],
      "text/markdown": [
       "\n",
       "hp_avg | gear | \n",
       "|---|---|---|\n",
       "| 176.1333 | 3        | \n",
       "|  89.5000 | 4        | \n",
       "| 195.6000 | 5        | \n",
       "\n",
       "\n"
      ],
      "text/plain": [
       "  hp_avg   gear\n",
       "1 176.1333 3   \n",
       "2  89.5000 4   \n",
       "3 195.6000 5   "
      ]
     },
     "metadata": {},
     "output_type": "display_data"
    }
   ],
   "source": [
    "dbGetQuery(db1, 'SELECT avg(hp) hp_avg, gear FROM mtcars GROUP BY gear')"
   ]
  },
  {
   "cell_type": "code",
   "execution_count": 29,
   "metadata": {},
   "outputs": [
    {
     "data": {
      "text/html": [
       "<table>\n",
       "<thead><tr><th scope=col>hp_avg</th><th scope=col>gear</th><th scope=col>cyl</th></tr></thead>\n",
       "<tbody>\n",
       "\t<tr><td> 97.0000</td><td>3       </td><td>4       </td></tr>\n",
       "\t<tr><td>107.5000</td><td>3       </td><td>6       </td></tr>\n",
       "\t<tr><td>194.1667</td><td>3       </td><td>8       </td></tr>\n",
       "\t<tr><td> 76.0000</td><td>4       </td><td>4       </td></tr>\n",
       "\t<tr><td>116.5000</td><td>4       </td><td>6       </td></tr>\n",
       "\t<tr><td>102.0000</td><td>5       </td><td>4       </td></tr>\n",
       "\t<tr><td>175.0000</td><td>5       </td><td>6       </td></tr>\n",
       "\t<tr><td>299.5000</td><td>5       </td><td>8       </td></tr>\n",
       "</tbody>\n",
       "</table>\n"
      ],
      "text/latex": [
       "\\begin{tabular}{r|lll}\n",
       " hp\\_avg & gear & cyl\\\\\n",
       "\\hline\n",
       "\t  97.0000 & 3        & 4       \\\\\n",
       "\t 107.5000 & 3        & 6       \\\\\n",
       "\t 194.1667 & 3        & 8       \\\\\n",
       "\t  76.0000 & 4        & 4       \\\\\n",
       "\t 116.5000 & 4        & 6       \\\\\n",
       "\t 102.0000 & 5        & 4       \\\\\n",
       "\t 175.0000 & 5        & 6       \\\\\n",
       "\t 299.5000 & 5        & 8       \\\\\n",
       "\\end{tabular}\n"
      ],
      "text/markdown": [
       "\n",
       "hp_avg | gear | cyl | \n",
       "|---|---|---|---|---|---|---|---|\n",
       "|  97.0000 | 3        | 4        | \n",
       "| 107.5000 | 3        | 6        | \n",
       "| 194.1667 | 3        | 8        | \n",
       "|  76.0000 | 4        | 4        | \n",
       "| 116.5000 | 4        | 6        | \n",
       "| 102.0000 | 5        | 4        | \n",
       "| 175.0000 | 5        | 6        | \n",
       "| 299.5000 | 5        | 8        | \n",
       "\n",
       "\n"
      ],
      "text/plain": [
       "  hp_avg   gear cyl\n",
       "1  97.0000 3    4  \n",
       "2 107.5000 3    6  \n",
       "3 194.1667 3    8  \n",
       "4  76.0000 4    4  \n",
       "5 116.5000 4    6  \n",
       "6 102.0000 5    4  \n",
       "7 175.0000 5    6  \n",
       "8 299.5000 5    8  "
      ]
     },
     "metadata": {},
     "output_type": "display_data"
    }
   ],
   "source": [
    "dbGetQuery(db1, 'SELECT avg(hp) hp_avg, gear, cyl FROM mtcars GROUP BY gear, cyl')"
   ]
  },
  {
   "cell_type": "markdown",
   "metadata": {},
   "source": [
    "### 5.3.3. HAVING\n",
    "- To apply criteria using aggregate functions (e.g. avg, count, max, etc)"
   ]
  },
  {
   "cell_type": "code",
   "execution_count": 31,
   "metadata": {},
   "outputs": [
    {
     "data": {
      "text/html": [
       "<table>\n",
       "<thead><tr><th scope=col>hp_avg</th><th scope=col>gear</th><th scope=col>cyl</th></tr></thead>\n",
       "<tbody>\n",
       "\t<tr><td>97</td><td>3 </td><td>4 </td></tr>\n",
       "\t<tr><td>76</td><td>4 </td><td>4 </td></tr>\n",
       "</tbody>\n",
       "</table>\n"
      ],
      "text/latex": [
       "\\begin{tabular}{r|lll}\n",
       " hp\\_avg & gear & cyl\\\\\n",
       "\\hline\n",
       "\t 97 & 3  & 4 \\\\\n",
       "\t 76 & 4  & 4 \\\\\n",
       "\\end{tabular}\n"
      ],
      "text/markdown": [
       "\n",
       "hp_avg | gear | cyl | \n",
       "|---|---|\n",
       "| 97 | 3  | 4  | \n",
       "| 76 | 4  | 4  | \n",
       "\n",
       "\n"
      ],
      "text/plain": [
       "  hp_avg gear cyl\n",
       "1 97     3    4  \n",
       "2 76     4    4  "
      ]
     },
     "metadata": {},
     "output_type": "display_data"
    }
   ],
   "source": [
    "dbGetQuery(db1, 'SELECT avg(hp) hp_avg, gear, cyl FROM mtcars GROUP BY gear, cyl HAVING avg(hp) < 100')"
   ]
  },
  {
   "cell_type": "code",
   "execution_count": 6,
   "metadata": {},
   "outputs": [
    {
     "data": {
      "text/html": [
       "<table>\n",
       "<thead><tr><th scope=col>Count</th><th scope=col>gear</th><th scope=col>cyl</th></tr></thead>\n",
       "<tbody>\n",
       "\t<tr><td> 1</td><td>3 </td><td>4 </td></tr>\n",
       "\t<tr><td> 2</td><td>3 </td><td>6 </td></tr>\n",
       "\t<tr><td>12</td><td>3 </td><td>8 </td></tr>\n",
       "\t<tr><td> 8</td><td>4 </td><td>4 </td></tr>\n",
       "\t<tr><td> 4</td><td>4 </td><td>6 </td></tr>\n",
       "\t<tr><td> 2</td><td>5 </td><td>4 </td></tr>\n",
       "\t<tr><td> 1</td><td>5 </td><td>6 </td></tr>\n",
       "</tbody>\n",
       "</table>\n"
      ],
      "text/latex": [
       "\\begin{tabular}{r|lll}\n",
       " Count & gear & cyl\\\\\n",
       "\\hline\n",
       "\t  1 & 3  & 4 \\\\\n",
       "\t  2 & 3  & 6 \\\\\n",
       "\t 12 & 3  & 8 \\\\\n",
       "\t  8 & 4  & 4 \\\\\n",
       "\t  4 & 4  & 6 \\\\\n",
       "\t  2 & 5  & 4 \\\\\n",
       "\t  1 & 5  & 6 \\\\\n",
       "\\end{tabular}\n"
      ],
      "text/markdown": [
       "\n",
       "Count | gear | cyl | \n",
       "|---|---|---|---|---|---|---|\n",
       "|  1 | 3  | 4  | \n",
       "|  2 | 3  | 6  | \n",
       "| 12 | 3  | 8  | \n",
       "|  8 | 4  | 4  | \n",
       "|  4 | 4  | 6  | \n",
       "|  2 | 5  | 4  | \n",
       "|  1 | 5  | 6  | \n",
       "\n",
       "\n"
      ],
      "text/plain": [
       "  Count gear cyl\n",
       "1  1    3    4  \n",
       "2  2    3    6  \n",
       "3 12    3    8  \n",
       "4  8    4    4  \n",
       "5  4    4    6  \n",
       "6  2    5    4  \n",
       "7  1    5    6  "
      ]
     },
     "metadata": {},
     "output_type": "display_data"
    }
   ],
   "source": [
    "dbGetQuery(db1, 'SELECT count(*) Count, gear, cyl FROM mtcars GROUP BY gear, cyl HAVING avg(hp) < 200')"
   ]
  },
  {
   "cell_type": "markdown",
   "metadata": {},
   "source": [
    "### 5.3.4. JOIN\n",
    "- To JOIN two or more tables to be able to extract more information\n",
    "- To JOIN two tables we need to utilize columns of the tables having common values.\n",
    "- Three types of JOIN are available in SQLite\n",
    "    - CROSS JOIN\n",
    "    - INNER JOIN\n",
    "    - OUTER JOIN\n",
    "<br>\n",
    "\n",
    "#### 5.3.4.1. CROSS JOIN\n",
    "- It matches every row of the first table with every row of the second table. \n",
    "- If the input tables have m and n columns, respectively, the resulting table will have m*n columns.\n",
    "- <font color=red>It may result in a very very large table.</font>\n",
    "<br><br>\n",
    "- <b>Format:</b>\n",
    "    - SELECT ... FROM table1 <b>CROSS JOIN</b> table2 ...;\n",
    "- <b>Example:</b>\n",
    "    - SELECT * FROM customer CROSS JOIN product;"
   ]
  },
  {
   "cell_type": "code",
   "execution_count": 90,
   "metadata": {
    "collapsed": true
   },
   "outputs": [],
   "source": [
    "cust = read.csv(\"C:/Users/user_adax/Jupyter/EDA/cus.csv\", header=TRUE, sep=\",\")\n",
    "prod = read.csv(\"C:/Users/user_adax/Jupyter/EDA/prod.csv\", header=TRUE, sep=\",\")\n",
    "order = read.csv(\"C:/Users/user_adax/Jupyter/EDA/order.csv\", header=TRUE, sep=\";\")"
   ]
  },
  {
   "cell_type": "code",
   "execution_count": 91,
   "metadata": {},
   "outputs": [
    {
     "data": {
      "text/html": [
       "<table>\n",
       "<thead><tr><th scope=col>customer_id</th><th scope=col>customer_name</th><th scope=col>customer_phone</th></tr></thead>\n",
       "<tbody>\n",
       "\t<tr><td>11111   </td><td>Tom     </td><td>55555555</td></tr>\n",
       "\t<tr><td>11112   </td><td>Sara    </td><td>66666666</td></tr>\n",
       "</tbody>\n",
       "</table>\n"
      ],
      "text/latex": [
       "\\begin{tabular}{r|lll}\n",
       " customer\\_id & customer\\_name & customer\\_phone\\\\\n",
       "\\hline\n",
       "\t 11111    & Tom      & 55555555\\\\\n",
       "\t 11112    & Sara     & 66666666\\\\\n",
       "\\end{tabular}\n"
      ],
      "text/markdown": [
       "\n",
       "customer_id | customer_name | customer_phone | \n",
       "|---|---|\n",
       "| 11111    | Tom      | 55555555 | \n",
       "| 11112    | Sara     | 66666666 | \n",
       "\n",
       "\n"
      ],
      "text/plain": [
       "  customer_id customer_name customer_phone\n",
       "1 11111       Tom           55555555      \n",
       "2 11112       Sara          66666666      "
      ]
     },
     "metadata": {},
     "output_type": "display_data"
    },
    {
     "data": {
      "text/html": [
       "<table>\n",
       "<thead><tr><th scope=col>product_id</th><th scope=col>product_name</th><th scope=col>product_price</th></tr></thead>\n",
       "<tbody>\n",
       "\t<tr><td>111</td><td>A  </td><td>43 </td></tr>\n",
       "\t<tr><td>112</td><td>B  </td><td>28 </td></tr>\n",
       "</tbody>\n",
       "</table>\n"
      ],
      "text/latex": [
       "\\begin{tabular}{r|lll}\n",
       " product\\_id & product\\_name & product\\_price\\\\\n",
       "\\hline\n",
       "\t 111 & A   & 43 \\\\\n",
       "\t 112 & B   & 28 \\\\\n",
       "\\end{tabular}\n"
      ],
      "text/markdown": [
       "\n",
       "product_id | product_name | product_price | \n",
       "|---|---|\n",
       "| 111 | A   | 43  | \n",
       "| 112 | B   | 28  | \n",
       "\n",
       "\n"
      ],
      "text/plain": [
       "  product_id product_name product_price\n",
       "1 111        A            43           \n",
       "2 112        B            28           "
      ]
     },
     "metadata": {},
     "output_type": "display_data"
    },
    {
     "data": {
      "text/html": [
       "<table>\n",
       "<thead><tr><th scope=col>order_id.order_customer_id.order_product_id.order_product_count</th></tr></thead>\n",
       "<tbody>\n",
       "\t<tr><td>1111111111,11113,123,3</td></tr>\n",
       "\t<tr><td>1111111112,11115,125,5</td></tr>\n",
       "</tbody>\n",
       "</table>\n"
      ],
      "text/latex": [
       "\\begin{tabular}{r|l}\n",
       " order\\_id.order\\_customer\\_id.order\\_product\\_id.order\\_product\\_count\\\\\n",
       "\\hline\n",
       "\t 1111111111,11113,123,3\\\\\n",
       "\t 1111111112,11115,125,5\\\\\n",
       "\\end{tabular}\n"
      ],
      "text/markdown": [
       "\n",
       "order_id.order_customer_id.order_product_id.order_product_count | \n",
       "|---|---|\n",
       "| 1111111111,11113,123,3 | \n",
       "| 1111111112,11115,125,5 | \n",
       "\n",
       "\n"
      ],
      "text/plain": [
       "  order_id.order_customer_id.order_product_id.order_product_count\n",
       "1 1111111111,11113,123,3                                         \n",
       "2 1111111112,11115,125,5                                         "
      ]
     },
     "metadata": {},
     "output_type": "display_data"
    }
   ],
   "source": [
    "head(cust, 2)\n",
    "head(prod, 2)\n",
    "head(order, 2)"
   ]
  },
  {
   "cell_type": "code",
   "execution_count": 92,
   "metadata": {},
   "outputs": [
    {
     "data": {
      "text/html": [
       "TRUE"
      ],
      "text/latex": [
       "TRUE"
      ],
      "text/markdown": [
       "TRUE"
      ],
      "text/plain": [
       "[1] TRUE"
      ]
     },
     "metadata": {},
     "output_type": "display_data"
    },
    {
     "data": {
      "text/html": [
       "TRUE"
      ],
      "text/latex": [
       "TRUE"
      ],
      "text/markdown": [
       "TRUE"
      ],
      "text/plain": [
       "[1] TRUE"
      ]
     },
     "metadata": {},
     "output_type": "display_data"
    },
    {
     "data": {
      "text/html": [
       "TRUE"
      ],
      "text/latex": [
       "TRUE"
      ],
      "text/markdown": [
       "TRUE"
      ],
      "text/plain": [
       "[1] TRUE"
      ]
     },
     "metadata": {},
     "output_type": "display_data"
    }
   ],
   "source": [
    "dbWriteTable(db1, \"customer\", cust, overwrite=T)\n",
    "dbWriteTable(db1, \"product\", prod, overwrite=T)\n",
    "dbWriteTable(db1, \"order\", order, overwrite=T)"
   ]
  },
  {
   "cell_type": "code",
   "execution_count": 93,
   "metadata": {},
   "outputs": [
    {
     "data": {
      "text/html": [
       "<table>\n",
       "<thead><tr><th scope=col>count(*)</th></tr></thead>\n",
       "<tbody>\n",
       "\t<tr><td>6</td></tr>\n",
       "</tbody>\n",
       "</table>\n"
      ],
      "text/latex": [
       "\\begin{tabular}{r|l}\n",
       " count(*)\\\\\n",
       "\\hline\n",
       "\t 6\\\\\n",
       "\\end{tabular}\n"
      ],
      "text/markdown": [
       "\n",
       "count(*) | \n",
       "|---|\n",
       "| 6 | \n",
       "\n",
       "\n"
      ],
      "text/plain": [
       "  count(*)\n",
       "1 6       "
      ]
     },
     "metadata": {},
     "output_type": "display_data"
    },
    {
     "data": {
      "text/html": [
       "<table>\n",
       "<thead><tr><th scope=col>count(*)</th></tr></thead>\n",
       "<tbody>\n",
       "\t<tr><td>19</td></tr>\n",
       "</tbody>\n",
       "</table>\n"
      ],
      "text/latex": [
       "\\begin{tabular}{r|l}\n",
       " count(*)\\\\\n",
       "\\hline\n",
       "\t 19\\\\\n",
       "\\end{tabular}\n"
      ],
      "text/markdown": [
       "\n",
       "count(*) | \n",
       "|---|\n",
       "| 19 | \n",
       "\n",
       "\n"
      ],
      "text/plain": [
       "  count(*)\n",
       "1 19      "
      ]
     },
     "metadata": {},
     "output_type": "display_data"
    },
    {
     "data": {
      "text/html": [
       "<table>\n",
       "<thead><tr><th scope=col>count(*)</th></tr></thead>\n",
       "<tbody>\n",
       "\t<tr><td>30</td></tr>\n",
       "</tbody>\n",
       "</table>\n"
      ],
      "text/latex": [
       "\\begin{tabular}{r|l}\n",
       " count(*)\\\\\n",
       "\\hline\n",
       "\t 30\\\\\n",
       "\\end{tabular}\n"
      ],
      "text/markdown": [
       "\n",
       "count(*) | \n",
       "|---|\n",
       "| 30 | \n",
       "\n",
       "\n"
      ],
      "text/plain": [
       "  count(*)\n",
       "1 30      "
      ]
     },
     "metadata": {},
     "output_type": "display_data"
    }
   ],
   "source": [
    "dbGetQuery(db1, 'SELECT count(*) FROM customer')\n",
    "dbGetQuery(db1, 'SELECT count(*) FROM product')\n",
    "dbGetQuery(db1, 'SELECT count(*) FROM \"order\"')"
   ]
  },
  {
   "cell_type": "code",
   "execution_count": 102,
   "metadata": {},
   "outputs": [
    {
     "data": {
      "text/html": [
       "<table>\n",
       "<thead><tr><th scope=col>customer_id</th><th scope=col>customer_name</th><th scope=col>customer_phone</th></tr></thead>\n",
       "<tbody>\n",
       "\t<tr><td>11111   </td><td>Tom     </td><td>55555555</td></tr>\n",
       "\t<tr><td>11112   </td><td>Sara    </td><td>66666666</td></tr>\n",
       "\t<tr><td>11113   </td><td>Negar   </td><td>33333333</td></tr>\n",
       "\t<tr><td>11114   </td><td>John    </td><td>88888888</td></tr>\n",
       "\t<tr><td>11115   </td><td>David   </td><td>44444444</td></tr>\n",
       "\t<tr><td>11116   </td><td>Ludovic </td><td>77777777</td></tr>\n",
       "</tbody>\n",
       "</table>\n"
      ],
      "text/latex": [
       "\\begin{tabular}{r|lll}\n",
       " customer\\_id & customer\\_name & customer\\_phone\\\\\n",
       "\\hline\n",
       "\t 11111    & Tom      & 55555555\\\\\n",
       "\t 11112    & Sara     & 66666666\\\\\n",
       "\t 11113    & Negar    & 33333333\\\\\n",
       "\t 11114    & John     & 88888888\\\\\n",
       "\t 11115    & David    & 44444444\\\\\n",
       "\t 11116    & Ludovic  & 77777777\\\\\n",
       "\\end{tabular}\n"
      ],
      "text/markdown": [
       "\n",
       "customer_id | customer_name | customer_phone | \n",
       "|---|---|---|---|---|---|\n",
       "| 11111    | Tom      | 55555555 | \n",
       "| 11112    | Sara     | 66666666 | \n",
       "| 11113    | Negar    | 33333333 | \n",
       "| 11114    | John     | 88888888 | \n",
       "| 11115    | David    | 44444444 | \n",
       "| 11116    | Ludovic  | 77777777 | \n",
       "\n",
       "\n"
      ],
      "text/plain": [
       "  customer_id customer_name customer_phone\n",
       "1 11111       Tom           55555555      \n",
       "2 11112       Sara          66666666      \n",
       "3 11113       Negar         33333333      \n",
       "4 11114       John          88888888      \n",
       "5 11115       David         44444444      \n",
       "6 11116       Ludovic       77777777      "
      ]
     },
     "metadata": {},
     "output_type": "display_data"
    }
   ],
   "source": [
    "dbGetQuery(db1, 'SELECT * FROM customer')"
   ]
  },
  {
   "cell_type": "code",
   "execution_count": 95,
   "metadata": {},
   "outputs": [
    {
     "data": {
      "text/html": [
       "<table>\n",
       "<thead><tr><th scope=col>customer_id</th><th scope=col>customer_name</th><th scope=col>customer_phone</th><th scope=col>product_id</th><th scope=col>product_name</th><th scope=col>product_price</th></tr></thead>\n",
       "<tbody>\n",
       "\t<tr><td>11111   </td><td>Tom     </td><td>55555555</td><td>111     </td><td>A       </td><td> 43     </td></tr>\n",
       "\t<tr><td>11111   </td><td>Tom     </td><td>55555555</td><td>112     </td><td>B       </td><td> 28     </td></tr>\n",
       "\t<tr><td>11111   </td><td>Tom     </td><td>55555555</td><td>113     </td><td>C       </td><td> 93     </td></tr>\n",
       "\t<tr><td>11111   </td><td>Tom     </td><td>55555555</td><td>114     </td><td>D       </td><td> 59     </td></tr>\n",
       "\t<tr><td>11111   </td><td>Tom     </td><td>55555555</td><td>115     </td><td>E       </td><td> 12     </td></tr>\n",
       "\t<tr><td>11111   </td><td>Tom     </td><td>55555555</td><td>116     </td><td>F       </td><td> 23     </td></tr>\n",
       "\t<tr><td>11111   </td><td>Tom     </td><td>55555555</td><td>117     </td><td>G       </td><td>100     </td></tr>\n",
       "\t<tr><td>11111   </td><td>Tom     </td><td>55555555</td><td>118     </td><td>H       </td><td> 70     </td></tr>\n",
       "\t<tr><td>11111   </td><td>Tom     </td><td>55555555</td><td>119     </td><td>I       </td><td> 81     </td></tr>\n",
       "\t<tr><td>11111   </td><td>Tom     </td><td>55555555</td><td>120     </td><td>J       </td><td>100     </td></tr>\n",
       "\t<tr><td>11111   </td><td>Tom     </td><td>55555555</td><td>121     </td><td>K       </td><td> 59     </td></tr>\n",
       "\t<tr><td>11111   </td><td>Tom     </td><td>55555555</td><td>122     </td><td>L       </td><td> 18     </td></tr>\n",
       "\t<tr><td>11111   </td><td>Tom     </td><td>55555555</td><td>123     </td><td>M       </td><td> 21     </td></tr>\n",
       "\t<tr><td>11111   </td><td>Tom     </td><td>55555555</td><td>124     </td><td>N       </td><td> 87     </td></tr>\n",
       "\t<tr><td>11111   </td><td>Tom     </td><td>55555555</td><td>125     </td><td>O       </td><td> 80     </td></tr>\n",
       "\t<tr><td>11111   </td><td>Tom     </td><td>55555555</td><td>126     </td><td>P       </td><td> 12     </td></tr>\n",
       "\t<tr><td>11111   </td><td>Tom     </td><td>55555555</td><td>127     </td><td>Q       </td><td> 62     </td></tr>\n",
       "\t<tr><td>11111   </td><td>Tom     </td><td>55555555</td><td>128     </td><td>R       </td><td> 19     </td></tr>\n",
       "\t<tr><td>11111   </td><td>Tom     </td><td>55555555</td><td>129     </td><td>S       </td><td> 35     </td></tr>\n",
       "\t<tr><td>11112   </td><td>Sara    </td><td>66666666</td><td>111     </td><td>A       </td><td> 43     </td></tr>\n",
       "\t<tr><td>11112   </td><td>Sara    </td><td>66666666</td><td>112     </td><td>B       </td><td> 28     </td></tr>\n",
       "\t<tr><td>11112   </td><td>Sara    </td><td>66666666</td><td>113     </td><td>C       </td><td> 93     </td></tr>\n",
       "\t<tr><td>11112   </td><td>Sara    </td><td>66666666</td><td>114     </td><td>D       </td><td> 59     </td></tr>\n",
       "\t<tr><td>11112   </td><td>Sara    </td><td>66666666</td><td>115     </td><td>E       </td><td> 12     </td></tr>\n",
       "\t<tr><td>11112   </td><td>Sara    </td><td>66666666</td><td>116     </td><td>F       </td><td> 23     </td></tr>\n",
       "\t<tr><td>11112   </td><td>Sara    </td><td>66666666</td><td>117     </td><td>G       </td><td>100     </td></tr>\n",
       "\t<tr><td>11112   </td><td>Sara    </td><td>66666666</td><td>118     </td><td>H       </td><td> 70     </td></tr>\n",
       "\t<tr><td>11112   </td><td>Sara    </td><td>66666666</td><td>119     </td><td>I       </td><td> 81     </td></tr>\n",
       "\t<tr><td>11112   </td><td>Sara    </td><td>66666666</td><td>120     </td><td>J       </td><td>100     </td></tr>\n",
       "\t<tr><td>11112   </td><td>Sara    </td><td>66666666</td><td>121     </td><td>K       </td><td> 59     </td></tr>\n",
       "\t<tr><td>...</td><td>...</td><td>...</td><td>...</td><td>...</td><td>...</td></tr>\n",
       "\t<tr><td>11115   </td><td>David   </td><td>44444444</td><td>119     </td><td>I       </td><td> 81     </td></tr>\n",
       "\t<tr><td>11115   </td><td>David   </td><td>44444444</td><td>120     </td><td>J       </td><td>100     </td></tr>\n",
       "\t<tr><td>11115   </td><td>David   </td><td>44444444</td><td>121     </td><td>K       </td><td> 59     </td></tr>\n",
       "\t<tr><td>11115   </td><td>David   </td><td>44444444</td><td>122     </td><td>L       </td><td> 18     </td></tr>\n",
       "\t<tr><td>11115   </td><td>David   </td><td>44444444</td><td>123     </td><td>M       </td><td> 21     </td></tr>\n",
       "\t<tr><td>11115   </td><td>David   </td><td>44444444</td><td>124     </td><td>N       </td><td> 87     </td></tr>\n",
       "\t<tr><td>11115   </td><td>David   </td><td>44444444</td><td>125     </td><td>O       </td><td> 80     </td></tr>\n",
       "\t<tr><td>11115   </td><td>David   </td><td>44444444</td><td>126     </td><td>P       </td><td> 12     </td></tr>\n",
       "\t<tr><td>11115   </td><td>David   </td><td>44444444</td><td>127     </td><td>Q       </td><td> 62     </td></tr>\n",
       "\t<tr><td>11115   </td><td>David   </td><td>44444444</td><td>128     </td><td>R       </td><td> 19     </td></tr>\n",
       "\t<tr><td>11115   </td><td>David   </td><td>44444444</td><td>129     </td><td>S       </td><td> 35     </td></tr>\n",
       "\t<tr><td>11116   </td><td>Ludovic </td><td>77777777</td><td>111     </td><td>A       </td><td> 43     </td></tr>\n",
       "\t<tr><td>11116   </td><td>Ludovic </td><td>77777777</td><td>112     </td><td>B       </td><td> 28     </td></tr>\n",
       "\t<tr><td>11116   </td><td>Ludovic </td><td>77777777</td><td>113     </td><td>C       </td><td> 93     </td></tr>\n",
       "\t<tr><td>11116   </td><td>Ludovic </td><td>77777777</td><td>114     </td><td>D       </td><td> 59     </td></tr>\n",
       "\t<tr><td>11116   </td><td>Ludovic </td><td>77777777</td><td>115     </td><td>E       </td><td> 12     </td></tr>\n",
       "\t<tr><td>11116   </td><td>Ludovic </td><td>77777777</td><td>116     </td><td>F       </td><td> 23     </td></tr>\n",
       "\t<tr><td>11116   </td><td>Ludovic </td><td>77777777</td><td>117     </td><td>G       </td><td>100     </td></tr>\n",
       "\t<tr><td>11116   </td><td>Ludovic </td><td>77777777</td><td>118     </td><td>H       </td><td> 70     </td></tr>\n",
       "\t<tr><td>11116   </td><td>Ludovic </td><td>77777777</td><td>119     </td><td>I       </td><td> 81     </td></tr>\n",
       "\t<tr><td>11116   </td><td>Ludovic </td><td>77777777</td><td>120     </td><td>J       </td><td>100     </td></tr>\n",
       "\t<tr><td>11116   </td><td>Ludovic </td><td>77777777</td><td>121     </td><td>K       </td><td> 59     </td></tr>\n",
       "\t<tr><td>11116   </td><td>Ludovic </td><td>77777777</td><td>122     </td><td>L       </td><td> 18     </td></tr>\n",
       "\t<tr><td>11116   </td><td>Ludovic </td><td>77777777</td><td>123     </td><td>M       </td><td> 21     </td></tr>\n",
       "\t<tr><td>11116   </td><td>Ludovic </td><td>77777777</td><td>124     </td><td>N       </td><td> 87     </td></tr>\n",
       "\t<tr><td>11116   </td><td>Ludovic </td><td>77777777</td><td>125     </td><td>O       </td><td> 80     </td></tr>\n",
       "\t<tr><td>11116   </td><td>Ludovic </td><td>77777777</td><td>126     </td><td>P       </td><td> 12     </td></tr>\n",
       "\t<tr><td>11116   </td><td>Ludovic </td><td>77777777</td><td>127     </td><td>Q       </td><td> 62     </td></tr>\n",
       "\t<tr><td>11116   </td><td>Ludovic </td><td>77777777</td><td>128     </td><td>R       </td><td> 19     </td></tr>\n",
       "\t<tr><td>11116   </td><td>Ludovic </td><td>77777777</td><td>129     </td><td>S       </td><td> 35     </td></tr>\n",
       "</tbody>\n",
       "</table>\n"
      ],
      "text/latex": [
       "\\begin{tabular}{r|llllll}\n",
       " customer\\_id & customer\\_name & customer\\_phone & product\\_id & product\\_name & product\\_price\\\\\n",
       "\\hline\n",
       "\t 11111    & Tom      & 55555555 & 111      & A        &  43     \\\\\n",
       "\t 11111    & Tom      & 55555555 & 112      & B        &  28     \\\\\n",
       "\t 11111    & Tom      & 55555555 & 113      & C        &  93     \\\\\n",
       "\t 11111    & Tom      & 55555555 & 114      & D        &  59     \\\\\n",
       "\t 11111    & Tom      & 55555555 & 115      & E        &  12     \\\\\n",
       "\t 11111    & Tom      & 55555555 & 116      & F        &  23     \\\\\n",
       "\t 11111    & Tom      & 55555555 & 117      & G        & 100     \\\\\n",
       "\t 11111    & Tom      & 55555555 & 118      & H        &  70     \\\\\n",
       "\t 11111    & Tom      & 55555555 & 119      & I        &  81     \\\\\n",
       "\t 11111    & Tom      & 55555555 & 120      & J        & 100     \\\\\n",
       "\t 11111    & Tom      & 55555555 & 121      & K        &  59     \\\\\n",
       "\t 11111    & Tom      & 55555555 & 122      & L        &  18     \\\\\n",
       "\t 11111    & Tom      & 55555555 & 123      & M        &  21     \\\\\n",
       "\t 11111    & Tom      & 55555555 & 124      & N        &  87     \\\\\n",
       "\t 11111    & Tom      & 55555555 & 125      & O        &  80     \\\\\n",
       "\t 11111    & Tom      & 55555555 & 126      & P        &  12     \\\\\n",
       "\t 11111    & Tom      & 55555555 & 127      & Q        &  62     \\\\\n",
       "\t 11111    & Tom      & 55555555 & 128      & R        &  19     \\\\\n",
       "\t 11111    & Tom      & 55555555 & 129      & S        &  35     \\\\\n",
       "\t 11112    & Sara     & 66666666 & 111      & A        &  43     \\\\\n",
       "\t 11112    & Sara     & 66666666 & 112      & B        &  28     \\\\\n",
       "\t 11112    & Sara     & 66666666 & 113      & C        &  93     \\\\\n",
       "\t 11112    & Sara     & 66666666 & 114      & D        &  59     \\\\\n",
       "\t 11112    & Sara     & 66666666 & 115      & E        &  12     \\\\\n",
       "\t 11112    & Sara     & 66666666 & 116      & F        &  23     \\\\\n",
       "\t 11112    & Sara     & 66666666 & 117      & G        & 100     \\\\\n",
       "\t 11112    & Sara     & 66666666 & 118      & H        &  70     \\\\\n",
       "\t 11112    & Sara     & 66666666 & 119      & I        &  81     \\\\\n",
       "\t 11112    & Sara     & 66666666 & 120      & J        & 100     \\\\\n",
       "\t 11112    & Sara     & 66666666 & 121      & K        &  59     \\\\\n",
       "\t ... & ... & ... & ... & ... & ...\\\\\n",
       "\t 11115    & David    & 44444444 & 119      & I        &  81     \\\\\n",
       "\t 11115    & David    & 44444444 & 120      & J        & 100     \\\\\n",
       "\t 11115    & David    & 44444444 & 121      & K        &  59     \\\\\n",
       "\t 11115    & David    & 44444444 & 122      & L        &  18     \\\\\n",
       "\t 11115    & David    & 44444444 & 123      & M        &  21     \\\\\n",
       "\t 11115    & David    & 44444444 & 124      & N        &  87     \\\\\n",
       "\t 11115    & David    & 44444444 & 125      & O        &  80     \\\\\n",
       "\t 11115    & David    & 44444444 & 126      & P        &  12     \\\\\n",
       "\t 11115    & David    & 44444444 & 127      & Q        &  62     \\\\\n",
       "\t 11115    & David    & 44444444 & 128      & R        &  19     \\\\\n",
       "\t 11115    & David    & 44444444 & 129      & S        &  35     \\\\\n",
       "\t 11116    & Ludovic  & 77777777 & 111      & A        &  43     \\\\\n",
       "\t 11116    & Ludovic  & 77777777 & 112      & B        &  28     \\\\\n",
       "\t 11116    & Ludovic  & 77777777 & 113      & C        &  93     \\\\\n",
       "\t 11116    & Ludovic  & 77777777 & 114      & D        &  59     \\\\\n",
       "\t 11116    & Ludovic  & 77777777 & 115      & E        &  12     \\\\\n",
       "\t 11116    & Ludovic  & 77777777 & 116      & F        &  23     \\\\\n",
       "\t 11116    & Ludovic  & 77777777 & 117      & G        & 100     \\\\\n",
       "\t 11116    & Ludovic  & 77777777 & 118      & H        &  70     \\\\\n",
       "\t 11116    & Ludovic  & 77777777 & 119      & I        &  81     \\\\\n",
       "\t 11116    & Ludovic  & 77777777 & 120      & J        & 100     \\\\\n",
       "\t 11116    & Ludovic  & 77777777 & 121      & K        &  59     \\\\\n",
       "\t 11116    & Ludovic  & 77777777 & 122      & L        &  18     \\\\\n",
       "\t 11116    & Ludovic  & 77777777 & 123      & M        &  21     \\\\\n",
       "\t 11116    & Ludovic  & 77777777 & 124      & N        &  87     \\\\\n",
       "\t 11116    & Ludovic  & 77777777 & 125      & O        &  80     \\\\\n",
       "\t 11116    & Ludovic  & 77777777 & 126      & P        &  12     \\\\\n",
       "\t 11116    & Ludovic  & 77777777 & 127      & Q        &  62     \\\\\n",
       "\t 11116    & Ludovic  & 77777777 & 128      & R        &  19     \\\\\n",
       "\t 11116    & Ludovic  & 77777777 & 129      & S        &  35     \\\\\n",
       "\\end{tabular}\n"
      ],
      "text/markdown": [
       "\n",
       "customer_id | customer_name | customer_phone | product_id | product_name | product_price | \n",
       "|---|---|---|---|---|---|---|---|---|---|---|---|---|---|---|---|---|---|---|---|---|---|---|---|---|---|---|---|---|---|---|---|---|---|---|---|---|---|---|---|---|---|---|---|---|---|---|---|---|---|---|---|---|---|---|---|---|---|---|---|---|\n",
       "| 11111    | Tom      | 55555555 | 111      | A        |  43      | \n",
       "| 11111    | Tom      | 55555555 | 112      | B        |  28      | \n",
       "| 11111    | Tom      | 55555555 | 113      | C        |  93      | \n",
       "| 11111    | Tom      | 55555555 | 114      | D        |  59      | \n",
       "| 11111    | Tom      | 55555555 | 115      | E        |  12      | \n",
       "| 11111    | Tom      | 55555555 | 116      | F        |  23      | \n",
       "| 11111    | Tom      | 55555555 | 117      | G        | 100      | \n",
       "| 11111    | Tom      | 55555555 | 118      | H        |  70      | \n",
       "| 11111    | Tom      | 55555555 | 119      | I        |  81      | \n",
       "| 11111    | Tom      | 55555555 | 120      | J        | 100      | \n",
       "| 11111    | Tom      | 55555555 | 121      | K        |  59      | \n",
       "| 11111    | Tom      | 55555555 | 122      | L        |  18      | \n",
       "| 11111    | Tom      | 55555555 | 123      | M        |  21      | \n",
       "| 11111    | Tom      | 55555555 | 124      | N        |  87      | \n",
       "| 11111    | Tom      | 55555555 | 125      | O        |  80      | \n",
       "| 11111    | Tom      | 55555555 | 126      | P        |  12      | \n",
       "| 11111    | Tom      | 55555555 | 127      | Q        |  62      | \n",
       "| 11111    | Tom      | 55555555 | 128      | R        |  19      | \n",
       "| 11111    | Tom      | 55555555 | 129      | S        |  35      | \n",
       "| 11112    | Sara     | 66666666 | 111      | A        |  43      | \n",
       "| 11112    | Sara     | 66666666 | 112      | B        |  28      | \n",
       "| 11112    | Sara     | 66666666 | 113      | C        |  93      | \n",
       "| 11112    | Sara     | 66666666 | 114      | D        |  59      | \n",
       "| 11112    | Sara     | 66666666 | 115      | E        |  12      | \n",
       "| 11112    | Sara     | 66666666 | 116      | F        |  23      | \n",
       "| 11112    | Sara     | 66666666 | 117      | G        | 100      | \n",
       "| 11112    | Sara     | 66666666 | 118      | H        |  70      | \n",
       "| 11112    | Sara     | 66666666 | 119      | I        |  81      | \n",
       "| 11112    | Sara     | 66666666 | 120      | J        | 100      | \n",
       "| 11112    | Sara     | 66666666 | 121      | K        |  59      | \n",
       "| ... | ... | ... | ... | ... | ... | \n",
       "| 11115    | David    | 44444444 | 119      | I        |  81      | \n",
       "| 11115    | David    | 44444444 | 120      | J        | 100      | \n",
       "| 11115    | David    | 44444444 | 121      | K        |  59      | \n",
       "| 11115    | David    | 44444444 | 122      | L        |  18      | \n",
       "| 11115    | David    | 44444444 | 123      | M        |  21      | \n",
       "| 11115    | David    | 44444444 | 124      | N        |  87      | \n",
       "| 11115    | David    | 44444444 | 125      | O        |  80      | \n",
       "| 11115    | David    | 44444444 | 126      | P        |  12      | \n",
       "| 11115    | David    | 44444444 | 127      | Q        |  62      | \n",
       "| 11115    | David    | 44444444 | 128      | R        |  19      | \n",
       "| 11115    | David    | 44444444 | 129      | S        |  35      | \n",
       "| 11116    | Ludovic  | 77777777 | 111      | A        |  43      | \n",
       "| 11116    | Ludovic  | 77777777 | 112      | B        |  28      | \n",
       "| 11116    | Ludovic  | 77777777 | 113      | C        |  93      | \n",
       "| 11116    | Ludovic  | 77777777 | 114      | D        |  59      | \n",
       "| 11116    | Ludovic  | 77777777 | 115      | E        |  12      | \n",
       "| 11116    | Ludovic  | 77777777 | 116      | F        |  23      | \n",
       "| 11116    | Ludovic  | 77777777 | 117      | G        | 100      | \n",
       "| 11116    | Ludovic  | 77777777 | 118      | H        |  70      | \n",
       "| 11116    | Ludovic  | 77777777 | 119      | I        |  81      | \n",
       "| 11116    | Ludovic  | 77777777 | 120      | J        | 100      | \n",
       "| 11116    | Ludovic  | 77777777 | 121      | K        |  59      | \n",
       "| 11116    | Ludovic  | 77777777 | 122      | L        |  18      | \n",
       "| 11116    | Ludovic  | 77777777 | 123      | M        |  21      | \n",
       "| 11116    | Ludovic  | 77777777 | 124      | N        |  87      | \n",
       "| 11116    | Ludovic  | 77777777 | 125      | O        |  80      | \n",
       "| 11116    | Ludovic  | 77777777 | 126      | P        |  12      | \n",
       "| 11116    | Ludovic  | 77777777 | 127      | Q        |  62      | \n",
       "| 11116    | Ludovic  | 77777777 | 128      | R        |  19      | \n",
       "| 11116    | Ludovic  | 77777777 | 129      | S        |  35      | \n",
       "\n",
       "\n"
      ],
      "text/plain": [
       "    customer_id customer_name customer_phone product_id product_name\n",
       "1   11111       Tom           55555555       111        A           \n",
       "2   11111       Tom           55555555       112        B           \n",
       "3   11111       Tom           55555555       113        C           \n",
       "4   11111       Tom           55555555       114        D           \n",
       "5   11111       Tom           55555555       115        E           \n",
       "6   11111       Tom           55555555       116        F           \n",
       "7   11111       Tom           55555555       117        G           \n",
       "8   11111       Tom           55555555       118        H           \n",
       "9   11111       Tom           55555555       119        I           \n",
       "10  11111       Tom           55555555       120        J           \n",
       "11  11111       Tom           55555555       121        K           \n",
       "12  11111       Tom           55555555       122        L           \n",
       "13  11111       Tom           55555555       123        M           \n",
       "14  11111       Tom           55555555       124        N           \n",
       "15  11111       Tom           55555555       125        O           \n",
       "16  11111       Tom           55555555       126        P           \n",
       "17  11111       Tom           55555555       127        Q           \n",
       "18  11111       Tom           55555555       128        R           \n",
       "19  11111       Tom           55555555       129        S           \n",
       "20  11112       Sara          66666666       111        A           \n",
       "21  11112       Sara          66666666       112        B           \n",
       "22  11112       Sara          66666666       113        C           \n",
       "23  11112       Sara          66666666       114        D           \n",
       "24  11112       Sara          66666666       115        E           \n",
       "25  11112       Sara          66666666       116        F           \n",
       "26  11112       Sara          66666666       117        G           \n",
       "27  11112       Sara          66666666       118        H           \n",
       "28  11112       Sara          66666666       119        I           \n",
       "29  11112       Sara          66666666       120        J           \n",
       "30  11112       Sara          66666666       121        K           \n",
       "... ...         ...           ...            ...        ...         \n",
       "85  11115       David         44444444       119        I           \n",
       "86  11115       David         44444444       120        J           \n",
       "87  11115       David         44444444       121        K           \n",
       "88  11115       David         44444444       122        L           \n",
       "89  11115       David         44444444       123        M           \n",
       "90  11115       David         44444444       124        N           \n",
       "91  11115       David         44444444       125        O           \n",
       "92  11115       David         44444444       126        P           \n",
       "93  11115       David         44444444       127        Q           \n",
       "94  11115       David         44444444       128        R           \n",
       "95  11115       David         44444444       129        S           \n",
       "96  11116       Ludovic       77777777       111        A           \n",
       "97  11116       Ludovic       77777777       112        B           \n",
       "98  11116       Ludovic       77777777       113        C           \n",
       "99  11116       Ludovic       77777777       114        D           \n",
       "100 11116       Ludovic       77777777       115        E           \n",
       "101 11116       Ludovic       77777777       116        F           \n",
       "102 11116       Ludovic       77777777       117        G           \n",
       "103 11116       Ludovic       77777777       118        H           \n",
       "104 11116       Ludovic       77777777       119        I           \n",
       "105 11116       Ludovic       77777777       120        J           \n",
       "106 11116       Ludovic       77777777       121        K           \n",
       "107 11116       Ludovic       77777777       122        L           \n",
       "108 11116       Ludovic       77777777       123        M           \n",
       "109 11116       Ludovic       77777777       124        N           \n",
       "110 11116       Ludovic       77777777       125        O           \n",
       "111 11116       Ludovic       77777777       126        P           \n",
       "112 11116       Ludovic       77777777       127        Q           \n",
       "113 11116       Ludovic       77777777       128        R           \n",
       "114 11116       Ludovic       77777777       129        S           \n",
       "    product_price\n",
       "1    43          \n",
       "2    28          \n",
       "3    93          \n",
       "4    59          \n",
       "5    12          \n",
       "6    23          \n",
       "7   100          \n",
       "8    70          \n",
       "9    81          \n",
       "10  100          \n",
       "11   59          \n",
       "12   18          \n",
       "13   21          \n",
       "14   87          \n",
       "15   80          \n",
       "16   12          \n",
       "17   62          \n",
       "18   19          \n",
       "19   35          \n",
       "20   43          \n",
       "21   28          \n",
       "22   93          \n",
       "23   59          \n",
       "24   12          \n",
       "25   23          \n",
       "26  100          \n",
       "27   70          \n",
       "28   81          \n",
       "29  100          \n",
       "30   59          \n",
       "... ...          \n",
       "85   81          \n",
       "86  100          \n",
       "87   59          \n",
       "88   18          \n",
       "89   21          \n",
       "90   87          \n",
       "91   80          \n",
       "92   12          \n",
       "93   62          \n",
       "94   19          \n",
       "95   35          \n",
       "96   43          \n",
       "97   28          \n",
       "98   93          \n",
       "99   59          \n",
       "100  12          \n",
       "101  23          \n",
       "102 100          \n",
       "103  70          \n",
       "104  81          \n",
       "105 100          \n",
       "106  59          \n",
       "107  18          \n",
       "108  21          \n",
       "109  87          \n",
       "110  80          \n",
       "111  12          \n",
       "112  62          \n",
       "113  19          \n",
       "114  35          "
      ]
     },
     "metadata": {},
     "output_type": "display_data"
    }
   ],
   "source": [
    "dbGetQuery(db1, 'SELECT * FROM customer CROSS JOIN product')"
   ]
  },
  {
   "cell_type": "code",
   "execution_count": 96,
   "metadata": {},
   "outputs": [
    {
     "data": {
      "text/html": [
       "<table>\n",
       "<thead><tr><th scope=col>customer_id</th><th scope=col>customer_name</th><th scope=col>customer_phone</th><th scope=col>age</th><th scope=col>order_id</th><th scope=col>order_customer_id</th><th scope=col>order_product_id</th><th scope=col>order_product_count</th></tr></thead>\n",
       "<tbody>\n",
       "\t<tr><td>11111     </td><td>Tom       </td><td>55555555  </td><td>37        </td><td>1111111119</td><td>11111     </td><td>122       </td><td>2         </td></tr>\n",
       "\t<tr><td>11111     </td><td>Tom       </td><td>55555555  </td><td>37        </td><td>1111111121</td><td>11111     </td><td>124       </td><td>4         </td></tr>\n",
       "\t<tr><td>11111     </td><td>Tom       </td><td>55555555  </td><td>37        </td><td>1111111123</td><td>11111     </td><td>124       </td><td>2         </td></tr>\n",
       "\t<tr><td>11111     </td><td>Tom       </td><td>55555555  </td><td>37        </td><td>1111111127</td><td>11111     </td><td>128       </td><td>5         </td></tr>\n",
       "\t<tr><td>11111     </td><td>Tom       </td><td>55555555  </td><td>37        </td><td>1111111131</td><td>11111     </td><td>123       </td><td>1         </td></tr>\n",
       "\t<tr><td>11111     </td><td>Tom       </td><td>55555555  </td><td>37        </td><td>1111111133</td><td>11111     </td><td>114       </td><td>4         </td></tr>\n",
       "\t<tr><td>11111     </td><td>Tom       </td><td>55555555  </td><td>37        </td><td>1111111135</td><td>11111     </td><td>124       </td><td>2         </td></tr>\n",
       "\t<tr><td>11111     </td><td>Tom       </td><td>55555555  </td><td>37        </td><td>1111111137</td><td>11111     </td><td>120       </td><td>1         </td></tr>\n",
       "\t<tr><td>11111     </td><td>Tom       </td><td>55555555  </td><td>37        </td><td>1111111139</td><td>11111     </td><td>122       </td><td>3         </td></tr>\n",
       "\t<tr><td>11112     </td><td>Sara      </td><td>66666666  </td><td>43        </td><td>1111111117</td><td>11112     </td><td>125       </td><td>4         </td></tr>\n",
       "\t<tr><td>11112     </td><td>Sara      </td><td>66666666  </td><td>43        </td><td>1111111118</td><td>11112     </td><td>120       </td><td>3         </td></tr>\n",
       "\t<tr><td>11113     </td><td>Negar     </td><td>33333333  </td><td>61        </td><td>1111111111</td><td>11113     </td><td>123       </td><td>3         </td></tr>\n",
       "\t<tr><td>11113     </td><td>Negar     </td><td>33333333  </td><td>61        </td><td>1111111114</td><td>11113     </td><td>124       </td><td>1         </td></tr>\n",
       "\t<tr><td>11113     </td><td>Negar     </td><td>33333333  </td><td>61        </td><td>1111111116</td><td>11113     </td><td>119       </td><td>2         </td></tr>\n",
       "\t<tr><td>11113     </td><td>Negar     </td><td>33333333  </td><td>61        </td><td>1111111124</td><td>11113     </td><td>126       </td><td>2         </td></tr>\n",
       "\t<tr><td>11113     </td><td>Negar     </td><td>33333333  </td><td>61        </td><td>1111111125</td><td>11113     </td><td>129       </td><td>3         </td></tr>\n",
       "\t<tr><td>11113     </td><td>Negar     </td><td>33333333  </td><td>61        </td><td>1111111136</td><td>11113     </td><td>113       </td><td>3         </td></tr>\n",
       "\t<tr><td>11114     </td><td>John      </td><td>88888888  </td><td>28        </td><td>1111111113</td><td>11114     </td><td>121       </td><td>1         </td></tr>\n",
       "\t<tr><td>11114     </td><td>John      </td><td>88888888  </td><td>28        </td><td>1111111120</td><td>11114     </td><td>123       </td><td>4         </td></tr>\n",
       "\t<tr><td>11114     </td><td>John      </td><td>88888888  </td><td>28        </td><td>1111111122</td><td>11114     </td><td>129       </td><td>1         </td></tr>\n",
       "\t<tr><td>11114     </td><td>John      </td><td>88888888  </td><td>28        </td><td>1111111134</td><td>11114     </td><td>123       </td><td>2         </td></tr>\n",
       "\t<tr><td>11115     </td><td>David     </td><td>44444444  </td><td>32        </td><td>1111111112</td><td>11115     </td><td>125       </td><td>5         </td></tr>\n",
       "\t<tr><td>11115     </td><td>David     </td><td>44444444  </td><td>32        </td><td>1111111115</td><td>11115     </td><td>125       </td><td>3         </td></tr>\n",
       "\t<tr><td>11115     </td><td>David     </td><td>44444444  </td><td>32        </td><td>1111111126</td><td>11115     </td><td>126       </td><td>5         </td></tr>\n",
       "\t<tr><td>11115     </td><td>David     </td><td>44444444  </td><td>32        </td><td>1111111128</td><td>11115     </td><td>129       </td><td>4         </td></tr>\n",
       "\t<tr><td>11115     </td><td>David     </td><td>44444444  </td><td>32        </td><td>1111111129</td><td>11115     </td><td>111       </td><td>3         </td></tr>\n",
       "\t<tr><td>11115     </td><td>David     </td><td>44444444  </td><td>32        </td><td>1111111130</td><td>11115     </td><td>125       </td><td>4         </td></tr>\n",
       "\t<tr><td>11115     </td><td>David     </td><td>44444444  </td><td>32        </td><td>1111111132</td><td>11115     </td><td>112       </td><td>4         </td></tr>\n",
       "\t<tr><td>11115     </td><td>David     </td><td>44444444  </td><td>32        </td><td>1111111138</td><td>11115     </td><td>126       </td><td>5         </td></tr>\n",
       "</tbody>\n",
       "</table>\n"
      ],
      "text/latex": [
       "\\begin{tabular}{r|llllllll}\n",
       " customer\\_id & customer\\_name & customer\\_phone & age & order\\_id & order\\_customer\\_id & order\\_product\\_id & order\\_product\\_count\\\\\n",
       "\\hline\n",
       "\t 11111      & Tom        & 55555555   & 37         & 1111111119 & 11111      & 122        & 2         \\\\\n",
       "\t 11111      & Tom        & 55555555   & 37         & 1111111121 & 11111      & 124        & 4         \\\\\n",
       "\t 11111      & Tom        & 55555555   & 37         & 1111111123 & 11111      & 124        & 2         \\\\\n",
       "\t 11111      & Tom        & 55555555   & 37         & 1111111127 & 11111      & 128        & 5         \\\\\n",
       "\t 11111      & Tom        & 55555555   & 37         & 1111111131 & 11111      & 123        & 1         \\\\\n",
       "\t 11111      & Tom        & 55555555   & 37         & 1111111133 & 11111      & 114        & 4         \\\\\n",
       "\t 11111      & Tom        & 55555555   & 37         & 1111111135 & 11111      & 124        & 2         \\\\\n",
       "\t 11111      & Tom        & 55555555   & 37         & 1111111137 & 11111      & 120        & 1         \\\\\n",
       "\t 11111      & Tom        & 55555555   & 37         & 1111111139 & 11111      & 122        & 3         \\\\\n",
       "\t 11112      & Sara       & 66666666   & 43         & 1111111117 & 11112      & 125        & 4         \\\\\n",
       "\t 11112      & Sara       & 66666666   & 43         & 1111111118 & 11112      & 120        & 3         \\\\\n",
       "\t 11113      & Negar      & 33333333   & 61         & 1111111111 & 11113      & 123        & 3         \\\\\n",
       "\t 11113      & Negar      & 33333333   & 61         & 1111111114 & 11113      & 124        & 1         \\\\\n",
       "\t 11113      & Negar      & 33333333   & 61         & 1111111116 & 11113      & 119        & 2         \\\\\n",
       "\t 11113      & Negar      & 33333333   & 61         & 1111111124 & 11113      & 126        & 2         \\\\\n",
       "\t 11113      & Negar      & 33333333   & 61         & 1111111125 & 11113      & 129        & 3         \\\\\n",
       "\t 11113      & Negar      & 33333333   & 61         & 1111111136 & 11113      & 113        & 3         \\\\\n",
       "\t 11114      & John       & 88888888   & 28         & 1111111113 & 11114      & 121        & 1         \\\\\n",
       "\t 11114      & John       & 88888888   & 28         & 1111111120 & 11114      & 123        & 4         \\\\\n",
       "\t 11114      & John       & 88888888   & 28         & 1111111122 & 11114      & 129        & 1         \\\\\n",
       "\t 11114      & John       & 88888888   & 28         & 1111111134 & 11114      & 123        & 2         \\\\\n",
       "\t 11115      & David      & 44444444   & 32         & 1111111112 & 11115      & 125        & 5         \\\\\n",
       "\t 11115      & David      & 44444444   & 32         & 1111111115 & 11115      & 125        & 3         \\\\\n",
       "\t 11115      & David      & 44444444   & 32         & 1111111126 & 11115      & 126        & 5         \\\\\n",
       "\t 11115      & David      & 44444444   & 32         & 1111111128 & 11115      & 129        & 4         \\\\\n",
       "\t 11115      & David      & 44444444   & 32         & 1111111129 & 11115      & 111        & 3         \\\\\n",
       "\t 11115      & David      & 44444444   & 32         & 1111111130 & 11115      & 125        & 4         \\\\\n",
       "\t 11115      & David      & 44444444   & 32         & 1111111132 & 11115      & 112        & 4         \\\\\n",
       "\t 11115      & David      & 44444444   & 32         & 1111111138 & 11115      & 126        & 5         \\\\\n",
       "\\end{tabular}\n"
      ],
      "text/markdown": [
       "\n",
       "customer_id | customer_name | customer_phone | age | order_id | order_customer_id | order_product_id | order_product_count | \n",
       "|---|---|---|---|---|---|---|---|---|---|---|---|---|---|---|---|---|---|---|---|---|---|---|---|---|---|---|---|---|\n",
       "| 11111      | Tom        | 55555555   | 37         | 1111111119 | 11111      | 122        | 2          | \n",
       "| 11111      | Tom        | 55555555   | 37         | 1111111121 | 11111      | 124        | 4          | \n",
       "| 11111      | Tom        | 55555555   | 37         | 1111111123 | 11111      | 124        | 2          | \n",
       "| 11111      | Tom        | 55555555   | 37         | 1111111127 | 11111      | 128        | 5          | \n",
       "| 11111      | Tom        | 55555555   | 37         | 1111111131 | 11111      | 123        | 1          | \n",
       "| 11111      | Tom        | 55555555   | 37         | 1111111133 | 11111      | 114        | 4          | \n",
       "| 11111      | Tom        | 55555555   | 37         | 1111111135 | 11111      | 124        | 2          | \n",
       "| 11111      | Tom        | 55555555   | 37         | 1111111137 | 11111      | 120        | 1          | \n",
       "| 11111      | Tom        | 55555555   | 37         | 1111111139 | 11111      | 122        | 3          | \n",
       "| 11112      | Sara       | 66666666   | 43         | 1111111117 | 11112      | 125        | 4          | \n",
       "| 11112      | Sara       | 66666666   | 43         | 1111111118 | 11112      | 120        | 3          | \n",
       "| 11113      | Negar      | 33333333   | 61         | 1111111111 | 11113      | 123        | 3          | \n",
       "| 11113      | Negar      | 33333333   | 61         | 1111111114 | 11113      | 124        | 1          | \n",
       "| 11113      | Negar      | 33333333   | 61         | 1111111116 | 11113      | 119        | 2          | \n",
       "| 11113      | Negar      | 33333333   | 61         | 1111111124 | 11113      | 126        | 2          | \n",
       "| 11113      | Negar      | 33333333   | 61         | 1111111125 | 11113      | 129        | 3          | \n",
       "| 11113      | Negar      | 33333333   | 61         | 1111111136 | 11113      | 113        | 3          | \n",
       "| 11114      | John       | 88888888   | 28         | 1111111113 | 11114      | 121        | 1          | \n",
       "| 11114      | John       | 88888888   | 28         | 1111111120 | 11114      | 123        | 4          | \n",
       "| 11114      | John       | 88888888   | 28         | 1111111122 | 11114      | 129        | 1          | \n",
       "| 11114      | John       | 88888888   | 28         | 1111111134 | 11114      | 123        | 2          | \n",
       "| 11115      | David      | 44444444   | 32         | 1111111112 | 11115      | 125        | 5          | \n",
       "| 11115      | David      | 44444444   | 32         | 1111111115 | 11115      | 125        | 3          | \n",
       "| 11115      | David      | 44444444   | 32         | 1111111126 | 11115      | 126        | 5          | \n",
       "| 11115      | David      | 44444444   | 32         | 1111111128 | 11115      | 129        | 4          | \n",
       "| 11115      | David      | 44444444   | 32         | 1111111129 | 11115      | 111        | 3          | \n",
       "| 11115      | David      | 44444444   | 32         | 1111111130 | 11115      | 125        | 4          | \n",
       "| 11115      | David      | 44444444   | 32         | 1111111132 | 11115      | 112        | 4          | \n",
       "| 11115      | David      | 44444444   | 32         | 1111111138 | 11115      | 126        | 5          | \n",
       "\n",
       "\n"
      ],
      "text/plain": [
       "   customer_id customer_name customer_phone age order_id   order_customer_id\n",
       "1  11111       Tom           55555555       37  1111111119 11111            \n",
       "2  11111       Tom           55555555       37  1111111121 11111            \n",
       "3  11111       Tom           55555555       37  1111111123 11111            \n",
       "4  11111       Tom           55555555       37  1111111127 11111            \n",
       "5  11111       Tom           55555555       37  1111111131 11111            \n",
       "6  11111       Tom           55555555       37  1111111133 11111            \n",
       "7  11111       Tom           55555555       37  1111111135 11111            \n",
       "8  11111       Tom           55555555       37  1111111137 11111            \n",
       "9  11111       Tom           55555555       37  1111111139 11111            \n",
       "10 11112       Sara          66666666       43  1111111117 11112            \n",
       "11 11112       Sara          66666666       43  1111111118 11112            \n",
       "12 11113       Negar         33333333       61  1111111111 11113            \n",
       "13 11113       Negar         33333333       61  1111111114 11113            \n",
       "14 11113       Negar         33333333       61  1111111116 11113            \n",
       "15 11113       Negar         33333333       61  1111111124 11113            \n",
       "16 11113       Negar         33333333       61  1111111125 11113            \n",
       "17 11113       Negar         33333333       61  1111111136 11113            \n",
       "18 11114       John          88888888       28  1111111113 11114            \n",
       "19 11114       John          88888888       28  1111111120 11114            \n",
       "20 11114       John          88888888       28  1111111122 11114            \n",
       "21 11114       John          88888888       28  1111111134 11114            \n",
       "22 11115       David         44444444       32  1111111112 11115            \n",
       "23 11115       David         44444444       32  1111111115 11115            \n",
       "24 11115       David         44444444       32  1111111126 11115            \n",
       "25 11115       David         44444444       32  1111111128 11115            \n",
       "26 11115       David         44444444       32  1111111129 11115            \n",
       "27 11115       David         44444444       32  1111111130 11115            \n",
       "28 11115       David         44444444       32  1111111132 11115            \n",
       "29 11115       David         44444444       32  1111111138 11115            \n",
       "   order_product_id order_product_count\n",
       "1  122              2                  \n",
       "2  124              4                  \n",
       "3  124              2                  \n",
       "4  128              5                  \n",
       "5  123              1                  \n",
       "6  114              4                  \n",
       "7  124              2                  \n",
       "8  120              1                  \n",
       "9  122              3                  \n",
       "10 125              4                  \n",
       "11 120              3                  \n",
       "12 123              3                  \n",
       "13 124              1                  \n",
       "14 119              2                  \n",
       "15 126              2                  \n",
       "16 129              3                  \n",
       "17 113              3                  \n",
       "18 121              1                  \n",
       "19 123              4                  \n",
       "20 129              1                  \n",
       "21 123              2                  \n",
       "22 125              5                  \n",
       "23 125              3                  \n",
       "24 126              5                  \n",
       "25 129              4                  \n",
       "26 111              3                  \n",
       "27 125              4                  \n",
       "28 112              4                  \n",
       "29 126              5                  "
      ]
     },
     "metadata": {},
     "output_type": "display_data"
    }
   ],
   "source": [
    "dbGetQuery(db2, \"select * from customer CROSS JOIN 'order' where customer_id = order_customer_id\")"
   ]
  },
  {
   "cell_type": "code",
   "execution_count": 97,
   "metadata": {},
   "outputs": [
    {
     "data": {
      "text/html": [
       "95"
      ],
      "text/latex": [
       "95"
      ],
      "text/markdown": [
       "95"
      ],
      "text/plain": [
       "[1] 95"
      ]
     },
     "metadata": {},
     "output_type": "display_data"
    },
    {
     "data": {
      "text/html": [
       "<table>\n",
       "<thead><tr><th scope=col>count(*)</th></tr></thead>\n",
       "<tbody>\n",
       "\t<tr><td>114</td></tr>\n",
       "</tbody>\n",
       "</table>\n"
      ],
      "text/latex": [
       "\\begin{tabular}{r|l}\n",
       " count(*)\\\\\n",
       "\\hline\n",
       "\t 114\\\\\n",
       "\\end{tabular}\n"
      ],
      "text/markdown": [
       "\n",
       "count(*) | \n",
       "|---|\n",
       "| 114 | \n",
       "\n",
       "\n"
      ],
      "text/plain": [
       "  count(*)\n",
       "1 114     "
      ]
     },
     "metadata": {},
     "output_type": "display_data"
    }
   ],
   "source": [
    "5*19\n",
    "dbGetQuery(db1, 'SELECT count(*) from (SELECT * FROM customer CROSS JOIN product)')"
   ]
  },
  {
   "cell_type": "markdown",
   "metadata": {},
   "source": [
    "#### 5.3.4.2. INNER JOIN\n",
    "- It matches only those rows of the joining tables having same values in determined columns. \n",
    "<br><br>\n",
    "- <b>Format:</b>\n",
    "    - SELECT ... FROM table1 <b>INNER JOIN</b> table2 on criteria;\n",
    "- <b>Example:</b>\n",
    "    - SELECT * FROM customer INNER JOIN order on customer_id=order_customer_id;"
   ]
  },
  {
   "cell_type": "code",
   "execution_count": 108,
   "metadata": {},
   "outputs": [
    {
     "data": {
      "text/html": [
       "<table>\n",
       "<thead><tr><th scope=col>customer_id</th><th scope=col>customer_name</th><th scope=col>customer_phone</th><th scope=col>age</th><th scope=col>order_id</th><th scope=col>order_customer_id</th><th scope=col>order_product_id</th><th scope=col>order_product_count</th></tr></thead>\n",
       "<tbody>\n",
       "\t<tr><td>11111     </td><td>Tom       </td><td>55555555  </td><td>37        </td><td>1111111119</td><td>11111     </td><td>122       </td><td>2         </td></tr>\n",
       "\t<tr><td>11111     </td><td>Tom       </td><td>55555555  </td><td>37        </td><td>1111111121</td><td>11111     </td><td>124       </td><td>4         </td></tr>\n",
       "\t<tr><td>11111     </td><td>Tom       </td><td>55555555  </td><td>37        </td><td>1111111123</td><td>11111     </td><td>124       </td><td>2         </td></tr>\n",
       "\t<tr><td>11111     </td><td>Tom       </td><td>55555555  </td><td>37        </td><td>1111111127</td><td>11111     </td><td>128       </td><td>5         </td></tr>\n",
       "\t<tr><td>11111     </td><td>Tom       </td><td>55555555  </td><td>37        </td><td>1111111131</td><td>11111     </td><td>123       </td><td>1         </td></tr>\n",
       "\t<tr><td>11111     </td><td>Tom       </td><td>55555555  </td><td>37        </td><td>1111111133</td><td>11111     </td><td>114       </td><td>4         </td></tr>\n",
       "\t<tr><td>11111     </td><td>Tom       </td><td>55555555  </td><td>37        </td><td>1111111135</td><td>11111     </td><td>124       </td><td>2         </td></tr>\n",
       "\t<tr><td>11111     </td><td>Tom       </td><td>55555555  </td><td>37        </td><td>1111111137</td><td>11111     </td><td>120       </td><td>1         </td></tr>\n",
       "\t<tr><td>11111     </td><td>Tom       </td><td>55555555  </td><td>37        </td><td>1111111139</td><td>11111     </td><td>122       </td><td>3         </td></tr>\n",
       "\t<tr><td>11112     </td><td>Sara      </td><td>66666666  </td><td>43        </td><td>1111111117</td><td>11112     </td><td>125       </td><td>4         </td></tr>\n",
       "\t<tr><td>11112     </td><td>Sara      </td><td>66666666  </td><td>43        </td><td>1111111118</td><td>11112     </td><td>120       </td><td>3         </td></tr>\n",
       "\t<tr><td>11113     </td><td>Negar     </td><td>33333333  </td><td>61        </td><td>1111111111</td><td>11113     </td><td>123       </td><td>3         </td></tr>\n",
       "\t<tr><td>11113     </td><td>Negar     </td><td>33333333  </td><td>61        </td><td>1111111114</td><td>11113     </td><td>124       </td><td>1         </td></tr>\n",
       "\t<tr><td>11113     </td><td>Negar     </td><td>33333333  </td><td>61        </td><td>1111111116</td><td>11113     </td><td>119       </td><td>2         </td></tr>\n",
       "\t<tr><td>11113     </td><td>Negar     </td><td>33333333  </td><td>61        </td><td>1111111124</td><td>11113     </td><td>126       </td><td>2         </td></tr>\n",
       "\t<tr><td>11113     </td><td>Negar     </td><td>33333333  </td><td>61        </td><td>1111111125</td><td>11113     </td><td>129       </td><td>3         </td></tr>\n",
       "\t<tr><td>11113     </td><td>Negar     </td><td>33333333  </td><td>61        </td><td>1111111136</td><td>11113     </td><td>113       </td><td>3         </td></tr>\n",
       "\t<tr><td>11114     </td><td>John      </td><td>88888888  </td><td>28        </td><td>1111111113</td><td>11114     </td><td>121       </td><td>1         </td></tr>\n",
       "\t<tr><td>11114     </td><td>John      </td><td>88888888  </td><td>28        </td><td>1111111120</td><td>11114     </td><td>123       </td><td>4         </td></tr>\n",
       "\t<tr><td>11114     </td><td>John      </td><td>88888888  </td><td>28        </td><td>1111111122</td><td>11114     </td><td>129       </td><td>1         </td></tr>\n",
       "\t<tr><td>11114     </td><td>John      </td><td>88888888  </td><td>28        </td><td>1111111134</td><td>11114     </td><td>123       </td><td>2         </td></tr>\n",
       "\t<tr><td>11115     </td><td>David     </td><td>44444444  </td><td>32        </td><td>1111111112</td><td>11115     </td><td>125       </td><td>5         </td></tr>\n",
       "\t<tr><td>11115     </td><td>David     </td><td>44444444  </td><td>32        </td><td>1111111115</td><td>11115     </td><td>125       </td><td>3         </td></tr>\n",
       "\t<tr><td>11115     </td><td>David     </td><td>44444444  </td><td>32        </td><td>1111111126</td><td>11115     </td><td>126       </td><td>5         </td></tr>\n",
       "\t<tr><td>11115     </td><td>David     </td><td>44444444  </td><td>32        </td><td>1111111128</td><td>11115     </td><td>129       </td><td>4         </td></tr>\n",
       "\t<tr><td>11115     </td><td>David     </td><td>44444444  </td><td>32        </td><td>1111111129</td><td>11115     </td><td>111       </td><td>3         </td></tr>\n",
       "\t<tr><td>11115     </td><td>David     </td><td>44444444  </td><td>32        </td><td>1111111130</td><td>11115     </td><td>125       </td><td>4         </td></tr>\n",
       "\t<tr><td>11115     </td><td>David     </td><td>44444444  </td><td>32        </td><td>1111111132</td><td>11115     </td><td>112       </td><td>4         </td></tr>\n",
       "\t<tr><td>11115     </td><td>David     </td><td>44444444  </td><td>32        </td><td>1111111138</td><td>11115     </td><td>126       </td><td>5         </td></tr>\n",
       "</tbody>\n",
       "</table>\n"
      ],
      "text/latex": [
       "\\begin{tabular}{r|llllllll}\n",
       " customer\\_id & customer\\_name & customer\\_phone & age & order\\_id & order\\_customer\\_id & order\\_product\\_id & order\\_product\\_count\\\\\n",
       "\\hline\n",
       "\t 11111      & Tom        & 55555555   & 37         & 1111111119 & 11111      & 122        & 2         \\\\\n",
       "\t 11111      & Tom        & 55555555   & 37         & 1111111121 & 11111      & 124        & 4         \\\\\n",
       "\t 11111      & Tom        & 55555555   & 37         & 1111111123 & 11111      & 124        & 2         \\\\\n",
       "\t 11111      & Tom        & 55555555   & 37         & 1111111127 & 11111      & 128        & 5         \\\\\n",
       "\t 11111      & Tom        & 55555555   & 37         & 1111111131 & 11111      & 123        & 1         \\\\\n",
       "\t 11111      & Tom        & 55555555   & 37         & 1111111133 & 11111      & 114        & 4         \\\\\n",
       "\t 11111      & Tom        & 55555555   & 37         & 1111111135 & 11111      & 124        & 2         \\\\\n",
       "\t 11111      & Tom        & 55555555   & 37         & 1111111137 & 11111      & 120        & 1         \\\\\n",
       "\t 11111      & Tom        & 55555555   & 37         & 1111111139 & 11111      & 122        & 3         \\\\\n",
       "\t 11112      & Sara       & 66666666   & 43         & 1111111117 & 11112      & 125        & 4         \\\\\n",
       "\t 11112      & Sara       & 66666666   & 43         & 1111111118 & 11112      & 120        & 3         \\\\\n",
       "\t 11113      & Negar      & 33333333   & 61         & 1111111111 & 11113      & 123        & 3         \\\\\n",
       "\t 11113      & Negar      & 33333333   & 61         & 1111111114 & 11113      & 124        & 1         \\\\\n",
       "\t 11113      & Negar      & 33333333   & 61         & 1111111116 & 11113      & 119        & 2         \\\\\n",
       "\t 11113      & Negar      & 33333333   & 61         & 1111111124 & 11113      & 126        & 2         \\\\\n",
       "\t 11113      & Negar      & 33333333   & 61         & 1111111125 & 11113      & 129        & 3         \\\\\n",
       "\t 11113      & Negar      & 33333333   & 61         & 1111111136 & 11113      & 113        & 3         \\\\\n",
       "\t 11114      & John       & 88888888   & 28         & 1111111113 & 11114      & 121        & 1         \\\\\n",
       "\t 11114      & John       & 88888888   & 28         & 1111111120 & 11114      & 123        & 4         \\\\\n",
       "\t 11114      & John       & 88888888   & 28         & 1111111122 & 11114      & 129        & 1         \\\\\n",
       "\t 11114      & John       & 88888888   & 28         & 1111111134 & 11114      & 123        & 2         \\\\\n",
       "\t 11115      & David      & 44444444   & 32         & 1111111112 & 11115      & 125        & 5         \\\\\n",
       "\t 11115      & David      & 44444444   & 32         & 1111111115 & 11115      & 125        & 3         \\\\\n",
       "\t 11115      & David      & 44444444   & 32         & 1111111126 & 11115      & 126        & 5         \\\\\n",
       "\t 11115      & David      & 44444444   & 32         & 1111111128 & 11115      & 129        & 4         \\\\\n",
       "\t 11115      & David      & 44444444   & 32         & 1111111129 & 11115      & 111        & 3         \\\\\n",
       "\t 11115      & David      & 44444444   & 32         & 1111111130 & 11115      & 125        & 4         \\\\\n",
       "\t 11115      & David      & 44444444   & 32         & 1111111132 & 11115      & 112        & 4         \\\\\n",
       "\t 11115      & David      & 44444444   & 32         & 1111111138 & 11115      & 126        & 5         \\\\\n",
       "\\end{tabular}\n"
      ],
      "text/markdown": [
       "\n",
       "customer_id | customer_name | customer_phone | age | order_id | order_customer_id | order_product_id | order_product_count | \n",
       "|---|---|---|---|---|---|---|---|---|---|---|---|---|---|---|---|---|---|---|---|---|---|---|---|---|---|---|---|---|\n",
       "| 11111      | Tom        | 55555555   | 37         | 1111111119 | 11111      | 122        | 2          | \n",
       "| 11111      | Tom        | 55555555   | 37         | 1111111121 | 11111      | 124        | 4          | \n",
       "| 11111      | Tom        | 55555555   | 37         | 1111111123 | 11111      | 124        | 2          | \n",
       "| 11111      | Tom        | 55555555   | 37         | 1111111127 | 11111      | 128        | 5          | \n",
       "| 11111      | Tom        | 55555555   | 37         | 1111111131 | 11111      | 123        | 1          | \n",
       "| 11111      | Tom        | 55555555   | 37         | 1111111133 | 11111      | 114        | 4          | \n",
       "| 11111      | Tom        | 55555555   | 37         | 1111111135 | 11111      | 124        | 2          | \n",
       "| 11111      | Tom        | 55555555   | 37         | 1111111137 | 11111      | 120        | 1          | \n",
       "| 11111      | Tom        | 55555555   | 37         | 1111111139 | 11111      | 122        | 3          | \n",
       "| 11112      | Sara       | 66666666   | 43         | 1111111117 | 11112      | 125        | 4          | \n",
       "| 11112      | Sara       | 66666666   | 43         | 1111111118 | 11112      | 120        | 3          | \n",
       "| 11113      | Negar      | 33333333   | 61         | 1111111111 | 11113      | 123        | 3          | \n",
       "| 11113      | Negar      | 33333333   | 61         | 1111111114 | 11113      | 124        | 1          | \n",
       "| 11113      | Negar      | 33333333   | 61         | 1111111116 | 11113      | 119        | 2          | \n",
       "| 11113      | Negar      | 33333333   | 61         | 1111111124 | 11113      | 126        | 2          | \n",
       "| 11113      | Negar      | 33333333   | 61         | 1111111125 | 11113      | 129        | 3          | \n",
       "| 11113      | Negar      | 33333333   | 61         | 1111111136 | 11113      | 113        | 3          | \n",
       "| 11114      | John       | 88888888   | 28         | 1111111113 | 11114      | 121        | 1          | \n",
       "| 11114      | John       | 88888888   | 28         | 1111111120 | 11114      | 123        | 4          | \n",
       "| 11114      | John       | 88888888   | 28         | 1111111122 | 11114      | 129        | 1          | \n",
       "| 11114      | John       | 88888888   | 28         | 1111111134 | 11114      | 123        | 2          | \n",
       "| 11115      | David      | 44444444   | 32         | 1111111112 | 11115      | 125        | 5          | \n",
       "| 11115      | David      | 44444444   | 32         | 1111111115 | 11115      | 125        | 3          | \n",
       "| 11115      | David      | 44444444   | 32         | 1111111126 | 11115      | 126        | 5          | \n",
       "| 11115      | David      | 44444444   | 32         | 1111111128 | 11115      | 129        | 4          | \n",
       "| 11115      | David      | 44444444   | 32         | 1111111129 | 11115      | 111        | 3          | \n",
       "| 11115      | David      | 44444444   | 32         | 1111111130 | 11115      | 125        | 4          | \n",
       "| 11115      | David      | 44444444   | 32         | 1111111132 | 11115      | 112        | 4          | \n",
       "| 11115      | David      | 44444444   | 32         | 1111111138 | 11115      | 126        | 5          | \n",
       "\n",
       "\n"
      ],
      "text/plain": [
       "   customer_id customer_name customer_phone age order_id   order_customer_id\n",
       "1  11111       Tom           55555555       37  1111111119 11111            \n",
       "2  11111       Tom           55555555       37  1111111121 11111            \n",
       "3  11111       Tom           55555555       37  1111111123 11111            \n",
       "4  11111       Tom           55555555       37  1111111127 11111            \n",
       "5  11111       Tom           55555555       37  1111111131 11111            \n",
       "6  11111       Tom           55555555       37  1111111133 11111            \n",
       "7  11111       Tom           55555555       37  1111111135 11111            \n",
       "8  11111       Tom           55555555       37  1111111137 11111            \n",
       "9  11111       Tom           55555555       37  1111111139 11111            \n",
       "10 11112       Sara          66666666       43  1111111117 11112            \n",
       "11 11112       Sara          66666666       43  1111111118 11112            \n",
       "12 11113       Negar         33333333       61  1111111111 11113            \n",
       "13 11113       Negar         33333333       61  1111111114 11113            \n",
       "14 11113       Negar         33333333       61  1111111116 11113            \n",
       "15 11113       Negar         33333333       61  1111111124 11113            \n",
       "16 11113       Negar         33333333       61  1111111125 11113            \n",
       "17 11113       Negar         33333333       61  1111111136 11113            \n",
       "18 11114       John          88888888       28  1111111113 11114            \n",
       "19 11114       John          88888888       28  1111111120 11114            \n",
       "20 11114       John          88888888       28  1111111122 11114            \n",
       "21 11114       John          88888888       28  1111111134 11114            \n",
       "22 11115       David         44444444       32  1111111112 11115            \n",
       "23 11115       David         44444444       32  1111111115 11115            \n",
       "24 11115       David         44444444       32  1111111126 11115            \n",
       "25 11115       David         44444444       32  1111111128 11115            \n",
       "26 11115       David         44444444       32  1111111129 11115            \n",
       "27 11115       David         44444444       32  1111111130 11115            \n",
       "28 11115       David         44444444       32  1111111132 11115            \n",
       "29 11115       David         44444444       32  1111111138 11115            \n",
       "   order_product_id order_product_count\n",
       "1  122              2                  \n",
       "2  124              4                  \n",
       "3  124              2                  \n",
       "4  128              5                  \n",
       "5  123              1                  \n",
       "6  114              4                  \n",
       "7  124              2                  \n",
       "8  120              1                  \n",
       "9  122              3                  \n",
       "10 125              4                  \n",
       "11 120              3                  \n",
       "12 123              3                  \n",
       "13 124              1                  \n",
       "14 119              2                  \n",
       "15 126              2                  \n",
       "16 129              3                  \n",
       "17 113              3                  \n",
       "18 121              1                  \n",
       "19 123              4                  \n",
       "20 129              1                  \n",
       "21 123              2                  \n",
       "22 125              5                  \n",
       "23 125              3                  \n",
       "24 126              5                  \n",
       "25 129              4                  \n",
       "26 111              3                  \n",
       "27 125              4                  \n",
       "28 112              4                  \n",
       "29 126              5                  "
      ]
     },
     "metadata": {},
     "output_type": "display_data"
    }
   ],
   "source": [
    "dbGetQuery(db2, 'SELECT * FROM customer INNER JOIN \"order\" on customer_id=order_customer_id')"
   ]
  },
  {
   "cell_type": "code",
   "execution_count": 109,
   "metadata": {
    "scrolled": false
   },
   "outputs": [
    {
     "data": {
      "text/html": [
       "<table>\n",
       "<thead><tr><th scope=col>customer_id</th><th scope=col>customer_name</th><th scope=col>customer_phone</th><th scope=col>age</th><th scope=col>order_customer_id</th><th scope=col>order_product_count</th></tr></thead>\n",
       "<tbody>\n",
       "\t<tr><td>11111   </td><td>Tom     </td><td>55555555</td><td>37      </td><td>11111   </td><td>1       </td></tr>\n",
       "\t<tr><td>11111   </td><td>Tom     </td><td>55555555</td><td>37      </td><td>11111   </td><td>1       </td></tr>\n",
       "\t<tr><td>11111   </td><td>Tom     </td><td>55555555</td><td>37      </td><td>11111   </td><td>2       </td></tr>\n",
       "\t<tr><td>11111   </td><td>Tom     </td><td>55555555</td><td>37      </td><td>11111   </td><td>2       </td></tr>\n",
       "\t<tr><td>11111   </td><td>Tom     </td><td>55555555</td><td>37      </td><td>11111   </td><td>2       </td></tr>\n",
       "\t<tr><td>11111   </td><td>Tom     </td><td>55555555</td><td>37      </td><td>11111   </td><td>3       </td></tr>\n",
       "\t<tr><td>11111   </td><td>Tom     </td><td>55555555</td><td>37      </td><td>11111   </td><td>4       </td></tr>\n",
       "\t<tr><td>11111   </td><td>Tom     </td><td>55555555</td><td>37      </td><td>11111   </td><td>4       </td></tr>\n",
       "\t<tr><td>11111   </td><td>Tom     </td><td>55555555</td><td>37      </td><td>11111   </td><td>5       </td></tr>\n",
       "\t<tr><td>11112   </td><td>Sara    </td><td>66666666</td><td>43      </td><td>11112   </td><td>3       </td></tr>\n",
       "\t<tr><td>11112   </td><td>Sara    </td><td>66666666</td><td>43      </td><td>11112   </td><td>4       </td></tr>\n",
       "\t<tr><td>11113   </td><td>Negar   </td><td>33333333</td><td>61      </td><td>11113   </td><td>1       </td></tr>\n",
       "\t<tr><td>11113   </td><td>Negar   </td><td>33333333</td><td>61      </td><td>11113   </td><td>2       </td></tr>\n",
       "\t<tr><td>11113   </td><td>Negar   </td><td>33333333</td><td>61      </td><td>11113   </td><td>2       </td></tr>\n",
       "\t<tr><td>11113   </td><td>Negar   </td><td>33333333</td><td>61      </td><td>11113   </td><td>3       </td></tr>\n",
       "\t<tr><td>11113   </td><td>Negar   </td><td>33333333</td><td>61      </td><td>11113   </td><td>3       </td></tr>\n",
       "\t<tr><td>11113   </td><td>Negar   </td><td>33333333</td><td>61      </td><td>11113   </td><td>3       </td></tr>\n",
       "\t<tr><td>11114   </td><td>John    </td><td>88888888</td><td>28      </td><td>11114   </td><td>1       </td></tr>\n",
       "\t<tr><td>11114   </td><td>John    </td><td>88888888</td><td>28      </td><td>11114   </td><td>1       </td></tr>\n",
       "\t<tr><td>11114   </td><td>John    </td><td>88888888</td><td>28      </td><td>11114   </td><td>2       </td></tr>\n",
       "\t<tr><td>11114   </td><td>John    </td><td>88888888</td><td>28      </td><td>11114   </td><td>4       </td></tr>\n",
       "\t<tr><td>11115   </td><td>David   </td><td>44444444</td><td>32      </td><td>11115   </td><td>3       </td></tr>\n",
       "\t<tr><td>11115   </td><td>David   </td><td>44444444</td><td>32      </td><td>11115   </td><td>3       </td></tr>\n",
       "\t<tr><td>11115   </td><td>David   </td><td>44444444</td><td>32      </td><td>11115   </td><td>4       </td></tr>\n",
       "\t<tr><td>11115   </td><td>David   </td><td>44444444</td><td>32      </td><td>11115   </td><td>4       </td></tr>\n",
       "\t<tr><td>11115   </td><td>David   </td><td>44444444</td><td>32      </td><td>11115   </td><td>4       </td></tr>\n",
       "\t<tr><td>11115   </td><td>David   </td><td>44444444</td><td>32      </td><td>11115   </td><td>5       </td></tr>\n",
       "\t<tr><td>11115   </td><td>David   </td><td>44444444</td><td>32      </td><td>11115   </td><td>5       </td></tr>\n",
       "\t<tr><td>11115   </td><td>David   </td><td>44444444</td><td>32      </td><td>11115   </td><td>5       </td></tr>\n",
       "</tbody>\n",
       "</table>\n"
      ],
      "text/latex": [
       "\\begin{tabular}{r|llllll}\n",
       " customer\\_id & customer\\_name & customer\\_phone & age & order\\_customer\\_id & order\\_product\\_count\\\\\n",
       "\\hline\n",
       "\t 11111    & Tom      & 55555555 & 37       & 11111    & 1       \\\\\n",
       "\t 11111    & Tom      & 55555555 & 37       & 11111    & 1       \\\\\n",
       "\t 11111    & Tom      & 55555555 & 37       & 11111    & 2       \\\\\n",
       "\t 11111    & Tom      & 55555555 & 37       & 11111    & 2       \\\\\n",
       "\t 11111    & Tom      & 55555555 & 37       & 11111    & 2       \\\\\n",
       "\t 11111    & Tom      & 55555555 & 37       & 11111    & 3       \\\\\n",
       "\t 11111    & Tom      & 55555555 & 37       & 11111    & 4       \\\\\n",
       "\t 11111    & Tom      & 55555555 & 37       & 11111    & 4       \\\\\n",
       "\t 11111    & Tom      & 55555555 & 37       & 11111    & 5       \\\\\n",
       "\t 11112    & Sara     & 66666666 & 43       & 11112    & 3       \\\\\n",
       "\t 11112    & Sara     & 66666666 & 43       & 11112    & 4       \\\\\n",
       "\t 11113    & Negar    & 33333333 & 61       & 11113    & 1       \\\\\n",
       "\t 11113    & Negar    & 33333333 & 61       & 11113    & 2       \\\\\n",
       "\t 11113    & Negar    & 33333333 & 61       & 11113    & 2       \\\\\n",
       "\t 11113    & Negar    & 33333333 & 61       & 11113    & 3       \\\\\n",
       "\t 11113    & Negar    & 33333333 & 61       & 11113    & 3       \\\\\n",
       "\t 11113    & Negar    & 33333333 & 61       & 11113    & 3       \\\\\n",
       "\t 11114    & John     & 88888888 & 28       & 11114    & 1       \\\\\n",
       "\t 11114    & John     & 88888888 & 28       & 11114    & 1       \\\\\n",
       "\t 11114    & John     & 88888888 & 28       & 11114    & 2       \\\\\n",
       "\t 11114    & John     & 88888888 & 28       & 11114    & 4       \\\\\n",
       "\t 11115    & David    & 44444444 & 32       & 11115    & 3       \\\\\n",
       "\t 11115    & David    & 44444444 & 32       & 11115    & 3       \\\\\n",
       "\t 11115    & David    & 44444444 & 32       & 11115    & 4       \\\\\n",
       "\t 11115    & David    & 44444444 & 32       & 11115    & 4       \\\\\n",
       "\t 11115    & David    & 44444444 & 32       & 11115    & 4       \\\\\n",
       "\t 11115    & David    & 44444444 & 32       & 11115    & 5       \\\\\n",
       "\t 11115    & David    & 44444444 & 32       & 11115    & 5       \\\\\n",
       "\t 11115    & David    & 44444444 & 32       & 11115    & 5       \\\\\n",
       "\\end{tabular}\n"
      ],
      "text/markdown": [
       "\n",
       "customer_id | customer_name | customer_phone | age | order_customer_id | order_product_count | \n",
       "|---|---|---|---|---|---|---|---|---|---|---|---|---|---|---|---|---|---|---|---|---|---|---|---|---|---|---|---|---|\n",
       "| 11111    | Tom      | 55555555 | 37       | 11111    | 1        | \n",
       "| 11111    | Tom      | 55555555 | 37       | 11111    | 1        | \n",
       "| 11111    | Tom      | 55555555 | 37       | 11111    | 2        | \n",
       "| 11111    | Tom      | 55555555 | 37       | 11111    | 2        | \n",
       "| 11111    | Tom      | 55555555 | 37       | 11111    | 2        | \n",
       "| 11111    | Tom      | 55555555 | 37       | 11111    | 3        | \n",
       "| 11111    | Tom      | 55555555 | 37       | 11111    | 4        | \n",
       "| 11111    | Tom      | 55555555 | 37       | 11111    | 4        | \n",
       "| 11111    | Tom      | 55555555 | 37       | 11111    | 5        | \n",
       "| 11112    | Sara     | 66666666 | 43       | 11112    | 3        | \n",
       "| 11112    | Sara     | 66666666 | 43       | 11112    | 4        | \n",
       "| 11113    | Negar    | 33333333 | 61       | 11113    | 1        | \n",
       "| 11113    | Negar    | 33333333 | 61       | 11113    | 2        | \n",
       "| 11113    | Negar    | 33333333 | 61       | 11113    | 2        | \n",
       "| 11113    | Negar    | 33333333 | 61       | 11113    | 3        | \n",
       "| 11113    | Negar    | 33333333 | 61       | 11113    | 3        | \n",
       "| 11113    | Negar    | 33333333 | 61       | 11113    | 3        | \n",
       "| 11114    | John     | 88888888 | 28       | 11114    | 1        | \n",
       "| 11114    | John     | 88888888 | 28       | 11114    | 1        | \n",
       "| 11114    | John     | 88888888 | 28       | 11114    | 2        | \n",
       "| 11114    | John     | 88888888 | 28       | 11114    | 4        | \n",
       "| 11115    | David    | 44444444 | 32       | 11115    | 3        | \n",
       "| 11115    | David    | 44444444 | 32       | 11115    | 3        | \n",
       "| 11115    | David    | 44444444 | 32       | 11115    | 4        | \n",
       "| 11115    | David    | 44444444 | 32       | 11115    | 4        | \n",
       "| 11115    | David    | 44444444 | 32       | 11115    | 4        | \n",
       "| 11115    | David    | 44444444 | 32       | 11115    | 5        | \n",
       "| 11115    | David    | 44444444 | 32       | 11115    | 5        | \n",
       "| 11115    | David    | 44444444 | 32       | 11115    | 5        | \n",
       "\n",
       "\n"
      ],
      "text/plain": [
       "   customer_id customer_name customer_phone age order_customer_id\n",
       "1  11111       Tom           55555555       37  11111            \n",
       "2  11111       Tom           55555555       37  11111            \n",
       "3  11111       Tom           55555555       37  11111            \n",
       "4  11111       Tom           55555555       37  11111            \n",
       "5  11111       Tom           55555555       37  11111            \n",
       "6  11111       Tom           55555555       37  11111            \n",
       "7  11111       Tom           55555555       37  11111            \n",
       "8  11111       Tom           55555555       37  11111            \n",
       "9  11111       Tom           55555555       37  11111            \n",
       "10 11112       Sara          66666666       43  11112            \n",
       "11 11112       Sara          66666666       43  11112            \n",
       "12 11113       Negar         33333333       61  11113            \n",
       "13 11113       Negar         33333333       61  11113            \n",
       "14 11113       Negar         33333333       61  11113            \n",
       "15 11113       Negar         33333333       61  11113            \n",
       "16 11113       Negar         33333333       61  11113            \n",
       "17 11113       Negar         33333333       61  11113            \n",
       "18 11114       John          88888888       28  11114            \n",
       "19 11114       John          88888888       28  11114            \n",
       "20 11114       John          88888888       28  11114            \n",
       "21 11114       John          88888888       28  11114            \n",
       "22 11115       David         44444444       32  11115            \n",
       "23 11115       David         44444444       32  11115            \n",
       "24 11115       David         44444444       32  11115            \n",
       "25 11115       David         44444444       32  11115            \n",
       "26 11115       David         44444444       32  11115            \n",
       "27 11115       David         44444444       32  11115            \n",
       "28 11115       David         44444444       32  11115            \n",
       "29 11115       David         44444444       32  11115            \n",
       "   order_product_count\n",
       "1  1                  \n",
       "2  1                  \n",
       "3  2                  \n",
       "4  2                  \n",
       "5  2                  \n",
       "6  3                  \n",
       "7  4                  \n",
       "8  4                  \n",
       "9  5                  \n",
       "10 3                  \n",
       "11 4                  \n",
       "12 1                  \n",
       "13 2                  \n",
       "14 2                  \n",
       "15 3                  \n",
       "16 3                  \n",
       "17 3                  \n",
       "18 1                  \n",
       "19 1                  \n",
       "20 2                  \n",
       "21 4                  \n",
       "22 3                  \n",
       "23 3                  \n",
       "24 4                  \n",
       "25 4                  \n",
       "26 4                  \n",
       "27 5                  \n",
       "28 5                  \n",
       "29 5                  "
      ]
     },
     "metadata": {},
     "output_type": "display_data"
    }
   ],
   "source": [
    "dbGetQuery(db2, 'SELECT * FROM customer INNER JOIN (select order_customer_id, order_product_count from \"order\") \n",
    "on customer_id = order_customer_id')"
   ]
  },
  {
   "cell_type": "markdown",
   "metadata": {},
   "source": [
    "## Example 1:\n",
    "- <font color=brown>How many orders does each customer have?</font>"
   ]
  },
  {
   "cell_type": "code",
   "execution_count": 47,
   "metadata": {},
   "outputs": [
    {
     "data": {
      "text/html": [
       "<table>\n",
       "<thead><tr><th scope=col>customer_name</th><th scope=col>Num_Order</th></tr></thead>\n",
       "<tbody>\n",
       "\t<tr><td>David</td><td>8    </td></tr>\n",
       "\t<tr><td>John </td><td>4    </td></tr>\n",
       "\t<tr><td>Negar</td><td>6    </td></tr>\n",
       "\t<tr><td>Sara </td><td>2    </td></tr>\n",
       "\t<tr><td>Tom  </td><td>9    </td></tr>\n",
       "</tbody>\n",
       "</table>\n"
      ],
      "text/latex": [
       "\\begin{tabular}{r|ll}\n",
       " customer\\_name & Num\\_Order\\\\\n",
       "\\hline\n",
       "\t David & 8    \\\\\n",
       "\t John  & 4    \\\\\n",
       "\t Negar & 6    \\\\\n",
       "\t Sara  & 2    \\\\\n",
       "\t Tom   & 9    \\\\\n",
       "\\end{tabular}\n"
      ],
      "text/markdown": [
       "\n",
       "customer_name | Num_Order | \n",
       "|---|---|---|---|---|\n",
       "| David | 8     | \n",
       "| John  | 4     | \n",
       "| Negar | 6     | \n",
       "| Sara  | 2     | \n",
       "| Tom   | 9     | \n",
       "\n",
       "\n"
      ],
      "text/plain": [
       "  customer_name Num_Order\n",
       "1 David         8        \n",
       "2 John          4        \n",
       "3 Negar         6        \n",
       "4 Sara          2        \n",
       "5 Tom           9        "
      ]
     },
     "metadata": {},
     "output_type": "display_data"
    }
   ],
   "source": [
    "dbGetQuery(db1, 'SELECT customer_name, count(*) Num_Order FROM\n",
    "                        (SELECT * FROM customer CROSS JOIN \"order\" WHERE customer_id=order_customer_id)\n",
    "                    GROUP BY customer_name')"
   ]
  },
  {
   "cell_type": "markdown",
   "metadata": {},
   "source": [
    "## Example 2:\n",
    "- <font color=brown>How many products have been ordered group by product name?</font>"
   ]
  },
  {
   "cell_type": "code",
   "execution_count": 111,
   "metadata": {},
   "outputs": [
    {
     "data": {
      "text/html": [
       "<table>\n",
       "<thead><tr><th scope=col>product_name</th><th scope=col>Num_product</th></tr></thead>\n",
       "<tbody>\n",
       "\t<tr><td>A</td><td>1</td></tr>\n",
       "\t<tr><td>B</td><td>1</td></tr>\n",
       "\t<tr><td>C</td><td>1</td></tr>\n",
       "\t<tr><td>D</td><td>1</td></tr>\n",
       "\t<tr><td>I</td><td>1</td></tr>\n",
       "\t<tr><td>J</td><td>2</td></tr>\n",
       "\t<tr><td>K</td><td>1</td></tr>\n",
       "\t<tr><td>L</td><td>2</td></tr>\n",
       "\t<tr><td>M</td><td>4</td></tr>\n",
       "\t<tr><td>N</td><td>4</td></tr>\n",
       "\t<tr><td>O</td><td>4</td></tr>\n",
       "\t<tr><td>P</td><td>3</td></tr>\n",
       "\t<tr><td>R</td><td>1</td></tr>\n",
       "\t<tr><td>S</td><td>3</td></tr>\n",
       "</tbody>\n",
       "</table>\n"
      ],
      "text/latex": [
       "\\begin{tabular}{r|ll}\n",
       " product\\_name & Num\\_product\\\\\n",
       "\\hline\n",
       "\t A & 1\\\\\n",
       "\t B & 1\\\\\n",
       "\t C & 1\\\\\n",
       "\t D & 1\\\\\n",
       "\t I & 1\\\\\n",
       "\t J & 2\\\\\n",
       "\t K & 1\\\\\n",
       "\t L & 2\\\\\n",
       "\t M & 4\\\\\n",
       "\t N & 4\\\\\n",
       "\t O & 4\\\\\n",
       "\t P & 3\\\\\n",
       "\t R & 1\\\\\n",
       "\t S & 3\\\\\n",
       "\\end{tabular}\n"
      ],
      "text/markdown": [
       "\n",
       "product_name | Num_product | \n",
       "|---|---|---|---|---|---|---|---|---|---|---|---|---|---|\n",
       "| A | 1 | \n",
       "| B | 1 | \n",
       "| C | 1 | \n",
       "| D | 1 | \n",
       "| I | 1 | \n",
       "| J | 2 | \n",
       "| K | 1 | \n",
       "| L | 2 | \n",
       "| M | 4 | \n",
       "| N | 4 | \n",
       "| O | 4 | \n",
       "| P | 3 | \n",
       "| R | 1 | \n",
       "| S | 3 | \n",
       "\n",
       "\n"
      ],
      "text/plain": [
       "   product_name Num_product\n",
       "1  A            1          \n",
       "2  B            1          \n",
       "3  C            1          \n",
       "4  D            1          \n",
       "5  I            1          \n",
       "6  J            2          \n",
       "7  K            1          \n",
       "8  L            2          \n",
       "9  M            4          \n",
       "10 N            4          \n",
       "11 O            4          \n",
       "12 P            3          \n",
       "13 R            1          \n",
       "14 S            3          "
      ]
     },
     "metadata": {},
     "output_type": "display_data"
    }
   ],
   "source": [
    "dbGetQuery(db2, 'SELECT product_name, count(*) Num_product FROM\n",
    "                        (SELECT * FROM product INNER JOIN \"order\" on product_id=order_product_id)\n",
    "                    GROUP BY product_name')"
   ]
  },
  {
   "cell_type": "markdown",
   "metadata": {},
   "source": [
    "## <font color=red>Exercise 2</font>\n",
    "\n",
    "1. Please answer non-answered questions of Exercise #1.\n",
    "2. <font color=brown>How many of every product have been ordered by each of the customers?</font>"
   ]
  },
  {
   "cell_type": "markdown",
   "metadata": {},
   "source": [
    "#### 5.3.4.3. LEFT OUTER JOIN\n",
    "- It takes any unjoined rows from one or both tables, pad them out with NULLs, and append them to the results. \n",
    "- In other words, it gives all rows in left table, plus any common rows in right table\n",
    "<br><br>\n",
    "- <b>Format:</b>\n",
    "    - SELECT ... FROM table1 <b>LEFT OUTER JOIN</b> table2 WHERE criteria;\n",
    "- <b>Example:</b>\n",
    "    - SELECT * FROM customer LEFT OUTER JOIN order WHERE customer_name IN ('Tom', 'Negar');"
   ]
  },
  {
   "cell_type": "code",
   "execution_count": 113,
   "metadata": {},
   "outputs": [
    {
     "data": {
      "text/html": [
       "<table>\n",
       "<thead><tr><th scope=col>customer_id</th><th scope=col>customer_name</th><th scope=col>customer_phone</th><th scope=col>age</th><th scope=col>order_id</th><th scope=col>order_customer_id</th><th scope=col>order_product_id</th><th scope=col>order_product_count</th></tr></thead>\n",
       "<tbody>\n",
       "\t<tr><td>11112     </td><td>Sara      </td><td>66666666  </td><td>43        </td><td>1111111111</td><td>11113     </td><td>123       </td><td>3         </td></tr>\n",
       "\t<tr><td>11112     </td><td>Sara      </td><td>66666666  </td><td>43        </td><td>1111111112</td><td>11115     </td><td>125       </td><td>5         </td></tr>\n",
       "\t<tr><td>11112     </td><td>Sara      </td><td>66666666  </td><td>43        </td><td>1111111113</td><td>11114     </td><td>121       </td><td>1         </td></tr>\n",
       "\t<tr><td>11112     </td><td>Sara      </td><td>66666666  </td><td>43        </td><td>1111111114</td><td>11113     </td><td>124       </td><td>1         </td></tr>\n",
       "\t<tr><td>11112     </td><td>Sara      </td><td>66666666  </td><td>43        </td><td>1111111115</td><td>11115     </td><td>125       </td><td>3         </td></tr>\n",
       "\t<tr><td>11112     </td><td>Sara      </td><td>66666666  </td><td>43        </td><td>1111111116</td><td>11113     </td><td>119       </td><td>2         </td></tr>\n",
       "\t<tr><td>11112     </td><td>Sara      </td><td>66666666  </td><td>43        </td><td>1111111117</td><td>11112     </td><td>125       </td><td>4         </td></tr>\n",
       "\t<tr><td>11112     </td><td>Sara      </td><td>66666666  </td><td>43        </td><td>1111111118</td><td>11112     </td><td>120       </td><td>3         </td></tr>\n",
       "\t<tr><td>11112     </td><td>Sara      </td><td>66666666  </td><td>43        </td><td>1111111119</td><td>11111     </td><td>122       </td><td>2         </td></tr>\n",
       "\t<tr><td>11112     </td><td>Sara      </td><td>66666666  </td><td>43        </td><td>1111111120</td><td>11114     </td><td>123       </td><td>4         </td></tr>\n",
       "\t<tr><td>11112     </td><td>Sara      </td><td>66666666  </td><td>43        </td><td>1111111121</td><td>11111     </td><td>124       </td><td>4         </td></tr>\n",
       "\t<tr><td>11112     </td><td>Sara      </td><td>66666666  </td><td>43        </td><td>1111111122</td><td>11114     </td><td>129       </td><td>1         </td></tr>\n",
       "\t<tr><td>11112     </td><td>Sara      </td><td>66666666  </td><td>43        </td><td>1111111123</td><td>11111     </td><td>124       </td><td>2         </td></tr>\n",
       "\t<tr><td>11112     </td><td>Sara      </td><td>66666666  </td><td>43        </td><td>1111111124</td><td>11113     </td><td>126       </td><td>2         </td></tr>\n",
       "\t<tr><td>11112     </td><td>Sara      </td><td>66666666  </td><td>43        </td><td>1111111125</td><td>11113     </td><td>129       </td><td>3         </td></tr>\n",
       "\t<tr><td>11112     </td><td>Sara      </td><td>66666666  </td><td>43        </td><td>1111111126</td><td>11115     </td><td>126       </td><td>5         </td></tr>\n",
       "\t<tr><td>11112     </td><td>Sara      </td><td>66666666  </td><td>43        </td><td>1111111127</td><td>11111     </td><td>128       </td><td>5         </td></tr>\n",
       "\t<tr><td>11112     </td><td>Sara      </td><td>66666666  </td><td>43        </td><td>1111111128</td><td>11115     </td><td>129       </td><td>4         </td></tr>\n",
       "\t<tr><td>11112     </td><td>Sara      </td><td>66666666  </td><td>43        </td><td>1111111129</td><td>11115     </td><td>111       </td><td>3         </td></tr>\n",
       "\t<tr><td>11112     </td><td>Sara      </td><td>66666666  </td><td>43        </td><td>1111111130</td><td>11115     </td><td>125       </td><td>4         </td></tr>\n",
       "\t<tr><td>11112     </td><td>Sara      </td><td>66666666  </td><td>43        </td><td>1111111131</td><td>11111     </td><td>123       </td><td>1         </td></tr>\n",
       "\t<tr><td>11112     </td><td>Sara      </td><td>66666666  </td><td>43        </td><td>1111111132</td><td>11115     </td><td>112       </td><td>4         </td></tr>\n",
       "\t<tr><td>11112     </td><td>Sara      </td><td>66666666  </td><td>43        </td><td>1111111133</td><td>11111     </td><td>114       </td><td>4         </td></tr>\n",
       "\t<tr><td>11112     </td><td>Sara      </td><td>66666666  </td><td>43        </td><td>1111111134</td><td>11114     </td><td>123       </td><td>2         </td></tr>\n",
       "\t<tr><td>11112     </td><td>Sara      </td><td>66666666  </td><td>43        </td><td>1111111135</td><td>11111     </td><td>124       </td><td>2         </td></tr>\n",
       "\t<tr><td>11112     </td><td>Sara      </td><td>66666666  </td><td>43        </td><td>1111111136</td><td>11113     </td><td>113       </td><td>3         </td></tr>\n",
       "\t<tr><td>11112     </td><td>Sara      </td><td>66666666  </td><td>43        </td><td>1111111137</td><td>11111     </td><td>120       </td><td>1         </td></tr>\n",
       "\t<tr><td>11112     </td><td>Sara      </td><td>66666666  </td><td>43        </td><td>1111111138</td><td>11115     </td><td>126       </td><td>5         </td></tr>\n",
       "\t<tr><td>11112     </td><td>Sara      </td><td>66666666  </td><td>43        </td><td>1111111139</td><td>11111     </td><td>122       </td><td>3         </td></tr>\n",
       "\t<tr><td>11112     </td><td>Sara      </td><td>66666666  </td><td>43        </td><td>1111111140</td><td>11120     </td><td>222       </td><td>3         </td></tr>\n",
       "\t<tr><td>...</td><td>...</td><td>...</td><td>...</td><td>...</td><td>...</td><td>...</td><td>...</td></tr>\n",
       "\t<tr><td>11116     </td><td>Ludovic   </td><td>77777777  </td><td>43        </td><td>1111111111</td><td>11113     </td><td>123       </td><td>3         </td></tr>\n",
       "\t<tr><td>11116     </td><td>Ludovic   </td><td>77777777  </td><td>43        </td><td>1111111112</td><td>11115     </td><td>125       </td><td>5         </td></tr>\n",
       "\t<tr><td>11116     </td><td>Ludovic   </td><td>77777777  </td><td>43        </td><td>1111111113</td><td>11114     </td><td>121       </td><td>1         </td></tr>\n",
       "\t<tr><td>11116     </td><td>Ludovic   </td><td>77777777  </td><td>43        </td><td>1111111114</td><td>11113     </td><td>124       </td><td>1         </td></tr>\n",
       "\t<tr><td>11116     </td><td>Ludovic   </td><td>77777777  </td><td>43        </td><td>1111111115</td><td>11115     </td><td>125       </td><td>3         </td></tr>\n",
       "\t<tr><td>11116     </td><td>Ludovic   </td><td>77777777  </td><td>43        </td><td>1111111116</td><td>11113     </td><td>119       </td><td>2         </td></tr>\n",
       "\t<tr><td>11116     </td><td>Ludovic   </td><td>77777777  </td><td>43        </td><td>1111111117</td><td>11112     </td><td>125       </td><td>4         </td></tr>\n",
       "\t<tr><td>11116     </td><td>Ludovic   </td><td>77777777  </td><td>43        </td><td>1111111118</td><td>11112     </td><td>120       </td><td>3         </td></tr>\n",
       "\t<tr><td>11116     </td><td>Ludovic   </td><td>77777777  </td><td>43        </td><td>1111111119</td><td>11111     </td><td>122       </td><td>2         </td></tr>\n",
       "\t<tr><td>11116     </td><td>Ludovic   </td><td>77777777  </td><td>43        </td><td>1111111120</td><td>11114     </td><td>123       </td><td>4         </td></tr>\n",
       "\t<tr><td>11116     </td><td>Ludovic   </td><td>77777777  </td><td>43        </td><td>1111111121</td><td>11111     </td><td>124       </td><td>4         </td></tr>\n",
       "\t<tr><td>11116     </td><td>Ludovic   </td><td>77777777  </td><td>43        </td><td>1111111122</td><td>11114     </td><td>129       </td><td>1         </td></tr>\n",
       "\t<tr><td>11116     </td><td>Ludovic   </td><td>77777777  </td><td>43        </td><td>1111111123</td><td>11111     </td><td>124       </td><td>2         </td></tr>\n",
       "\t<tr><td>11116     </td><td>Ludovic   </td><td>77777777  </td><td>43        </td><td>1111111124</td><td>11113     </td><td>126       </td><td>2         </td></tr>\n",
       "\t<tr><td>11116     </td><td>Ludovic   </td><td>77777777  </td><td>43        </td><td>1111111125</td><td>11113     </td><td>129       </td><td>3         </td></tr>\n",
       "\t<tr><td>11116     </td><td>Ludovic   </td><td>77777777  </td><td>43        </td><td>1111111126</td><td>11115     </td><td>126       </td><td>5         </td></tr>\n",
       "\t<tr><td>11116     </td><td>Ludovic   </td><td>77777777  </td><td>43        </td><td>1111111127</td><td>11111     </td><td>128       </td><td>5         </td></tr>\n",
       "\t<tr><td>11116     </td><td>Ludovic   </td><td>77777777  </td><td>43        </td><td>1111111128</td><td>11115     </td><td>129       </td><td>4         </td></tr>\n",
       "\t<tr><td>11116     </td><td>Ludovic   </td><td>77777777  </td><td>43        </td><td>1111111129</td><td>11115     </td><td>111       </td><td>3         </td></tr>\n",
       "\t<tr><td>11116     </td><td>Ludovic   </td><td>77777777  </td><td>43        </td><td>1111111130</td><td>11115     </td><td>125       </td><td>4         </td></tr>\n",
       "\t<tr><td>11116     </td><td>Ludovic   </td><td>77777777  </td><td>43        </td><td>1111111131</td><td>11111     </td><td>123       </td><td>1         </td></tr>\n",
       "\t<tr><td>11116     </td><td>Ludovic   </td><td>77777777  </td><td>43        </td><td>1111111132</td><td>11115     </td><td>112       </td><td>4         </td></tr>\n",
       "\t<tr><td>11116     </td><td>Ludovic   </td><td>77777777  </td><td>43        </td><td>1111111133</td><td>11111     </td><td>114       </td><td>4         </td></tr>\n",
       "\t<tr><td>11116     </td><td>Ludovic   </td><td>77777777  </td><td>43        </td><td>1111111134</td><td>11114     </td><td>123       </td><td>2         </td></tr>\n",
       "\t<tr><td>11116     </td><td>Ludovic   </td><td>77777777  </td><td>43        </td><td>1111111135</td><td>11111     </td><td>124       </td><td>2         </td></tr>\n",
       "\t<tr><td>11116     </td><td>Ludovic   </td><td>77777777  </td><td>43        </td><td>1111111136</td><td>11113     </td><td>113       </td><td>3         </td></tr>\n",
       "\t<tr><td>11116     </td><td>Ludovic   </td><td>77777777  </td><td>43        </td><td>1111111137</td><td>11111     </td><td>120       </td><td>1         </td></tr>\n",
       "\t<tr><td>11116     </td><td>Ludovic   </td><td>77777777  </td><td>43        </td><td>1111111138</td><td>11115     </td><td>126       </td><td>5         </td></tr>\n",
       "\t<tr><td>11116     </td><td>Ludovic   </td><td>77777777  </td><td>43        </td><td>1111111139</td><td>11111     </td><td>122       </td><td>3         </td></tr>\n",
       "\t<tr><td>11116     </td><td>Ludovic   </td><td>77777777  </td><td>43        </td><td>1111111140</td><td>11120     </td><td>222       </td><td>3         </td></tr>\n",
       "</tbody>\n",
       "</table>\n"
      ],
      "text/latex": [
       "\\begin{tabular}{r|llllllll}\n",
       " customer\\_id & customer\\_name & customer\\_phone & age & order\\_id & order\\_customer\\_id & order\\_product\\_id & order\\_product\\_count\\\\\n",
       "\\hline\n",
       "\t 11112      & Sara       & 66666666   & 43         & 1111111111 & 11113      & 123        & 3         \\\\\n",
       "\t 11112      & Sara       & 66666666   & 43         & 1111111112 & 11115      & 125        & 5         \\\\\n",
       "\t 11112      & Sara       & 66666666   & 43         & 1111111113 & 11114      & 121        & 1         \\\\\n",
       "\t 11112      & Sara       & 66666666   & 43         & 1111111114 & 11113      & 124        & 1         \\\\\n",
       "\t 11112      & Sara       & 66666666   & 43         & 1111111115 & 11115      & 125        & 3         \\\\\n",
       "\t 11112      & Sara       & 66666666   & 43         & 1111111116 & 11113      & 119        & 2         \\\\\n",
       "\t 11112      & Sara       & 66666666   & 43         & 1111111117 & 11112      & 125        & 4         \\\\\n",
       "\t 11112      & Sara       & 66666666   & 43         & 1111111118 & 11112      & 120        & 3         \\\\\n",
       "\t 11112      & Sara       & 66666666   & 43         & 1111111119 & 11111      & 122        & 2         \\\\\n",
       "\t 11112      & Sara       & 66666666   & 43         & 1111111120 & 11114      & 123        & 4         \\\\\n",
       "\t 11112      & Sara       & 66666666   & 43         & 1111111121 & 11111      & 124        & 4         \\\\\n",
       "\t 11112      & Sara       & 66666666   & 43         & 1111111122 & 11114      & 129        & 1         \\\\\n",
       "\t 11112      & Sara       & 66666666   & 43         & 1111111123 & 11111      & 124        & 2         \\\\\n",
       "\t 11112      & Sara       & 66666666   & 43         & 1111111124 & 11113      & 126        & 2         \\\\\n",
       "\t 11112      & Sara       & 66666666   & 43         & 1111111125 & 11113      & 129        & 3         \\\\\n",
       "\t 11112      & Sara       & 66666666   & 43         & 1111111126 & 11115      & 126        & 5         \\\\\n",
       "\t 11112      & Sara       & 66666666   & 43         & 1111111127 & 11111      & 128        & 5         \\\\\n",
       "\t 11112      & Sara       & 66666666   & 43         & 1111111128 & 11115      & 129        & 4         \\\\\n",
       "\t 11112      & Sara       & 66666666   & 43         & 1111111129 & 11115      & 111        & 3         \\\\\n",
       "\t 11112      & Sara       & 66666666   & 43         & 1111111130 & 11115      & 125        & 4         \\\\\n",
       "\t 11112      & Sara       & 66666666   & 43         & 1111111131 & 11111      & 123        & 1         \\\\\n",
       "\t 11112      & Sara       & 66666666   & 43         & 1111111132 & 11115      & 112        & 4         \\\\\n",
       "\t 11112      & Sara       & 66666666   & 43         & 1111111133 & 11111      & 114        & 4         \\\\\n",
       "\t 11112      & Sara       & 66666666   & 43         & 1111111134 & 11114      & 123        & 2         \\\\\n",
       "\t 11112      & Sara       & 66666666   & 43         & 1111111135 & 11111      & 124        & 2         \\\\\n",
       "\t 11112      & Sara       & 66666666   & 43         & 1111111136 & 11113      & 113        & 3         \\\\\n",
       "\t 11112      & Sara       & 66666666   & 43         & 1111111137 & 11111      & 120        & 1         \\\\\n",
       "\t 11112      & Sara       & 66666666   & 43         & 1111111138 & 11115      & 126        & 5         \\\\\n",
       "\t 11112      & Sara       & 66666666   & 43         & 1111111139 & 11111      & 122        & 3         \\\\\n",
       "\t 11112      & Sara       & 66666666   & 43         & 1111111140 & 11120      & 222        & 3         \\\\\n",
       "\t ... & ... & ... & ... & ... & ... & ... & ...\\\\\n",
       "\t 11116      & Ludovic    & 77777777   & 43         & 1111111111 & 11113      & 123        & 3         \\\\\n",
       "\t 11116      & Ludovic    & 77777777   & 43         & 1111111112 & 11115      & 125        & 5         \\\\\n",
       "\t 11116      & Ludovic    & 77777777   & 43         & 1111111113 & 11114      & 121        & 1         \\\\\n",
       "\t 11116      & Ludovic    & 77777777   & 43         & 1111111114 & 11113      & 124        & 1         \\\\\n",
       "\t 11116      & Ludovic    & 77777777   & 43         & 1111111115 & 11115      & 125        & 3         \\\\\n",
       "\t 11116      & Ludovic    & 77777777   & 43         & 1111111116 & 11113      & 119        & 2         \\\\\n",
       "\t 11116      & Ludovic    & 77777777   & 43         & 1111111117 & 11112      & 125        & 4         \\\\\n",
       "\t 11116      & Ludovic    & 77777777   & 43         & 1111111118 & 11112      & 120        & 3         \\\\\n",
       "\t 11116      & Ludovic    & 77777777   & 43         & 1111111119 & 11111      & 122        & 2         \\\\\n",
       "\t 11116      & Ludovic    & 77777777   & 43         & 1111111120 & 11114      & 123        & 4         \\\\\n",
       "\t 11116      & Ludovic    & 77777777   & 43         & 1111111121 & 11111      & 124        & 4         \\\\\n",
       "\t 11116      & Ludovic    & 77777777   & 43         & 1111111122 & 11114      & 129        & 1         \\\\\n",
       "\t 11116      & Ludovic    & 77777777   & 43         & 1111111123 & 11111      & 124        & 2         \\\\\n",
       "\t 11116      & Ludovic    & 77777777   & 43         & 1111111124 & 11113      & 126        & 2         \\\\\n",
       "\t 11116      & Ludovic    & 77777777   & 43         & 1111111125 & 11113      & 129        & 3         \\\\\n",
       "\t 11116      & Ludovic    & 77777777   & 43         & 1111111126 & 11115      & 126        & 5         \\\\\n",
       "\t 11116      & Ludovic    & 77777777   & 43         & 1111111127 & 11111      & 128        & 5         \\\\\n",
       "\t 11116      & Ludovic    & 77777777   & 43         & 1111111128 & 11115      & 129        & 4         \\\\\n",
       "\t 11116      & Ludovic    & 77777777   & 43         & 1111111129 & 11115      & 111        & 3         \\\\\n",
       "\t 11116      & Ludovic    & 77777777   & 43         & 1111111130 & 11115      & 125        & 4         \\\\\n",
       "\t 11116      & Ludovic    & 77777777   & 43         & 1111111131 & 11111      & 123        & 1         \\\\\n",
       "\t 11116      & Ludovic    & 77777777   & 43         & 1111111132 & 11115      & 112        & 4         \\\\\n",
       "\t 11116      & Ludovic    & 77777777   & 43         & 1111111133 & 11111      & 114        & 4         \\\\\n",
       "\t 11116      & Ludovic    & 77777777   & 43         & 1111111134 & 11114      & 123        & 2         \\\\\n",
       "\t 11116      & Ludovic    & 77777777   & 43         & 1111111135 & 11111      & 124        & 2         \\\\\n",
       "\t 11116      & Ludovic    & 77777777   & 43         & 1111111136 & 11113      & 113        & 3         \\\\\n",
       "\t 11116      & Ludovic    & 77777777   & 43         & 1111111137 & 11111      & 120        & 1         \\\\\n",
       "\t 11116      & Ludovic    & 77777777   & 43         & 1111111138 & 11115      & 126        & 5         \\\\\n",
       "\t 11116      & Ludovic    & 77777777   & 43         & 1111111139 & 11111      & 122        & 3         \\\\\n",
       "\t 11116      & Ludovic    & 77777777   & 43         & 1111111140 & 11120      & 222        & 3         \\\\\n",
       "\\end{tabular}\n"
      ],
      "text/markdown": [
       "\n",
       "customer_id | customer_name | customer_phone | age | order_id | order_customer_id | order_product_id | order_product_count | \n",
       "|---|---|---|---|---|---|---|---|---|---|---|---|---|---|---|---|---|---|---|---|---|---|---|---|---|---|---|---|---|---|---|---|---|---|---|---|---|---|---|---|---|---|---|---|---|---|---|---|---|---|---|---|---|---|---|---|---|---|---|---|---|\n",
       "| 11112      | Sara       | 66666666   | 43         | 1111111111 | 11113      | 123        | 3          | \n",
       "| 11112      | Sara       | 66666666   | 43         | 1111111112 | 11115      | 125        | 5          | \n",
       "| 11112      | Sara       | 66666666   | 43         | 1111111113 | 11114      | 121        | 1          | \n",
       "| 11112      | Sara       | 66666666   | 43         | 1111111114 | 11113      | 124        | 1          | \n",
       "| 11112      | Sara       | 66666666   | 43         | 1111111115 | 11115      | 125        | 3          | \n",
       "| 11112      | Sara       | 66666666   | 43         | 1111111116 | 11113      | 119        | 2          | \n",
       "| 11112      | Sara       | 66666666   | 43         | 1111111117 | 11112      | 125        | 4          | \n",
       "| 11112      | Sara       | 66666666   | 43         | 1111111118 | 11112      | 120        | 3          | \n",
       "| 11112      | Sara       | 66666666   | 43         | 1111111119 | 11111      | 122        | 2          | \n",
       "| 11112      | Sara       | 66666666   | 43         | 1111111120 | 11114      | 123        | 4          | \n",
       "| 11112      | Sara       | 66666666   | 43         | 1111111121 | 11111      | 124        | 4          | \n",
       "| 11112      | Sara       | 66666666   | 43         | 1111111122 | 11114      | 129        | 1          | \n",
       "| 11112      | Sara       | 66666666   | 43         | 1111111123 | 11111      | 124        | 2          | \n",
       "| 11112      | Sara       | 66666666   | 43         | 1111111124 | 11113      | 126        | 2          | \n",
       "| 11112      | Sara       | 66666666   | 43         | 1111111125 | 11113      | 129        | 3          | \n",
       "| 11112      | Sara       | 66666666   | 43         | 1111111126 | 11115      | 126        | 5          | \n",
       "| 11112      | Sara       | 66666666   | 43         | 1111111127 | 11111      | 128        | 5          | \n",
       "| 11112      | Sara       | 66666666   | 43         | 1111111128 | 11115      | 129        | 4          | \n",
       "| 11112      | Sara       | 66666666   | 43         | 1111111129 | 11115      | 111        | 3          | \n",
       "| 11112      | Sara       | 66666666   | 43         | 1111111130 | 11115      | 125        | 4          | \n",
       "| 11112      | Sara       | 66666666   | 43         | 1111111131 | 11111      | 123        | 1          | \n",
       "| 11112      | Sara       | 66666666   | 43         | 1111111132 | 11115      | 112        | 4          | \n",
       "| 11112      | Sara       | 66666666   | 43         | 1111111133 | 11111      | 114        | 4          | \n",
       "| 11112      | Sara       | 66666666   | 43         | 1111111134 | 11114      | 123        | 2          | \n",
       "| 11112      | Sara       | 66666666   | 43         | 1111111135 | 11111      | 124        | 2          | \n",
       "| 11112      | Sara       | 66666666   | 43         | 1111111136 | 11113      | 113        | 3          | \n",
       "| 11112      | Sara       | 66666666   | 43         | 1111111137 | 11111      | 120        | 1          | \n",
       "| 11112      | Sara       | 66666666   | 43         | 1111111138 | 11115      | 126        | 5          | \n",
       "| 11112      | Sara       | 66666666   | 43         | 1111111139 | 11111      | 122        | 3          | \n",
       "| 11112      | Sara       | 66666666   | 43         | 1111111140 | 11120      | 222        | 3          | \n",
       "| ... | ... | ... | ... | ... | ... | ... | ... | \n",
       "| 11116      | Ludovic    | 77777777   | 43         | 1111111111 | 11113      | 123        | 3          | \n",
       "| 11116      | Ludovic    | 77777777   | 43         | 1111111112 | 11115      | 125        | 5          | \n",
       "| 11116      | Ludovic    | 77777777   | 43         | 1111111113 | 11114      | 121        | 1          | \n",
       "| 11116      | Ludovic    | 77777777   | 43         | 1111111114 | 11113      | 124        | 1          | \n",
       "| 11116      | Ludovic    | 77777777   | 43         | 1111111115 | 11115      | 125        | 3          | \n",
       "| 11116      | Ludovic    | 77777777   | 43         | 1111111116 | 11113      | 119        | 2          | \n",
       "| 11116      | Ludovic    | 77777777   | 43         | 1111111117 | 11112      | 125        | 4          | \n",
       "| 11116      | Ludovic    | 77777777   | 43         | 1111111118 | 11112      | 120        | 3          | \n",
       "| 11116      | Ludovic    | 77777777   | 43         | 1111111119 | 11111      | 122        | 2          | \n",
       "| 11116      | Ludovic    | 77777777   | 43         | 1111111120 | 11114      | 123        | 4          | \n",
       "| 11116      | Ludovic    | 77777777   | 43         | 1111111121 | 11111      | 124        | 4          | \n",
       "| 11116      | Ludovic    | 77777777   | 43         | 1111111122 | 11114      | 129        | 1          | \n",
       "| 11116      | Ludovic    | 77777777   | 43         | 1111111123 | 11111      | 124        | 2          | \n",
       "| 11116      | Ludovic    | 77777777   | 43         | 1111111124 | 11113      | 126        | 2          | \n",
       "| 11116      | Ludovic    | 77777777   | 43         | 1111111125 | 11113      | 129        | 3          | \n",
       "| 11116      | Ludovic    | 77777777   | 43         | 1111111126 | 11115      | 126        | 5          | \n",
       "| 11116      | Ludovic    | 77777777   | 43         | 1111111127 | 11111      | 128        | 5          | \n",
       "| 11116      | Ludovic    | 77777777   | 43         | 1111111128 | 11115      | 129        | 4          | \n",
       "| 11116      | Ludovic    | 77777777   | 43         | 1111111129 | 11115      | 111        | 3          | \n",
       "| 11116      | Ludovic    | 77777777   | 43         | 1111111130 | 11115      | 125        | 4          | \n",
       "| 11116      | Ludovic    | 77777777   | 43         | 1111111131 | 11111      | 123        | 1          | \n",
       "| 11116      | Ludovic    | 77777777   | 43         | 1111111132 | 11115      | 112        | 4          | \n",
       "| 11116      | Ludovic    | 77777777   | 43         | 1111111133 | 11111      | 114        | 4          | \n",
       "| 11116      | Ludovic    | 77777777   | 43         | 1111111134 | 11114      | 123        | 2          | \n",
       "| 11116      | Ludovic    | 77777777   | 43         | 1111111135 | 11111      | 124        | 2          | \n",
       "| 11116      | Ludovic    | 77777777   | 43         | 1111111136 | 11113      | 113        | 3          | \n",
       "| 11116      | Ludovic    | 77777777   | 43         | 1111111137 | 11111      | 120        | 1          | \n",
       "| 11116      | Ludovic    | 77777777   | 43         | 1111111138 | 11115      | 126        | 5          | \n",
       "| 11116      | Ludovic    | 77777777   | 43         | 1111111139 | 11111      | 122        | 3          | \n",
       "| 11116      | Ludovic    | 77777777   | 43         | 1111111140 | 11120      | 222        | 3          | \n",
       "\n",
       "\n"
      ],
      "text/plain": [
       "    customer_id customer_name customer_phone age order_id   order_customer_id\n",
       "1   11112       Sara          66666666       43  1111111111 11113            \n",
       "2   11112       Sara          66666666       43  1111111112 11115            \n",
       "3   11112       Sara          66666666       43  1111111113 11114            \n",
       "4   11112       Sara          66666666       43  1111111114 11113            \n",
       "5   11112       Sara          66666666       43  1111111115 11115            \n",
       "6   11112       Sara          66666666       43  1111111116 11113            \n",
       "7   11112       Sara          66666666       43  1111111117 11112            \n",
       "8   11112       Sara          66666666       43  1111111118 11112            \n",
       "9   11112       Sara          66666666       43  1111111119 11111            \n",
       "10  11112       Sara          66666666       43  1111111120 11114            \n",
       "11  11112       Sara          66666666       43  1111111121 11111            \n",
       "12  11112       Sara          66666666       43  1111111122 11114            \n",
       "13  11112       Sara          66666666       43  1111111123 11111            \n",
       "14  11112       Sara          66666666       43  1111111124 11113            \n",
       "15  11112       Sara          66666666       43  1111111125 11113            \n",
       "16  11112       Sara          66666666       43  1111111126 11115            \n",
       "17  11112       Sara          66666666       43  1111111127 11111            \n",
       "18  11112       Sara          66666666       43  1111111128 11115            \n",
       "19  11112       Sara          66666666       43  1111111129 11115            \n",
       "20  11112       Sara          66666666       43  1111111130 11115            \n",
       "21  11112       Sara          66666666       43  1111111131 11111            \n",
       "22  11112       Sara          66666666       43  1111111132 11115            \n",
       "23  11112       Sara          66666666       43  1111111133 11111            \n",
       "24  11112       Sara          66666666       43  1111111134 11114            \n",
       "25  11112       Sara          66666666       43  1111111135 11111            \n",
       "26  11112       Sara          66666666       43  1111111136 11113            \n",
       "27  11112       Sara          66666666       43  1111111137 11111            \n",
       "28  11112       Sara          66666666       43  1111111138 11115            \n",
       "29  11112       Sara          66666666       43  1111111139 11111            \n",
       "30  11112       Sara          66666666       43  1111111140 11120            \n",
       "... ...         ...           ...            ... ...        ...              \n",
       "121 11116       Ludovic       77777777       43  1111111111 11113            \n",
       "122 11116       Ludovic       77777777       43  1111111112 11115            \n",
       "123 11116       Ludovic       77777777       43  1111111113 11114            \n",
       "124 11116       Ludovic       77777777       43  1111111114 11113            \n",
       "125 11116       Ludovic       77777777       43  1111111115 11115            \n",
       "126 11116       Ludovic       77777777       43  1111111116 11113            \n",
       "127 11116       Ludovic       77777777       43  1111111117 11112            \n",
       "128 11116       Ludovic       77777777       43  1111111118 11112            \n",
       "129 11116       Ludovic       77777777       43  1111111119 11111            \n",
       "130 11116       Ludovic       77777777       43  1111111120 11114            \n",
       "131 11116       Ludovic       77777777       43  1111111121 11111            \n",
       "132 11116       Ludovic       77777777       43  1111111122 11114            \n",
       "133 11116       Ludovic       77777777       43  1111111123 11111            \n",
       "134 11116       Ludovic       77777777       43  1111111124 11113            \n",
       "135 11116       Ludovic       77777777       43  1111111125 11113            \n",
       "136 11116       Ludovic       77777777       43  1111111126 11115            \n",
       "137 11116       Ludovic       77777777       43  1111111127 11111            \n",
       "138 11116       Ludovic       77777777       43  1111111128 11115            \n",
       "139 11116       Ludovic       77777777       43  1111111129 11115            \n",
       "140 11116       Ludovic       77777777       43  1111111130 11115            \n",
       "141 11116       Ludovic       77777777       43  1111111131 11111            \n",
       "142 11116       Ludovic       77777777       43  1111111132 11115            \n",
       "143 11116       Ludovic       77777777       43  1111111133 11111            \n",
       "144 11116       Ludovic       77777777       43  1111111134 11114            \n",
       "145 11116       Ludovic       77777777       43  1111111135 11111            \n",
       "146 11116       Ludovic       77777777       43  1111111136 11113            \n",
       "147 11116       Ludovic       77777777       43  1111111137 11111            \n",
       "148 11116       Ludovic       77777777       43  1111111138 11115            \n",
       "149 11116       Ludovic       77777777       43  1111111139 11111            \n",
       "150 11116       Ludovic       77777777       43  1111111140 11120            \n",
       "    order_product_id order_product_count\n",
       "1   123              3                  \n",
       "2   125              5                  \n",
       "3   121              1                  \n",
       "4   124              1                  \n",
       "5   125              3                  \n",
       "6   119              2                  \n",
       "7   125              4                  \n",
       "8   120              3                  \n",
       "9   122              2                  \n",
       "10  123              4                  \n",
       "11  124              4                  \n",
       "12  129              1                  \n",
       "13  124              2                  \n",
       "14  126              2                  \n",
       "15  129              3                  \n",
       "16  126              5                  \n",
       "17  128              5                  \n",
       "18  129              4                  \n",
       "19  111              3                  \n",
       "20  125              4                  \n",
       "21  123              1                  \n",
       "22  112              4                  \n",
       "23  114              4                  \n",
       "24  123              2                  \n",
       "25  124              2                  \n",
       "26  113              3                  \n",
       "27  120              1                  \n",
       "28  126              5                  \n",
       "29  122              3                  \n",
       "30  222              3                  \n",
       "... ...              ...                \n",
       "121 123              3                  \n",
       "122 125              5                  \n",
       "123 121              1                  \n",
       "124 124              1                  \n",
       "125 125              3                  \n",
       "126 119              2                  \n",
       "127 125              4                  \n",
       "128 120              3                  \n",
       "129 122              2                  \n",
       "130 123              4                  \n",
       "131 124              4                  \n",
       "132 129              1                  \n",
       "133 124              2                  \n",
       "134 126              2                  \n",
       "135 129              3                  \n",
       "136 126              5                  \n",
       "137 128              5                  \n",
       "138 129              4                  \n",
       "139 111              3                  \n",
       "140 125              4                  \n",
       "141 123              1                  \n",
       "142 112              4                  \n",
       "143 114              4                  \n",
       "144 123              2                  \n",
       "145 124              2                  \n",
       "146 113              3                  \n",
       "147 120              1                  \n",
       "148 126              5                  \n",
       "149 122              3                  \n",
       "150 222              3                  "
      ]
     },
     "metadata": {},
     "output_type": "display_data"
    }
   ],
   "source": [
    "dbGetQuery(db2, 'SELECT * FROM customer LEFT OUTER JOIN \"order\" WHERE customer_name != \"Tom\"')"
   ]
  },
  {
   "cell_type": "code",
   "execution_count": 79,
   "metadata": {},
   "outputs": [
    {
     "data": {
      "text/html": [
       "<table>\n",
       "<thead><tr><th scope=col>customer_id</th><th scope=col>customer_name</th><th scope=col>customer_phone</th><th scope=col>order_id</th><th scope=col>order_customer_id</th><th scope=col>order_product_id</th><th scope=col>order_product_count</th></tr></thead>\n",
       "<tbody>\n",
       "\t<tr><td>11112     </td><td>Sara      </td><td>66666666  </td><td>1111111117</td><td>11112     </td><td>125       </td><td>4         </td></tr>\n",
       "\t<tr><td>11112     </td><td>Sara      </td><td>66666666  </td><td>1111111118</td><td>11112     </td><td>120       </td><td>3         </td></tr>\n",
       "\t<tr><td>11113     </td><td>Negar     </td><td>33333333  </td><td>1111111111</td><td>11113     </td><td>123       </td><td>3         </td></tr>\n",
       "\t<tr><td>11113     </td><td>Negar     </td><td>33333333  </td><td>1111111114</td><td>11113     </td><td>124       </td><td>1         </td></tr>\n",
       "\t<tr><td>11113     </td><td>Negar     </td><td>33333333  </td><td>1111111116</td><td>11113     </td><td>119       </td><td>2         </td></tr>\n",
       "\t<tr><td>11113     </td><td>Negar     </td><td>33333333  </td><td>1111111124</td><td>11113     </td><td>126       </td><td>2         </td></tr>\n",
       "\t<tr><td>11113     </td><td>Negar     </td><td>33333333  </td><td>1111111125</td><td>11113     </td><td>129       </td><td>3         </td></tr>\n",
       "\t<tr><td>11113     </td><td>Negar     </td><td>33333333  </td><td>1111111136</td><td>11113     </td><td>113       </td><td>3         </td></tr>\n",
       "\t<tr><td>11114     </td><td>John      </td><td>88888888  </td><td>1111111113</td><td>11114     </td><td>121       </td><td>1         </td></tr>\n",
       "\t<tr><td>11114     </td><td>John      </td><td>88888888  </td><td>1111111120</td><td>11114     </td><td>123       </td><td>4         </td></tr>\n",
       "\t<tr><td>11114     </td><td>John      </td><td>88888888  </td><td>1111111122</td><td>11114     </td><td>129       </td><td>1         </td></tr>\n",
       "\t<tr><td>11114     </td><td>John      </td><td>88888888  </td><td>1111111134</td><td>11114     </td><td>123       </td><td>2         </td></tr>\n",
       "\t<tr><td>11115     </td><td>David     </td><td>44444444  </td><td>1111111112</td><td>11115     </td><td>125       </td><td>5         </td></tr>\n",
       "\t<tr><td>11115     </td><td>David     </td><td>44444444  </td><td>1111111115</td><td>11115     </td><td>125       </td><td>3         </td></tr>\n",
       "\t<tr><td>11115     </td><td>David     </td><td>44444444  </td><td>1111111126</td><td>11115     </td><td>126       </td><td>5         </td></tr>\n",
       "\t<tr><td>11115     </td><td>David     </td><td>44444444  </td><td>1111111128</td><td>11115     </td><td>129       </td><td>4         </td></tr>\n",
       "\t<tr><td>11115     </td><td>David     </td><td>44444444  </td><td>1111111129</td><td>11115     </td><td>111       </td><td>3         </td></tr>\n",
       "\t<tr><td>11115     </td><td>David     </td><td>44444444  </td><td>1111111130</td><td>11115     </td><td>125       </td><td>4         </td></tr>\n",
       "\t<tr><td>11115     </td><td>David     </td><td>44444444  </td><td>1111111132</td><td>11115     </td><td>112       </td><td>4         </td></tr>\n",
       "\t<tr><td>11115     </td><td>David     </td><td>44444444  </td><td>1111111138</td><td>11115     </td><td>126       </td><td>5         </td></tr>\n",
       "</tbody>\n",
       "</table>\n"
      ],
      "text/latex": [
       "\\begin{tabular}{r|lllllll}\n",
       " customer\\_id & customer\\_name & customer\\_phone & order\\_id & order\\_customer\\_id & order\\_product\\_id & order\\_product\\_count\\\\\n",
       "\\hline\n",
       "\t 11112      & Sara       & 66666666   & 1111111117 & 11112      & 125        & 4         \\\\\n",
       "\t 11112      & Sara       & 66666666   & 1111111118 & 11112      & 120        & 3         \\\\\n",
       "\t 11113      & Negar      & 33333333   & 1111111111 & 11113      & 123        & 3         \\\\\n",
       "\t 11113      & Negar      & 33333333   & 1111111114 & 11113      & 124        & 1         \\\\\n",
       "\t 11113      & Negar      & 33333333   & 1111111116 & 11113      & 119        & 2         \\\\\n",
       "\t 11113      & Negar      & 33333333   & 1111111124 & 11113      & 126        & 2         \\\\\n",
       "\t 11113      & Negar      & 33333333   & 1111111125 & 11113      & 129        & 3         \\\\\n",
       "\t 11113      & Negar      & 33333333   & 1111111136 & 11113      & 113        & 3         \\\\\n",
       "\t 11114      & John       & 88888888   & 1111111113 & 11114      & 121        & 1         \\\\\n",
       "\t 11114      & John       & 88888888   & 1111111120 & 11114      & 123        & 4         \\\\\n",
       "\t 11114      & John       & 88888888   & 1111111122 & 11114      & 129        & 1         \\\\\n",
       "\t 11114      & John       & 88888888   & 1111111134 & 11114      & 123        & 2         \\\\\n",
       "\t 11115      & David      & 44444444   & 1111111112 & 11115      & 125        & 5         \\\\\n",
       "\t 11115      & David      & 44444444   & 1111111115 & 11115      & 125        & 3         \\\\\n",
       "\t 11115      & David      & 44444444   & 1111111126 & 11115      & 126        & 5         \\\\\n",
       "\t 11115      & David      & 44444444   & 1111111128 & 11115      & 129        & 4         \\\\\n",
       "\t 11115      & David      & 44444444   & 1111111129 & 11115      & 111        & 3         \\\\\n",
       "\t 11115      & David      & 44444444   & 1111111130 & 11115      & 125        & 4         \\\\\n",
       "\t 11115      & David      & 44444444   & 1111111132 & 11115      & 112        & 4         \\\\\n",
       "\t 11115      & David      & 44444444   & 1111111138 & 11115      & 126        & 5         \\\\\n",
       "\\end{tabular}\n"
      ],
      "text/markdown": [
       "\n",
       "customer_id | customer_name | customer_phone | order_id | order_customer_id | order_product_id | order_product_count | \n",
       "|---|---|---|---|---|---|---|---|---|---|---|---|---|---|---|---|---|---|---|---|\n",
       "| 11112      | Sara       | 66666666   | 1111111117 | 11112      | 125        | 4          | \n",
       "| 11112      | Sara       | 66666666   | 1111111118 | 11112      | 120        | 3          | \n",
       "| 11113      | Negar      | 33333333   | 1111111111 | 11113      | 123        | 3          | \n",
       "| 11113      | Negar      | 33333333   | 1111111114 | 11113      | 124        | 1          | \n",
       "| 11113      | Negar      | 33333333   | 1111111116 | 11113      | 119        | 2          | \n",
       "| 11113      | Negar      | 33333333   | 1111111124 | 11113      | 126        | 2          | \n",
       "| 11113      | Negar      | 33333333   | 1111111125 | 11113      | 129        | 3          | \n",
       "| 11113      | Negar      | 33333333   | 1111111136 | 11113      | 113        | 3          | \n",
       "| 11114      | John       | 88888888   | 1111111113 | 11114      | 121        | 1          | \n",
       "| 11114      | John       | 88888888   | 1111111120 | 11114      | 123        | 4          | \n",
       "| 11114      | John       | 88888888   | 1111111122 | 11114      | 129        | 1          | \n",
       "| 11114      | John       | 88888888   | 1111111134 | 11114      | 123        | 2          | \n",
       "| 11115      | David      | 44444444   | 1111111112 | 11115      | 125        | 5          | \n",
       "| 11115      | David      | 44444444   | 1111111115 | 11115      | 125        | 3          | \n",
       "| 11115      | David      | 44444444   | 1111111126 | 11115      | 126        | 5          | \n",
       "| 11115      | David      | 44444444   | 1111111128 | 11115      | 129        | 4          | \n",
       "| 11115      | David      | 44444444   | 1111111129 | 11115      | 111        | 3          | \n",
       "| 11115      | David      | 44444444   | 1111111130 | 11115      | 125        | 4          | \n",
       "| 11115      | David      | 44444444   | 1111111132 | 11115      | 112        | 4          | \n",
       "| 11115      | David      | 44444444   | 1111111138 | 11115      | 126        | 5          | \n",
       "\n",
       "\n"
      ],
      "text/plain": [
       "   customer_id customer_name customer_phone order_id   order_customer_id\n",
       "1  11112       Sara          66666666       1111111117 11112            \n",
       "2  11112       Sara          66666666       1111111118 11112            \n",
       "3  11113       Negar         33333333       1111111111 11113            \n",
       "4  11113       Negar         33333333       1111111114 11113            \n",
       "5  11113       Negar         33333333       1111111116 11113            \n",
       "6  11113       Negar         33333333       1111111124 11113            \n",
       "7  11113       Negar         33333333       1111111125 11113            \n",
       "8  11113       Negar         33333333       1111111136 11113            \n",
       "9  11114       John          88888888       1111111113 11114            \n",
       "10 11114       John          88888888       1111111120 11114            \n",
       "11 11114       John          88888888       1111111122 11114            \n",
       "12 11114       John          88888888       1111111134 11114            \n",
       "13 11115       David         44444444       1111111112 11115            \n",
       "14 11115       David         44444444       1111111115 11115            \n",
       "15 11115       David         44444444       1111111126 11115            \n",
       "16 11115       David         44444444       1111111128 11115            \n",
       "17 11115       David         44444444       1111111129 11115            \n",
       "18 11115       David         44444444       1111111130 11115            \n",
       "19 11115       David         44444444       1111111132 11115            \n",
       "20 11115       David         44444444       1111111138 11115            \n",
       "   order_product_id order_product_count\n",
       "1  125              4                  \n",
       "2  120              3                  \n",
       "3  123              3                  \n",
       "4  124              1                  \n",
       "5  119              2                  \n",
       "6  126              2                  \n",
       "7  129              3                  \n",
       "8  113              3                  \n",
       "9  121              1                  \n",
       "10 123              4                  \n",
       "11 129              1                  \n",
       "12 123              2                  \n",
       "13 125              5                  \n",
       "14 125              3                  \n",
       "15 126              5                  \n",
       "16 129              4                  \n",
       "17 111              3                  \n",
       "18 125              4                  \n",
       "19 112              4                  \n",
       "20 126              5                  "
      ]
     },
     "metadata": {},
     "output_type": "display_data"
    }
   ],
   "source": [
    "dbGetQuery(db1, 'SELECT * FROM customer INNER JOIN \"order\" \n",
    "WHERE customer_id=order_customer_id AND customer_name != \"Tom\"')"
   ]
  },
  {
   "cell_type": "code",
   "execution_count": 157,
   "metadata": {},
   "outputs": [
    {
     "data": {
      "text/html": [
       "<table>\n",
       "<thead><tr><th scope=col>SaleAvg</th><th scope=col>order_product_id</th></tr></thead>\n",
       "<tbody>\n",
       "\t<tr><td>3.000000</td><td>111     </td></tr>\n",
       "\t<tr><td>4.000000</td><td>112     </td></tr>\n",
       "\t<tr><td>3.000000</td><td>113     </td></tr>\n",
       "\t<tr><td>4.000000</td><td>114     </td></tr>\n",
       "\t<tr><td>2.000000</td><td>119     </td></tr>\n",
       "\t<tr><td>2.000000</td><td>120     </td></tr>\n",
       "\t<tr><td>1.000000</td><td>121     </td></tr>\n",
       "\t<tr><td>2.500000</td><td>122     </td></tr>\n",
       "\t<tr><td>2.500000</td><td>123     </td></tr>\n",
       "\t<tr><td>2.250000</td><td>124     </td></tr>\n",
       "\t<tr><td>4.000000</td><td>125     </td></tr>\n",
       "\t<tr><td>4.000000</td><td>126     </td></tr>\n",
       "\t<tr><td>5.000000</td><td>128     </td></tr>\n",
       "\t<tr><td>2.666667</td><td>129     </td></tr>\n",
       "\t<tr><td>3.000000</td><td>222     </td></tr>\n",
       "</tbody>\n",
       "</table>\n"
      ],
      "text/latex": [
       "\\begin{tabular}{r|ll}\n",
       " SaleAvg & order\\_product\\_id\\\\\n",
       "\\hline\n",
       "\t 3.000000 & 111     \\\\\n",
       "\t 4.000000 & 112     \\\\\n",
       "\t 3.000000 & 113     \\\\\n",
       "\t 4.000000 & 114     \\\\\n",
       "\t 2.000000 & 119     \\\\\n",
       "\t 2.000000 & 120     \\\\\n",
       "\t 1.000000 & 121     \\\\\n",
       "\t 2.500000 & 122     \\\\\n",
       "\t 2.500000 & 123     \\\\\n",
       "\t 2.250000 & 124     \\\\\n",
       "\t 4.000000 & 125     \\\\\n",
       "\t 4.000000 & 126     \\\\\n",
       "\t 5.000000 & 128     \\\\\n",
       "\t 2.666667 & 129     \\\\\n",
       "\t 3.000000 & 222     \\\\\n",
       "\\end{tabular}\n"
      ],
      "text/markdown": [
       "\n",
       "SaleAvg | order_product_id | \n",
       "|---|---|---|---|---|---|---|---|---|---|---|---|---|---|---|\n",
       "| 3.000000 | 111      | \n",
       "| 4.000000 | 112      | \n",
       "| 3.000000 | 113      | \n",
       "| 4.000000 | 114      | \n",
       "| 2.000000 | 119      | \n",
       "| 2.000000 | 120      | \n",
       "| 1.000000 | 121      | \n",
       "| 2.500000 | 122      | \n",
       "| 2.500000 | 123      | \n",
       "| 2.250000 | 124      | \n",
       "| 4.000000 | 125      | \n",
       "| 4.000000 | 126      | \n",
       "| 5.000000 | 128      | \n",
       "| 2.666667 | 129      | \n",
       "| 3.000000 | 222      | \n",
       "\n",
       "\n"
      ],
      "text/plain": [
       "   SaleAvg  order_product_id\n",
       "1  3.000000 111             \n",
       "2  4.000000 112             \n",
       "3  3.000000 113             \n",
       "4  4.000000 114             \n",
       "5  2.000000 119             \n",
       "6  2.000000 120             \n",
       "7  1.000000 121             \n",
       "8  2.500000 122             \n",
       "9  2.500000 123             \n",
       "10 2.250000 124             \n",
       "11 4.000000 125             \n",
       "12 4.000000 126             \n",
       "13 5.000000 128             \n",
       "14 2.666667 129             \n",
       "15 3.000000 222             "
      ]
     },
     "metadata": {},
     "output_type": "display_data"
    },
    {
     "data": {
      "text/html": [
       "2.96666666666667"
      ],
      "text/latex": [
       "2.96666666666667"
      ],
      "text/markdown": [
       "2.96666666666667"
      ],
      "text/plain": [
       "[1] 2.966667"
      ]
     },
     "metadata": {},
     "output_type": "display_data"
    },
    {
     "data": {
      "text/html": [
       "<table>\n",
       "<thead><tr><th></th><th scope=col>SaleAvg</th><th scope=col>order_product_id</th></tr></thead>\n",
       "<tbody>\n",
       "\t<tr><th scope=row>5</th><td>2.000000</td><td>119     </td></tr>\n",
       "\t<tr><th scope=row>6</th><td>2.000000</td><td>120     </td></tr>\n",
       "\t<tr><th scope=row>7</th><td>1.000000</td><td>121     </td></tr>\n",
       "\t<tr><th scope=row>8</th><td>2.500000</td><td>122     </td></tr>\n",
       "\t<tr><th scope=row>9</th><td>2.500000</td><td>123     </td></tr>\n",
       "\t<tr><th scope=row>10</th><td>2.250000</td><td>124     </td></tr>\n",
       "\t<tr><th scope=row>14</th><td>2.666667</td><td>129     </td></tr>\n",
       "</tbody>\n",
       "</table>\n"
      ],
      "text/latex": [
       "\\begin{tabular}{r|ll}\n",
       "  & SaleAvg & order\\_product\\_id\\\\\n",
       "\\hline\n",
       "\t5 & 2.000000 & 119     \\\\\n",
       "\t6 & 2.000000 & 120     \\\\\n",
       "\t7 & 1.000000 & 121     \\\\\n",
       "\t8 & 2.500000 & 122     \\\\\n",
       "\t9 & 2.500000 & 123     \\\\\n",
       "\t10 & 2.250000 & 124     \\\\\n",
       "\t14 & 2.666667 & 129     \\\\\n",
       "\\end{tabular}\n"
      ],
      "text/markdown": [
       "\n",
       "| <!--/--> | SaleAvg | order_product_id | \n",
       "|---|---|---|---|---|---|---|\n",
       "| 5 | 2.000000 | 119      | \n",
       "| 6 | 2.000000 | 120      | \n",
       "| 7 | 1.000000 | 121      | \n",
       "| 8 | 2.500000 | 122      | \n",
       "| 9 | 2.500000 | 123      | \n",
       "| 10 | 2.250000 | 124      | \n",
       "| 14 | 2.666667 | 129      | \n",
       "\n",
       "\n"
      ],
      "text/plain": [
       "   SaleAvg  order_product_id\n",
       "5  2.000000 119             \n",
       "6  2.000000 120             \n",
       "7  1.000000 121             \n",
       "8  2.500000 122             \n",
       "9  2.500000 123             \n",
       "10 2.250000 124             \n",
       "14 2.666667 129             "
      ]
     },
     "metadata": {},
     "output_type": "display_data"
    },
    {
     "data": {
      "text/html": [
       "'============================'"
      ],
      "text/latex": [
       "'============================'"
      ],
      "text/markdown": [
       "'============================'"
      ],
      "text/plain": [
       "[1] \"============================\""
      ]
     },
     "metadata": {},
     "output_type": "display_data"
    },
    {
     "data": {
      "text/html": [
       "<table>\n",
       "<thead><tr><th scope=col>SaleAvg</th><th scope=col>order_product_id</th></tr></thead>\n",
       "<tbody>\n",
       "\t<tr><td>2.000000</td><td>119     </td></tr>\n",
       "\t<tr><td>2.000000</td><td>120     </td></tr>\n",
       "\t<tr><td>1.000000</td><td>121     </td></tr>\n",
       "\t<tr><td>2.500000</td><td>122     </td></tr>\n",
       "\t<tr><td>2.500000</td><td>123     </td></tr>\n",
       "\t<tr><td>2.250000</td><td>124     </td></tr>\n",
       "\t<tr><td>2.666667</td><td>129     </td></tr>\n",
       "</tbody>\n",
       "</table>\n"
      ],
      "text/latex": [
       "\\begin{tabular}{r|ll}\n",
       " SaleAvg & order\\_product\\_id\\\\\n",
       "\\hline\n",
       "\t 2.000000 & 119     \\\\\n",
       "\t 2.000000 & 120     \\\\\n",
       "\t 1.000000 & 121     \\\\\n",
       "\t 2.500000 & 122     \\\\\n",
       "\t 2.500000 & 123     \\\\\n",
       "\t 2.250000 & 124     \\\\\n",
       "\t 2.666667 & 129     \\\\\n",
       "\\end{tabular}\n"
      ],
      "text/markdown": [
       "\n",
       "SaleAvg | order_product_id | \n",
       "|---|---|---|---|---|---|---|\n",
       "| 2.000000 | 119      | \n",
       "| 2.000000 | 120      | \n",
       "| 1.000000 | 121      | \n",
       "| 2.500000 | 122      | \n",
       "| 2.500000 | 123      | \n",
       "| 2.250000 | 124      | \n",
       "| 2.666667 | 129      | \n",
       "\n",
       "\n"
      ],
      "text/plain": [
       "  SaleAvg  order_product_id\n",
       "1 2.000000 119             \n",
       "2 2.000000 120             \n",
       "3 1.000000 121             \n",
       "4 2.500000 122             \n",
       "5 2.500000 123             \n",
       "6 2.250000 124             \n",
       "7 2.666667 129             "
      ]
     },
     "metadata": {},
     "output_type": "display_data"
    },
    {
     "data": {
      "text/html": [
       "'============================'"
      ],
      "text/latex": [
       "'============================'"
      ],
      "text/markdown": [
       "'============================'"
      ],
      "text/plain": [
       "[1] \"============================\""
      ]
     },
     "metadata": {},
     "output_type": "display_data"
    }
   ],
   "source": [
    "sale_avg_grouped = dbGetQuery(db2, \"select avg(order_product_count) SaleAvg, order_product_id \n",
    "                                    from 'order' group by order_product_id\")\n",
    "sale_avg_grouped\n",
    "\n",
    "sale_avg = dbGetQuery(db2, \"select avg(order_product_count) from 'order' \")\n",
    "sale_avg[[1]]\n",
    "\n",
    "sale_avg_grouped[sale_avg_grouped$SaleAvg < sale_avg[[1]],]\n",
    "\n",
    "\n",
    "\"============================\"\n",
    "dbGetQuery(db2, 'select avg(order_product_count) SaleAvg, order_product_id \n",
    "                                    from \"order\" group by order_product_id\n",
    "                                    HAVING SaleAvg < (select avg(order_product_count) from \"order\") ')\n",
    "\"============================\""
   ]
  },
  {
   "cell_type": "code",
   "execution_count": 134,
   "metadata": {},
   "outputs": [
    {
     "data": {
      "text/html": [
       "<table>\n",
       "<thead><tr><th scope=col>customer_id</th><th scope=col>customer_name</th><th scope=col>customer_phone</th><th scope=col>age</th></tr></thead>\n",
       "<tbody>\n",
       "\t<tr><td>11111   </td><td>Tom     </td><td>55555555</td><td>37      </td></tr>\n",
       "\t<tr><td>11112   </td><td>Sara    </td><td>66666666</td><td>43      </td></tr>\n",
       "\t<tr><td>11113   </td><td>Negar   </td><td>33333333</td><td>61      </td></tr>\n",
       "\t<tr><td>11114   </td><td>John    </td><td>88888888</td><td>28      </td></tr>\n",
       "\t<tr><td>11115   </td><td>David   </td><td>44444444</td><td>32      </td></tr>\n",
       "\t<tr><td>11116   </td><td>Ludovic </td><td>77777777</td><td>43      </td></tr>\n",
       "</tbody>\n",
       "</table>\n"
      ],
      "text/latex": [
       "\\begin{tabular}{r|llll}\n",
       " customer\\_id & customer\\_name & customer\\_phone & age\\\\\n",
       "\\hline\n",
       "\t 11111    & Tom      & 55555555 & 37      \\\\\n",
       "\t 11112    & Sara     & 66666666 & 43      \\\\\n",
       "\t 11113    & Negar    & 33333333 & 61      \\\\\n",
       "\t 11114    & John     & 88888888 & 28      \\\\\n",
       "\t 11115    & David    & 44444444 & 32      \\\\\n",
       "\t 11116    & Ludovic  & 77777777 & 43      \\\\\n",
       "\\end{tabular}\n"
      ],
      "text/markdown": [
       "\n",
       "customer_id | customer_name | customer_phone | age | \n",
       "|---|---|---|---|---|---|\n",
       "| 11111    | Tom      | 55555555 | 37       | \n",
       "| 11112    | Sara     | 66666666 | 43       | \n",
       "| 11113    | Negar    | 33333333 | 61       | \n",
       "| 11114    | John     | 88888888 | 28       | \n",
       "| 11115    | David    | 44444444 | 32       | \n",
       "| 11116    | Ludovic  | 77777777 | 43       | \n",
       "\n",
       "\n"
      ],
      "text/plain": [
       "  customer_id customer_name customer_phone age\n",
       "1 11111       Tom           55555555       37 \n",
       "2 11112       Sara          66666666       43 \n",
       "3 11113       Negar         33333333       61 \n",
       "4 11114       John          88888888       28 \n",
       "5 11115       David         44444444       32 \n",
       "6 11116       Ludovic       77777777       43 "
      ]
     },
     "metadata": {},
     "output_type": "display_data"
    }
   ],
   "source": [
    "dbGetQuery(db2, \"select * from customer\")"
   ]
  },
  {
   "cell_type": "code",
   "execution_count": 135,
   "metadata": {},
   "outputs": [
    {
     "data": {
      "text/html": [
       "<table>\n",
       "<thead><tr><th scope=col>customer_id</th><th scope=col>customer_name</th><th scope=col>customer_phone</th><th scope=col>age</th></tr></thead>\n",
       "<tbody>\n",
       "\t<tr><td>11111   </td><td>Tom     </td><td>55555555</td><td>37      </td></tr>\n",
       "\t<tr><td>11114   </td><td>John    </td><td>88888888</td><td>28      </td></tr>\n",
       "\t<tr><td>11115   </td><td>David   </td><td>44444444</td><td>32      </td></tr>\n",
       "</tbody>\n",
       "</table>\n"
      ],
      "text/latex": [
       "\\begin{tabular}{r|llll}\n",
       " customer\\_id & customer\\_name & customer\\_phone & age\\\\\n",
       "\\hline\n",
       "\t 11111    & Tom      & 55555555 & 37      \\\\\n",
       "\t 11114    & John     & 88888888 & 28      \\\\\n",
       "\t 11115    & David    & 44444444 & 32      \\\\\n",
       "\\end{tabular}\n"
      ],
      "text/markdown": [
       "\n",
       "customer_id | customer_name | customer_phone | age | \n",
       "|---|---|---|\n",
       "| 11111    | Tom      | 55555555 | 37       | \n",
       "| 11114    | John     | 88888888 | 28       | \n",
       "| 11115    | David    | 44444444 | 32       | \n",
       "\n",
       "\n"
      ],
      "text/plain": [
       "  customer_id customer_name customer_phone age\n",
       "1 11111       Tom           55555555       37 \n",
       "2 11114       John          88888888       28 \n",
       "3 11115       David         44444444       32 "
      ]
     },
     "metadata": {},
     "output_type": "display_data"
    }
   ],
   "source": [
    "dbGetQuery(db2, \"select * from customer where age < (select avg(age) from customer)\")"
   ]
  }
 ],
 "metadata": {
  "kernelspec": {
   "display_name": "R",
   "language": "R",
   "name": "ir"
  },
  "language_info": {
   "codemirror_mode": "r",
   "file_extension": ".r",
   "mimetype": "text/x-r-source",
   "name": "R",
   "pygments_lexer": "r",
   "version": "3.4.2"
  }
 },
 "nbformat": 4,
 "nbformat_minor": 2
}
